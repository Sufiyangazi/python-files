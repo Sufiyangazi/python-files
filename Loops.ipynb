{
 "cells": [
  {
   "cell_type": "code",
   "execution_count": null,
   "id": "3cedbf51",
   "metadata": {},
   "outputs": [],
   "source": [
    "for i in range(10) :\n",
    "    print(i)"
   ]
  },
  {
   "cell_type": "markdown",
   "id": "3d0a774a",
   "metadata": {},
   "source": [
    "- Pattern 1"
   ]
  },
  {
   "cell_type": "code",
   "execution_count": null,
   "id": "3c268cb4",
   "metadata": {},
   "outputs": [],
   "source": [
    "for i in range(20) :\n",
    "    print(i,end = ' ')"
   ]
  },
  {
   "cell_type": "markdown",
   "id": "7bda592c",
   "metadata": {},
   "source": [
    "- Pattern 2"
   ]
  },
  {
   "cell_type": "markdown",
   "id": "e1576240",
   "metadata": {},
   "source": [
    "-range(start,stop)\n",
    "-start = start\n",
    "-stop = stop-1\n",
    "-increment"
   ]
  },
  {
   "cell_type": "code",
   "execution_count": null,
   "id": "96c9a8d3",
   "metadata": {},
   "outputs": [],
   "source": [
    "for i in range(-10,20) :\n",
    "    print(i,end =' ')"
   ]
  },
  {
   "cell_type": "markdown",
   "id": "54ebf777",
   "metadata": {},
   "source": [
    "- Pattern3"
   ]
  },
  {
   "cell_type": "code",
   "execution_count": null,
   "id": "051027e9",
   "metadata": {},
   "outputs": [],
   "source": [
    "for i in range(5,20,3) :\n",
    "    print(i,end = ' ')"
   ]
  },
  {
   "cell_type": "code",
   "execution_count": null,
   "id": "a9d8211a",
   "metadata": {},
   "outputs": [],
   "source": [
    "for i in range (-5,-20,-3) :\n",
    "    print(i,end=' ')"
   ]
  },
  {
   "cell_type": "code",
   "execution_count": null,
   "id": "320ab9a5",
   "metadata": {},
   "outputs": [],
   "source": [
    "for i in range (5,20,-3) :\n",
    "    print(i,end = ' ')\n",
    "    \n",
    "# we cant get any answer beacuse it says we have to reach the value 20 from nagative direction    "
   ]
  },
  {
   "cell_type": "code",
   "execution_count": null,
   "id": "afb46580",
   "metadata": {},
   "outputs": [],
   "source": [
    "for i in range (10,30,3) :\n",
    "    print(i,end = ' ')"
   ]
  },
  {
   "cell_type": "code",
   "execution_count": null,
   "id": "967b7249",
   "metadata": {},
   "outputs": [],
   "source": [
    "for i in range(10,-30,3) :\n",
    "    print(i,end = ' ')"
   ]
  },
  {
   "cell_type": "code",
   "execution_count": null,
   "id": "a1215a67",
   "metadata": {},
   "outputs": [],
   "source": [
    "for i in range(-10,-30,-3) :\n",
    "    print(i,end = ' ')"
   ]
  },
  {
   "cell_type": "code",
   "execution_count": null,
   "id": "270bc7ab",
   "metadata": {},
   "outputs": [],
   "source": [
    "for i in range(1.3,9.8,0.1) :\n",
    "    print(i)"
   ]
  },
  {
   "cell_type": "code",
   "execution_count": 1,
   "id": "501da8fd",
   "metadata": {},
   "outputs": [
    {
     "name": "stdout",
     "output_type": "stream",
     "text": [
      "0 1 4 9 16 25 36 49 64 81 "
     ]
    }
   ],
   "source": [
    "for i in range (10) :\n",
    "    print(i**2,end = ' ')"
   ]
  },
  {
   "cell_type": "code",
   "execution_count": 4,
   "id": "0cb770d8",
   "metadata": {},
   "outputs": [
    {
     "name": "stdout",
     "output_type": "stream",
     "text": [
      "0 1 4 9 16 25 36 49 64 81 100 "
     ]
    }
   ],
   "source": [
    "i = 0\n",
    "while i<=10 :\n",
    "    num = i*i\n",
    "    print(num,end=' ')\n",
    "    i = i+1\n",
    "    "
   ]
  },
  {
   "cell_type": "code",
   "execution_count": 8,
   "id": "3e9dda27",
   "metadata": {},
   "outputs": [
    {
     "name": "stdout",
     "output_type": "stream",
     "text": [
      "Enter the number : 7\n",
      "7 * 1 = 7 \n",
      "7 * 2 = 14 \n",
      "7 * 3 = 21 \n",
      "7 * 4 = 28 \n",
      "7 * 5 = 35 \n",
      "7 * 6 = 42 \n",
      "7 * 7 = 49 \n",
      "7 * 8 = 56 \n",
      "7 * 9 = 63 \n",
      "7 * 10 = 70 \n"
     ]
    }
   ],
   "source": [
    "number = eval(input('Enter the number : '))\n",
    "def seven_table () :\n",
    "    try :\n",
    "        for i in range (1,11) :\n",
    "            table = number*i\n",
    "            print('{} * {} = {} '.format(number,i,table))\n",
    "    except Exaption as e :\n",
    "        print(e)\n",
    "        \n",
    "seven_table()        "
   ]
  },
  {
   "cell_type": "code",
   "execution_count": 14,
   "id": "3514fb84",
   "metadata": {},
   "outputs": [
    {
     "name": "stdout",
     "output_type": "stream",
     "text": [
      "Enter the number : 4\n",
      "4 * 1 = 4 \n",
      "4 * 2 = 8 \n",
      "4 * 3 = 12 \n",
      "4 * 4 = 16 \n",
      "4 * 5 = 20 \n",
      "4 * 6 = 24 \n",
      "4 * 7 = 28 \n",
      "4 * 8 = 32 \n",
      "4 * 9 = 36 \n",
      "4 * 10 = 40 \n"
     ]
    }
   ],
   "source": [
    "number = eval(input('Enter the number : '))\n",
    "i = 1\n",
    "while i<=10 :\n",
    "    table = number * i\n",
    "    print('{} * {} = {} '.format(number,i,table))\n",
    "    i = i + 1"
   ]
  },
  {
   "cell_type": "code",
   "execution_count": 15,
   "id": "776a3b5a",
   "metadata": {},
   "outputs": [
    {
     "name": "stdout",
     "output_type": "stream",
     "text": [
      "4761\n",
      "484\n",
      "9025\n",
      "225\n",
      "3025\n"
     ]
    }
   ],
   "source": [
    "import random\n",
    "for i in range (5) :\n",
    "    num = random.randint(1,100)\n",
    "    sq_num = num**2\n",
    "    print(sq_num)"
   ]
  },
  {
   "cell_type": "code",
   "execution_count": 23,
   "id": "5d0161bd",
   "metadata": {},
   "outputs": [
    {
     "name": "stdout",
     "output_type": "stream",
     "text": [
      "25\n",
      "625\n",
      "625\n",
      "625\n",
      "625\n",
      "625\n"
     ]
    }
   ],
   "source": [
    "import random\n",
    "num = random.randint(1,100)\n",
    "print(num)\n",
    "i = 1\n",
    "while i<=5 :\n",
    "    SQ = num**2\n",
    "    print(SQ)\n",
    "    i = i + 1\n",
    "    "
   ]
  },
  {
   "cell_type": "code",
   "execution_count": 24,
   "id": "e88ea4f0",
   "metadata": {},
   "outputs": [
    {
     "name": "stdout",
     "output_type": "stream",
     "text": [
      "Random number: 11\n",
      "Square of 11 is 121\n",
      "Square of 11 is 121\n",
      "Square of 11 is 121\n",
      "Square of 11 is 121\n",
      "Square of 11 is 121\n"
     ]
    }
   ],
   "source": [
    "import random\n",
    "num = random.randint(1, 100)\n",
    "print(\"Random number:\", num)\n",
    "\n",
    "i = 1  # Initialize i to 1\n",
    "while i <= 5:  # This should be a while loop from 1 to 5\n",
    "    SQ = num ** 2\n",
    "    print(f\"Square of {num} is {SQ}\")\n",
    "    i += 1  "
   ]
  },
  {
   "cell_type": "code",
   "execution_count": null,
   "id": "34a0a854",
   "metadata": {},
   "outputs": [],
   "source": [
    "import random\n",
    "def square_random_numbers (num1,num2) :\n",
    "    try :\n",
    "        for i in range (21) :\n",
    "            num = random.randint(num1,num2)\n",
    "            sq_num = num**2\n",
    "            print(sq_num,end = ' ')\n",
    "    except Exaption as e :\n",
    "        print(e)\n",
    "        \n",
    "square_random_numbers(1,999)            "
   ]
  },
  {
   "cell_type": "code",
   "execution_count": null,
   "id": "f8dbb933",
   "metadata": {},
   "outputs": [],
   "source": [
    "import random\n",
    "def square_random_numbers (num) :\n",
    "    try :\n",
    "        for i in range (21) :\n",
    "            random.randint(1,990)\n",
    "            sq_num = num**2\n",
    "            print(sq_num,end = ' ')\n",
    "    except Exaption as e :\n",
    "        print(e)\n",
    "        \n",
    "square_random_numbers(random.randint(1,990))"
   ]
  },
  {
   "cell_type": "code",
   "execution_count": null,
   "id": "16390a00",
   "metadata": {},
   "outputs": [],
   "source": [
    "def odd_or_even() :\n",
    "    try :\n",
    "        for i in range (10,41) :\n",
    "            if i%2 == 0 :\n",
    "                print('{} is an even number'.format(i))\n",
    "            else :\n",
    "                print('{} is an odd number'.format(i))\n",
    "    except Exaptoin as e :\n",
    "        print(e)\n",
    "        \n",
    "odd_or_even()        "
   ]
  },
  {
   "cell_type": "code",
   "execution_count": 9,
   "id": "762eca5e",
   "metadata": {},
   "outputs": [
    {
     "name": "stdout",
     "output_type": "stream",
     "text": [
      "0 its an even number\n"
     ]
    }
   ],
   "source": [
    "i = 0\n",
    "while True:\n",
    "    if i%2 == 0:\n",
    "        print('{} its an even number'.format(i))\n",
    "    else:\n",
    "        print('its an odd number')\n",
    "        i = i + 1\n",
    "    if i<=41:\n",
    "        break"
   ]
  },
  {
   "cell_type": "code",
   "execution_count": 13,
   "id": "f164cbf3",
   "metadata": {},
   "outputs": [
    {
     "name": "stdout",
     "output_type": "stream",
     "text": [
      "0 its an even number\n",
      "1 its an odd number\n",
      "2 its an even number\n",
      "3 its an odd number\n",
      "4 its an even number\n",
      "5 its an odd number\n",
      "6 its an even number\n",
      "7 its an odd number\n",
      "8 its an even number\n",
      "9 its an odd number\n",
      "10 its an even number\n",
      "11 its an odd number\n",
      "12 its an even number\n",
      "13 its an odd number\n",
      "14 its an even number\n",
      "15 its an odd number\n",
      "16 its an even number\n",
      "17 its an odd number\n",
      "18 its an even number\n",
      "19 its an odd number\n",
      "20 its an even number\n",
      "21 its an odd number\n",
      "22 its an even number\n",
      "23 its an odd number\n",
      "24 its an even number\n",
      "25 its an odd number\n",
      "26 its an even number\n",
      "27 its an odd number\n",
      "28 its an even number\n",
      "29 its an odd number\n",
      "30 its an even number\n",
      "31 its an odd number\n",
      "32 its an even number\n",
      "33 its an odd number\n",
      "34 its an even number\n",
      "35 its an odd number\n",
      "36 its an even number\n",
      "37 its an odd number\n",
      "38 its an even number\n",
      "39 its an odd number\n",
      "40 its an even number\n"
     ]
    }
   ],
   "source": [
    "i = 0\n",
    "while True:\n",
    "    if i%2 == 0:\n",
    "        print('{} its an even number'.format(i))\n",
    "    else:\n",
    "        print('{} its an odd number'.format(i))\n",
    "    i = i + 1\n",
    "    if i == 41:\n",
    "        break"
   ]
  },
  {
   "cell_type": "code",
   "execution_count": null,
   "id": "9c21cd53",
   "metadata": {},
   "outputs": [],
   "source": [
    "def odd_or_even(odd,even) :\n",
    "    try :\n",
    "        for i in range (odd,even) :\n",
    "            if i%2 == 0 :\n",
    "                print('{} is an even number'.format(i))\n",
    "            else :\n",
    "                print('{} is an odd number'.format(i))\n",
    "    except Exaptoin as e :\n",
    "        print(e)\n",
    "        \n",
    "odd_or_even(10,23)"
   ]
  },
  {
   "cell_type": "code",
   "execution_count": 14,
   "id": "5eebd876",
   "metadata": {},
   "outputs": [
    {
     "name": "stdout",
     "output_type": "stream",
     "text": [
      "0 its an even number\n",
      "1 its an odd number\n",
      "2 its an even number\n",
      "3 its an odd number\n",
      "4 its an even number\n",
      "5 its an odd number\n",
      "6 its an even number\n",
      "7 its an odd number\n",
      "8 its an even number\n",
      "9 its an odd number\n",
      "10 its an even number\n",
      "11 its an odd number\n",
      "12 its an even number\n",
      "13 its an odd number\n",
      "14 its an even number\n",
      "15 its an odd number\n",
      "16 its an even number\n",
      "17 its an odd number\n",
      "18 its an even number\n",
      "19 its an odd number\n",
      "20 its an even number\n",
      "21 its an odd number\n",
      "22 its an even number\n",
      "23 its an odd number\n",
      "24 its an even number\n",
      "25 its an odd number\n",
      "26 its an even number\n",
      "27 its an odd number\n",
      "28 its an even number\n",
      "29 its an odd number\n",
      "30 its an even number\n",
      "31 its an odd number\n"
     ]
    }
   ],
   "source": [
    "def even_odd():\n",
    "    try:\n",
    "        i = 0\n",
    "        while True:\n",
    "            if i%2 == 0 :\n",
    "                print('{} its an even number'.format(i))\n",
    "            else:\n",
    "                print('{} its an odd number'.format(i))\n",
    "            i = i + 1\n",
    "            if i== 32:\n",
    "                break\n",
    "    except Excaption as e:\n",
    "        print(e)\n",
    "even_odd()"
   ]
  },
  {
   "cell_type": "code",
   "execution_count": 16,
   "id": "a9777212",
   "metadata": {},
   "outputs": [
    {
     "name": "stdout",
     "output_type": "stream",
     "text": [
      "1 its an odd number\n",
      "2 its an even number\n",
      "3 its an odd number\n",
      "4 its an even number\n",
      "5 its an odd number\n",
      "6 its an even number\n",
      "7 its an odd number\n",
      "8 its an even number\n",
      "9 its an odd number\n",
      "10 its an even number\n",
      "11 its an odd number\n",
      "12 its an even number\n",
      "13 its an odd number\n",
      "14 its an even number\n",
      "15 its an odd number\n",
      "16 its an even number\n",
      "17 its an odd number\n",
      "18 its an even number\n",
      "19 its an odd number\n",
      "20 its an even number\n"
     ]
    }
   ],
   "source": [
    "def even_odd(start,stop):\n",
    "    try:\n",
    "        for i in range(start,stop):\n",
    "            if i%2 == 0:\n",
    "                print('{} its an even number'.format(i))\n",
    "            else:\n",
    "                print('{} its an odd number'.format(i))\n",
    "    except Excaption as e:\n",
    "        print(e)\n",
    "even_odd(1,21)        "
   ]
  },
  {
   "cell_type": "code",
   "execution_count": null,
   "id": "b5400e64",
   "metadata": {},
   "outputs": [],
   "source": [
    "start = eval(input('Enter the start value : '))\n",
    "stop  = eval(input('Enter the stop value : '))\n",
    "def odd_or_even() :\n",
    "    try :\n",
    "        for i in range (start,stop) :\n",
    "            if i%2 == 0 :\n",
    "                print('{} is an even number'.format(i))\n",
    "            else :\n",
    "                print('{} is an odd number'.format(i))\n",
    "    except Exaptoin as e :\n",
    "        print(e)\n",
    "        \n",
    "odd_or_even()"
   ]
  },
  {
   "cell_type": "code",
   "execution_count": null,
   "id": "35c89b4d",
   "metadata": {},
   "outputs": [],
   "source": [
    "start = eval(input('Enter the start value : '))\n",
    "stop  = eval(input('Enter the stop value : '))\n",
    "def odd_or_even(start,stop) :\n",
    "    try :\n",
    "        for i in range (start,stop) :\n",
    "            if i%2 == 0 :\n",
    "                print('{} is an even number'.format(i))\n",
    "            else :\n",
    "                print('{} is an odd number'.format(i))\n",
    "    except Exaptoin as e :\n",
    "        print(e)\n",
    "        \n",
    "odd_or_even(start,stop)"
   ]
  },
  {
   "cell_type": "code",
   "execution_count": 24,
   "id": "6dfc783d",
   "metadata": {},
   "outputs": [
    {
     "name": "stdout",
     "output_type": "stream",
     "text": [
      "Enter the start value:2\n",
      "Enter the stop value:23\n",
      "2 its an even number\n",
      "3 its an odd number\n",
      "4 its an even number\n",
      "5 its an odd number\n",
      "6 its an even number\n",
      "7 its an odd number\n",
      "8 its an even number\n",
      "9 its an odd number\n",
      "10 its an even number\n",
      "11 its an odd number\n",
      "12 its an even number\n",
      "13 its an odd number\n",
      "14 its an even number\n",
      "15 its an odd number\n",
      "16 its an even number\n",
      "17 its an odd number\n",
      "18 its an even number\n",
      "19 its an odd number\n",
      "20 its an even number\n",
      "21 its an odd number\n",
      "22 its an even number\n"
     ]
    }
   ],
   "source": [
    "def take_values():\n",
    "    try:\n",
    "        starat = eval(input('Enter the start value:'))\n",
    "        stop = eval(input('Enter the stop value:'))\n",
    "        return(start,stop)\n",
    "    except Exeption as e:\n",
    "        print(e)\n",
    "def evenodd():\n",
    "    try:\n",
    "        start,stop = take_values()\n",
    "        for i in range(start,stop):\n",
    "            if i%2 == 0:\n",
    "                print('{} its an even number'.format(i))\n",
    "            else:\n",
    "                print('{} its an odd number'.format(i))\n",
    "    except Exaption as e:\n",
    "        print(e)\n",
    "evenodd()                "
   ]
  },
  {
   "cell_type": "code",
   "execution_count": 19,
   "id": "2b5fac5d",
   "metadata": {},
   "outputs": [
    {
     "name": "stdout",
     "output_type": "stream",
     "text": [
      "Enter the start value :2\n",
      "Enter the stop value :23\n",
      "2 is an even number\n",
      "3 is an odd number\n",
      "4 is an even number\n",
      "5 is an odd number\n",
      "6 is an even number\n",
      "7 is an odd number\n",
      "8 is an even number\n",
      "9 is an odd number\n",
      "10 is an even number\n",
      "11 is an odd number\n",
      "12 is an even number\n",
      "13 is an odd number\n",
      "14 is an even number\n",
      "15 is an odd number\n",
      "16 is an even number\n",
      "17 is an odd number\n",
      "18 is an even number\n",
      "19 is an odd number\n",
      "20 is an even number\n",
      "21 is an odd number\n",
      "22 is an even number\n"
     ]
    }
   ],
   "source": [
    "def getting_values () :\n",
    "    try :\n",
    "        start = eval(input('Enter the start value :'))\n",
    "        stop = eval(input('Enter the stop value :'))\n",
    "        return(start,stop)\n",
    "    except Exaption as e :\n",
    "        print(e)\n",
    "def odd_even() :\n",
    "    try :\n",
    "        start,stop = getting_values()\n",
    "        for i in range (start,stop) :\n",
    "            if i%2 == 0 :\n",
    "                print('{} is an even number'.format(i))\n",
    "            else :\n",
    "                print('{} is an odd number'.format(i))\n",
    "    except  Exaption as e :\n",
    "        print(e)\n",
    "        \n",
    "odd_even()        "
   ]
  },
  {
   "cell_type": "code",
   "execution_count": null,
   "id": "3ada4b2d",
   "metadata": {},
   "outputs": [],
   "source": [
    "def getting_values () :\n",
    "    try :\n",
    "        start = eval(input('Enter the start value :'))\n",
    "        stop = eval(input('Enter the stop value :'))\n",
    "        return(start,stop)\n",
    "    except Exaption as e :\n",
    "        print(e)\n",
    "def odd_even() :\n",
    "    try :\n",
    "        getting_values()\n",
    "        for i in range (start,stop) :\n",
    "            if i%2 == 0 :\n",
    "                print('{} is an even number'.format(i))\n",
    "            else :\n",
    "                print('{} is an odd number'.format(i))\n",
    "    except  Exaption as e :\n",
    "        print(e)\n",
    "        \n",
    "odd_even()"
   ]
  },
  {
   "cell_type": "code",
   "execution_count": null,
   "id": "4469222b",
   "metadata": {},
   "outputs": [],
   "source": [
    "print('hey')\n",
    "print('heloo')\n",
    "for i in range (4) :\n",
    "    print('good')\n",
    "    print('night')\n",
    "    \n",
    "print('bye')    "
   ]
  },
  {
   "cell_type": "code",
   "execution_count": null,
   "id": "517a8d2b",
   "metadata": {},
   "outputs": [],
   "source": [
    "import random\n",
    "def odd_and_even() :\n",
    "    try :\n",
    "        for i in range (10) :\n",
    "            num = random.randint(1,100)\n",
    "            if num%2==0 :\n",
    "                print('{} its an even number'.format(num))\n",
    "            else :\n",
    "                print('{} its an odd number'.format(num))\n",
    "    except  Exeption as e :\n",
    "        print(e)\n",
    "        \n",
    "odd_and_even()"
   ]
  },
  {
   "cell_type": "code",
   "execution_count": null,
   "id": "a0b64c26",
   "metadata": {},
   "outputs": [],
   "source": [
    "import random\n",
    "num1 = random.randint(1,20)\n",
    "print(num1)\n",
    "def game () :\n",
    "    try :\n",
    "        for i in range (3) :\n",
    "            num2 = eval(input('Enter the number :'))\n",
    "            if num1==num2 :\n",
    "                print('You won')\n",
    "                break\n",
    "            else :\n",
    "                print('You lost')    \n",
    "    except Exeption as e :\n",
    "        print(e)\n",
    "        \n",
    "game()"
   ]
  },
  {
   "cell_type": "code",
   "execution_count": 26,
   "id": "d9464762",
   "metadata": {},
   "outputs": [
    {
     "name": "stdout",
     "output_type": "stream",
     "text": [
      "Enter the chances you want to provide :2\n",
      "6\n",
      "Enter the number :2\n",
      "6 is not equal to 2 : You lost\n",
      "1 chanses left\n",
      "Enter the number :2\n",
      "6 is not equal to 2 : You lost\n",
      "0 chanses left\n"
     ]
    },
    {
     "ename": "NameError",
     "evalue": "name 'Exeption' is not defined",
     "output_type": "error",
     "traceback": [
      "\u001b[1;31m---------------------------------------------------------------------------\u001b[0m",
      "\u001b[1;31mKeyboardInterrupt\u001b[0m                         Traceback (most recent call last)",
      "Cell \u001b[1;32mIn[26], line 8\u001b[0m, in \u001b[0;36mgame\u001b[1;34m()\u001b[0m\n\u001b[0;32m      7\u001b[0m \u001b[38;5;28;01mfor\u001b[39;00m i \u001b[38;5;129;01min\u001b[39;00m \u001b[38;5;28mrange\u001b[39m (\u001b[38;5;241m3\u001b[39m) :\n\u001b[1;32m----> 8\u001b[0m     num2 \u001b[38;5;241m=\u001b[39m \u001b[38;5;28meval\u001b[39m(\u001b[38;5;28minput\u001b[39m(\u001b[38;5;124m'\u001b[39m\u001b[38;5;124mEnter the number :\u001b[39m\u001b[38;5;124m'\u001b[39m))\n\u001b[0;32m      9\u001b[0m     \u001b[38;5;28;01mif\u001b[39;00m num1\u001b[38;5;241m==\u001b[39mnum2 :\n",
      "File \u001b[1;32m~\\anaconda3\\Lib\\site-packages\\ipykernel\\kernelbase.py:1202\u001b[0m, in \u001b[0;36mKernel.raw_input\u001b[1;34m(self, prompt)\u001b[0m\n\u001b[0;32m   1201\u001b[0m     \u001b[38;5;28;01mraise\u001b[39;00m StdinNotImplementedError(msg)\n\u001b[1;32m-> 1202\u001b[0m \u001b[38;5;28;01mreturn\u001b[39;00m \u001b[38;5;28mself\u001b[39m\u001b[38;5;241m.\u001b[39m_input_request(\n\u001b[0;32m   1203\u001b[0m     \u001b[38;5;28mstr\u001b[39m(prompt),\n\u001b[0;32m   1204\u001b[0m     \u001b[38;5;28mself\u001b[39m\u001b[38;5;241m.\u001b[39m_parent_ident[\u001b[38;5;124m\"\u001b[39m\u001b[38;5;124mshell\u001b[39m\u001b[38;5;124m\"\u001b[39m],\n\u001b[0;32m   1205\u001b[0m     \u001b[38;5;28mself\u001b[39m\u001b[38;5;241m.\u001b[39mget_parent(\u001b[38;5;124m\"\u001b[39m\u001b[38;5;124mshell\u001b[39m\u001b[38;5;124m\"\u001b[39m),\n\u001b[0;32m   1206\u001b[0m     password\u001b[38;5;241m=\u001b[39m\u001b[38;5;28;01mFalse\u001b[39;00m,\n\u001b[0;32m   1207\u001b[0m )\n",
      "File \u001b[1;32m~\\anaconda3\\Lib\\site-packages\\ipykernel\\kernelbase.py:1245\u001b[0m, in \u001b[0;36mKernel._input_request\u001b[1;34m(self, prompt, ident, parent, password)\u001b[0m\n\u001b[0;32m   1244\u001b[0m     msg \u001b[38;5;241m=\u001b[39m \u001b[38;5;124m\"\u001b[39m\u001b[38;5;124mInterrupted by user\u001b[39m\u001b[38;5;124m\"\u001b[39m\n\u001b[1;32m-> 1245\u001b[0m     \u001b[38;5;28;01mraise\u001b[39;00m \u001b[38;5;167;01mKeyboardInterrupt\u001b[39;00m(msg) \u001b[38;5;28;01mfrom\u001b[39;00m \u001b[38;5;28;01mNone\u001b[39;00m\n\u001b[0;32m   1246\u001b[0m \u001b[38;5;28;01mexcept\u001b[39;00m \u001b[38;5;167;01mException\u001b[39;00m:\n",
      "\u001b[1;31mKeyboardInterrupt\u001b[0m: Interrupted by user",
      "\nDuring handling of the above exception, another exception occurred:\n",
      "\u001b[1;31mNameError\u001b[0m                                 Traceback (most recent call last)",
      "Cell \u001b[1;32mIn[26], line 18\u001b[0m\n\u001b[0;32m     15\u001b[0m     \u001b[38;5;28;01mexcept\u001b[39;00m Exeption \u001b[38;5;28;01mas\u001b[39;00m e :\n\u001b[0;32m     16\u001b[0m         \u001b[38;5;28mprint\u001b[39m(e)\n\u001b[1;32m---> 18\u001b[0m game()\n",
      "Cell \u001b[1;32mIn[26], line 15\u001b[0m, in \u001b[0;36mgame\u001b[1;34m()\u001b[0m\n\u001b[0;32m     13\u001b[0m             \u001b[38;5;28mprint\u001b[39m(\u001b[38;5;124m'\u001b[39m\u001b[38;5;132;01m{}\u001b[39;00m\u001b[38;5;124m is not equal to \u001b[39m\u001b[38;5;132;01m{}\u001b[39;00m\u001b[38;5;124m : You lost\u001b[39m\u001b[38;5;124m'\u001b[39m\u001b[38;5;241m.\u001b[39mformat(num1,num2)) \n\u001b[0;32m     14\u001b[0m             \u001b[38;5;28mprint\u001b[39m(\u001b[38;5;124m'\u001b[39m\u001b[38;5;132;01m{}\u001b[39;00m\u001b[38;5;124m chanses left\u001b[39m\u001b[38;5;124m'\u001b[39m\u001b[38;5;241m.\u001b[39mformat(chanses\u001b[38;5;241m-\u001b[39m\u001b[38;5;241m1\u001b[39m\u001b[38;5;241m-\u001b[39mi))\n\u001b[1;32m---> 15\u001b[0m \u001b[38;5;28;01mexcept\u001b[39;00m Exeption \u001b[38;5;28;01mas\u001b[39;00m e :\n\u001b[0;32m     16\u001b[0m     \u001b[38;5;28mprint\u001b[39m(e)\n",
      "\u001b[1;31mNameError\u001b[0m: name 'Exeption' is not defined"
     ]
    }
   ],
   "source": [
    "import random\n",
    "chanses = eval(input('Enter the chances you want to provide :'))\n",
    "num1 = random.randint(1,20)\n",
    "print(num1)\n",
    "def game () :\n",
    "    try :\n",
    "        for i in range (3) :\n",
    "            num2 = eval(input('Enter the number :'))\n",
    "            if num1==num2 :\n",
    "                print('{} is equal to {} : You won'.format(num1,num2))\n",
    "                break\n",
    "            else :\n",
    "                print('{} is not equal to {} : You lost'.format(num1,num2)) \n",
    "                print('{} chanses left'.format(chanses-1-i))\n",
    "    except Exeption as e :\n",
    "        print(e)\n",
    "        \n",
    "game()"
   ]
  },
  {
   "cell_type": "markdown",
   "id": "ba247071",
   "metadata": {},
   "source": [
    "import random\n",
    "chanses = eval(input('Enter the chances you want to provide :'))\n",
    "num1 = random.randint(1,20)\n",
    "print(num1)\n",
    "flag = 0\n",
    "def game () :\n",
    "    try :\n",
    "        for i in range (3) :\n",
    "            num2 = eval(input('Enter the number :'))\n",
    "            if num1==num2 :\n",
    "                flag = 1\n",
    "                print('{} is equal to {} : You won'.format(num1,num2))\n",
    "                break\n",
    "            else :\n",
    "                print('{} is not equal to {} : You lost'.format(num1,num2)) \n",
    "                print('{} chanses left'.format(chanses-1-i))\n",
    "        \n",
    "    except Exeption as e :\n",
    "        print(e)\n",
    "        \n",
    "game()"
   ]
  },
  {
   "cell_type": "code",
   "execution_count": 2,
   "id": "08fb649d",
   "metadata": {},
   "outputs": [
    {
     "name": "stdout",
     "output_type": "stream",
     "text": [
      "Enter the name : Sufiyan\n",
      "1\n",
      "2\n",
      "3\n",
      "4\n",
      "5\n",
      "6\n",
      "7\n",
      "total count  7\n",
      "it is lengthy name\n"
     ]
    }
   ],
   "source": [
    "name  = input('Enter the name : ')\n",
    "count = 0\n",
    "for i in name:\n",
    "    count=count+1\n",
    "    print(count)\n",
    "    \n",
    "print(\"total count \",count)\n",
    "if count>=5 :\n",
    "    print('it is lengthy name')\n",
    "else :\n",
    "    print('It is small')"
   ]
  },
  {
   "cell_type": "markdown",
   "id": "ff4cf396",
   "metadata": {},
   "source": [
    "- ord"
   ]
  },
  {
   "cell_type": "code",
   "execution_count": null,
   "id": "d34f0f33",
   "metadata": {},
   "outputs": [],
   "source": [
    "ord(\"S\")"
   ]
  },
  {
   "cell_type": "code",
   "execution_count": null,
   "id": "790939f0",
   "metadata": {},
   "outputs": [],
   "source": [
    "\"sufiyan\" > \"Sufiyan\""
   ]
  },
  {
   "cell_type": "markdown",
   "id": "bd182c32",
   "metadata": {},
   "source": [
    "- it will use Asicii number to know which number is greater"
   ]
  },
  {
   "cell_type": "code",
   "execution_count": null,
   "id": "33e35480",
   "metadata": {},
   "outputs": [],
   "source": [
    "for i in range(33,127) :\n",
    "    print(i,chr(i))"
   ]
  },
  {
   "cell_type": "code",
   "execution_count": null,
   "id": "de5cc87f",
   "metadata": {},
   "outputs": [],
   "source": [
    "for i in 'abcdefghigklmnopqrstuvwxyzABCDEFGHIJKLMNOPQRSTUVWXYZ' :\n",
    "    print(i,'---->',ord(i))"
   ]
  },
  {
   "cell_type": "markdown",
   "id": "bdc02327",
   "metadata": {},
   "source": [
    "- range is used for numbers\n",
    "- in is for strings\n",
    "- eval is for numbers\n",
    "- input is for strings"
   ]
  },
  {
   "cell_type": "markdown",
   "id": "c844fe3c",
   "metadata": {},
   "source": [
    "## String package"
   ]
  },
  {
   "cell_type": "code",
   "execution_count": 27,
   "id": "96f0663e",
   "metadata": {},
   "outputs": [
    {
     "data": {
      "text/plain": [
       "['Formatter',\n",
       " 'Template',\n",
       " '_ChainMap',\n",
       " '__all__',\n",
       " '__builtins__',\n",
       " '__cached__',\n",
       " '__doc__',\n",
       " '__file__',\n",
       " '__loader__',\n",
       " '__name__',\n",
       " '__package__',\n",
       " '__spec__',\n",
       " '_re',\n",
       " '_sentinel_dict',\n",
       " '_string',\n",
       " 'ascii_letters',\n",
       " 'ascii_lowercase',\n",
       " 'ascii_uppercase',\n",
       " 'capwords',\n",
       " 'digits',\n",
       " 'hexdigits',\n",
       " 'octdigits',\n",
       " 'printable',\n",
       " 'punctuation',\n",
       " 'whitespace']"
      ]
     },
     "execution_count": 27,
     "metadata": {},
     "output_type": "execute_result"
    }
   ],
   "source": [
    "import string\n",
    "dir(string)"
   ]
  },
  {
   "cell_type": "code",
   "execution_count": 33,
   "id": "430f40e7",
   "metadata": {},
   "outputs": [
    {
     "ename": "AttributeError",
     "evalue": "'str' object has no attribute 'Formatter'",
     "output_type": "error",
     "traceback": [
      "\u001b[1;31m---------------------------------------------------------------------------\u001b[0m",
      "\u001b[1;31mAttributeError\u001b[0m                            Traceback (most recent call last)",
      "Cell \u001b[1;32mIn[33], line 3\u001b[0m\n\u001b[0;32m      1\u001b[0m \u001b[38;5;28;01mimport\u001b[39;00m \u001b[38;5;21;01mstring\u001b[39;00m\n\u001b[0;32m      2\u001b[0m string1 \u001b[38;5;241m=\u001b[39m \u001b[38;5;124m'\u001b[39m\u001b[38;5;124myes! I am Sufiyan\u001b[39m\u001b[38;5;124m'\u001b[39m\n\u001b[1;32m----> 3\u001b[0m string1\u001b[38;5;241m.\u001b[39mFormatter()\n",
      "\u001b[1;31mAttributeError\u001b[0m: 'str' object has no attribute 'Formatter'"
     ]
    }
   ],
   "source": [
    "import string\n",
    "string1 = 'yes! I am Sufiyan'\n",
    "string1.Formatter()\n",
    "#string1"
   ]
  },
  {
   "cell_type": "markdown",
   "id": "c5458780",
   "metadata": {},
   "source": [
    "### string.punctuation"
   ]
  },
  {
   "cell_type": "code",
   "execution_count": null,
   "id": "5a16ace6",
   "metadata": {},
   "outputs": [],
   "source": [
    "string.hexdigits"
   ]
  },
  {
   "cell_type": "code",
   "execution_count": null,
   "id": "b5b2fb00",
   "metadata": {},
   "outputs": [],
   "source": [
    "string.octdigits"
   ]
  },
  {
   "cell_type": "code",
   "execution_count": null,
   "id": "cb0d5605",
   "metadata": {},
   "outputs": [],
   "source": [
    "string.whitespace"
   ]
  },
  {
   "cell_type": "code",
   "execution_count": null,
   "id": "7a2e6506",
   "metadata": {},
   "outputs": [],
   "source": [
    "string.capwords"
   ]
  },
  {
   "cell_type": "code",
   "execution_count": null,
   "id": "5be68af3",
   "metadata": {},
   "outputs": [],
   "source": [
    "import string\n",
    "a = sufiyan\n",
    "string.capwords(a,sep=None)\n"
   ]
  },
  {
   "cell_type": "code",
   "execution_count": null,
   "id": "febbb613",
   "metadata": {},
   "outputs": [],
   "source": []
  },
  {
   "cell_type": "code",
   "execution_count": null,
   "id": "1d7ef6eb",
   "metadata": {},
   "outputs": [],
   "source": []
  },
  {
   "cell_type": "code",
   "execution_count": null,
   "id": "2a5175c1",
   "metadata": {},
   "outputs": [],
   "source": [
    "string.printable"
   ]
  },
  {
   "cell_type": "code",
   "execution_count": null,
   "id": "6c53a010",
   "metadata": {},
   "outputs": [],
   "source": [
    "string.ascii_letters"
   ]
  },
  {
   "cell_type": "code",
   "execution_count": null,
   "id": "30315d69",
   "metadata": {},
   "outputs": [],
   "source": [
    "string.ascii_lowercase"
   ]
  },
  {
   "cell_type": "code",
   "execution_count": null,
   "id": "907b87f3",
   "metadata": {},
   "outputs": [],
   "source": [
    "string.ascii_uppercase"
   ]
  },
  {
   "cell_type": "code",
   "execution_count": null,
   "id": "ef308ad9",
   "metadata": {},
   "outputs": [],
   "source": [
    "import string\n",
    "for i in string.ascii_uppercase :\n",
    "    print(i,'---->',ord(i))"
   ]
  },
  {
   "cell_type": "code",
   "execution_count": null,
   "id": "e78d3ecb",
   "metadata": {},
   "outputs": [],
   "source": [
    "for i in string.ascii_letters :\n",
    "    print(i,'---->',ord(i))"
   ]
  },
  {
   "cell_type": "code",
   "execution_count": null,
   "id": "0e39bd36",
   "metadata": {},
   "outputs": [],
   "source": [
    "string.capwords('sufiyan')"
   ]
  },
  {
   "cell_type": "markdown",
   "id": "b16fdcb7",
   "metadata": {},
   "source": [
    "## while Loops"
   ]
  },
  {
   "cell_type": "markdown",
   "id": "502955cb",
   "metadata": {},
   "source": [
    "- in for we provided start/stop/step in a single line\n",
    "- but in while loop we have to provide it seperatly"
   ]
  },
  {
   "cell_type": "code",
   "execution_count": 35,
   "id": "58bf0070",
   "metadata": {},
   "outputs": [
    {
     "name": "stdout",
     "output_type": "stream",
     "text": [
      "0\n",
      "1\n",
      "2\n",
      "3\n",
      "4\n",
      "5\n",
      "6\n",
      "7\n",
      "8\n",
      "9\n"
     ]
    }
   ],
   "source": [
    "i = 0\n",
    "\n",
    "while True:\n",
    "    print(i)\n",
    "    i = i+1\n",
    "    if i == 10:\n",
    "        break"
   ]
  },
  {
   "cell_type": "code",
   "execution_count": 2,
   "id": "e20d6cfd",
   "metadata": {},
   "outputs": [],
   "source": [
    "i = 0\n",
    "\n",
    "while i>11 :\n",
    "    print(i,'Sufiyan')\n",
    "    \n",
    "    i = i + 1"
   ]
  },
  {
   "cell_type": "code",
   "execution_count": null,
   "id": "c9da3114",
   "metadata": {},
   "outputs": [],
   "source": []
  }
 ],
 "metadata": {
  "kernelspec": {
   "display_name": "Python 3 (ipykernel)",
   "language": "python",
   "name": "python3"
  },
  "language_info": {
   "codemirror_mode": {
    "name": "ipython",
    "version": 3
   },
   "file_extension": ".py",
   "mimetype": "text/x-python",
   "name": "python",
   "nbconvert_exporter": "python",
   "pygments_lexer": "ipython3",
   "version": "3.11.5"
  }
 },
 "nbformat": 4,
 "nbformat_minor": 5
}
