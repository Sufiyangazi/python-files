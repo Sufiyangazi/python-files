{
 "cells": [
  {
   "cell_type": "code",
   "execution_count": null,
   "id": "c2f1671d",
   "metadata": {},
   "outputs": [],
   "source": [
    "#creating a tempororay calculator"
   ]
  },
  {
   "cell_type": "code",
   "execution_count": 1,
   "id": "8a4c1cd3",
   "metadata": {},
   "outputs": [
    {
     "name": "stdout",
     "output_type": "stream",
     "text": [
      "Enter the first number : 12566786\n",
      "Enter the operator(+,-,*,%,/,//)*\n",
      "Enter the second number : 999899\n",
      "The solution is :  12565516754614\n"
     ]
    }
   ],
   "source": [
    "first = eval(input('Enter the first number : '))\n",
    "operator = input('Enter the operator(+,-,*,%,/,//)')\n",
    "second = eval(input('Enter the second number : '))\n",
    "\n",
    "if operator == '+':\n",
    "    print(first + second)\n",
    "    \n",
    "elif operator == '-' :\n",
    "    print('The solution is : ',first - second)\n",
    "elif operator == '*' :\n",
    "    print('The solution is : ',first * second)\n",
    "elif operator == '%' :\n",
    "    print('The solution is : ',first % second)\n",
    "elif operator == '/' :\n",
    "    print('The solution is : ',first / second)\n",
    "elif operator == '//' :\n",
    "    print('The solution is : ',first - second)\n",
    "else :\n",
    "    print('invalid operation')"
   ]
  },
  {
   "cell_type": "code",
   "execution_count": null,
   "id": "dcb85896",
   "metadata": {},
   "outputs": [],
   "source": []
  }
 ],
 "metadata": {
  "kernelspec": {
   "display_name": "Python 3 (ipykernel)",
   "language": "python",
   "name": "python3"
  },
  "language_info": {
   "codemirror_mode": {
    "name": "ipython",
    "version": 3
   },
   "file_extension": ".py",
   "mimetype": "text/x-python",
   "name": "python",
   "nbconvert_exporter": "python",
   "pygments_lexer": "ipython3",
   "version": "3.11.5"
  }
 },
 "nbformat": 4,
 "nbformat_minor": 5
}
