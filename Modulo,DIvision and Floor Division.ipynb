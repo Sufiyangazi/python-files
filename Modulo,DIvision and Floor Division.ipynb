{
 "cells": [
  {
   "cell_type": "code",
   "execution_count": 1,
   "id": "f03e91a0",
   "metadata": {},
   "outputs": [
    {
     "name": "stdout",
     "output_type": "stream",
     "text": [
      "enter the number22\n"
     ]
    }
   ],
   "source": [
    "Num2 =int(input('enter the number'))"
   ]
  },
  {
   "cell_type": "code",
   "execution_count": 2,
   "id": "dc61c4cf",
   "metadata": {},
   "outputs": [
    {
     "name": "stdout",
     "output_type": "stream",
     "text": [
      "enter the number22\n"
     ]
    }
   ],
   "source": [
    "Num2 =float (input('enter the number'))"
   ]
  },
  {
   "cell_type": "markdown",
   "id": "b16e7461",
   "metadata": {},
   "source": [
    "$Eval keyword"
   ]
  },
  {
   "cell_type": "code",
   "execution_count": 3,
   "id": "c2e6f259",
   "metadata": {},
   "outputs": [],
   "source": [
    "# if i want to provide the int value we have to use the int() key word\n"
   ]
  },
  {
   "cell_type": "markdown",
   "id": "c42ea9ec",
   "metadata": {},
   "source": [
    "# if we want to use the foloat value we have to use the Float() key ward "
   ]
  },
  {
   "cell_type": "code",
   "execution_count": 4,
   "id": "4039352e",
   "metadata": {},
   "outputs": [],
   "source": [
    "# To avoid the erroe we use the eval key ward"
   ]
  },
  {
   "cell_type": "code",
   "execution_count": 5,
   "id": "c167b190",
   "metadata": {},
   "outputs": [
    {
     "name": "stdout",
     "output_type": "stream",
     "text": [
      " my name is sufiyan22\n"
     ]
    }
   ],
   "source": [
    "a = eval(input(\" my name is sufiyan\"))"
   ]
  },
  {
   "cell_type": "code",
   "execution_count": 6,
   "id": "5fa98f7a",
   "metadata": {},
   "outputs": [
    {
     "name": "stdout",
     "output_type": "stream",
     "text": [
      "enter the first number22\n",
      "enter the second number22\n",
      "The sum of 22 and 22 is 44 \n"
     ]
    }
   ],
   "source": [
    "a = eval(input('enter the first number'))\n",
    "b = eval(input('enter the second number'))\n",
    "add = a+b\n",
    "print('The sum of {} and {} is {} '.format(a,b,add))"
   ]
  },
  {
   "cell_type": "code",
   "execution_count": 7,
   "id": "3d2e4848",
   "metadata": {},
   "outputs": [
    {
     "name": "stdout",
     "output_type": "stream",
     "text": [
      "Enter the first number222\n",
      "Enter the second number22\n"
     ]
    },
    {
     "data": {
      "text/plain": [
       "244"
      ]
     },
     "execution_count": 7,
     "metadata": {},
     "output_type": "execute_result"
    }
   ],
   "source": [
    "a = input('Enter the first number')\n",
    "b =input('Enter the second number')\n",
    "eval(a) + eval(b)"
   ]
  },
  {
   "cell_type": "markdown",
   "id": "917bd912",
   "metadata": {},
   "source": [
    "#write a pragrame of the user enter the two numbers"
   ]
  },
  {
   "cell_type": "code",
   "execution_count": 8,
   "id": "ca2ade65",
   "metadata": {},
   "outputs": [
    {
     "name": "stdout",
     "output_type": "stream",
     "text": [
      "enter the forst number22\n",
      "enter the second number22\n",
      "the addition of 22 and 22 is 44 \n"
     ]
    }
   ],
   "source": [
    "a = eval(input('enter the forst number'))\n",
    "b = eval(input('enter the second number'))\n",
    "add = a + b\n",
    "print('the addition of {} and {} is {} '.format(a,b,add))"
   ]
  },
  {
   "cell_type": "code",
   "execution_count": 9,
   "id": "bb0763ac",
   "metadata": {},
   "outputs": [
    {
     "name": "stdout",
     "output_type": "stream",
     "text": [
      "enter the forst number22\n",
      "enter the second number22\n",
      "the substraction of 22 and 22 is 0 \n"
     ]
    }
   ],
   "source": [
    "a = eval(input('enter the forst number'))\n",
    "b = eval(input('enter the second number'))\n",
    "sub = a - b\n",
    "print('the substraction of {} and {} is {} '.format(a,b,sub))"
   ]
  },
  {
   "cell_type": "code",
   "execution_count": 10,
   "id": "51564f77",
   "metadata": {},
   "outputs": [
    {
     "name": "stdout",
     "output_type": "stream",
     "text": [
      "enter the forst number222\n",
      "enter the second number22\n",
      "the addition of 222 and 22 is 4884 \n"
     ]
    }
   ],
   "source": [
    "a = eval(input('enter the forst number'))\n",
    "b = eval(input('enter the second number'))\n",
    "mul = a * b\n",
    "print('the addition of {} and {} is {} '.format(a,b, mul))"
   ]
  },
  {
   "cell_type": "code",
   "execution_count": 11,
   "id": "d0e357fd",
   "metadata": {},
   "outputs": [
    {
     "name": "stdout",
     "output_type": "stream",
     "text": [
      "enter the forst number22\n",
      "enter the second number22\n",
      "the addition of 22 and 22 is 44 \n",
      "the addition of 22 and 22 is 0 \n",
      "the addition of 22 and 22 is 484 \n"
     ]
    }
   ],
   "source": [
    "a = eval(input('enter the forst number'))\n",
    "b = eval(input('enter the second number'))\n",
    "add = a + b\n",
    "sub = a - b\n",
    "mul = a * b\n",
    "print('the addition of {} and {} is {} '.format(a,b,add))\n",
    "print('the addition of {} and {} is {} '.format(a,b,sub))\n",
    "print('the addition of {} and {} is {} '.format(a,b,mul))     "
   ]
  },
  {
   "cell_type": "code",
   "execution_count": 12,
   "id": "c741ae45",
   "metadata": {},
   "outputs": [
    {
     "name": "stdout",
     "output_type": "stream",
     "text": [
      "enter the forst number22\n",
      "enter the second number22\n",
      "the addition of 22 and 22 is 44 \n",
      "the addition of 22 and 22 is 0 \n",
      "the addition of 22 and 22 is 484 \n",
      "the addition of 22 and 22 is 1.0 \n"
     ]
    }
   ],
   "source": [
    "a = eval(input('enter the forst number'))\n",
    "b = eval(input('enter the second number'))\n",
    "add = a + b\n",
    "sub = a - b\n",
    "mul = a * b\n",
    "div = a / b\n",
    "print('the addition of {} and {} is {} '.format(a,b,add))\n",
    "print('the addition of {} and {} is {} '.format(a,b,sub))\n",
    "print('the addition of {} and {} is {} '.format(a,b,mul))\n",
    "print('the addition of {} and {} is {} '.format(a,b,div))\n"
   ]
  },
  {
   "cell_type": "code",
   "execution_count": 13,
   "id": "c61f3abb",
   "metadata": {},
   "outputs": [
    {
     "name": "stdout",
     "output_type": "stream",
     "text": [
      "enter the first number6\n",
      "enter the second the number6\n",
      "enter the third the number6\n",
      "the average of 6 6 and 6 is 6.0\n"
     ]
    }
   ],
   "source": [
    "a = eval(input('enter the first number'))\n",
    "b = eval(input('enter the second the number'))\n",
    "c = eval(input('enter the third the number'))\n",
    "average = (a+b+c)/3\n",
    "print('the average of {} {} and {} is {}'.format(a,b,c,average))"
   ]
  },
  {
   "cell_type": "code",
   "execution_count": null,
   "id": "27fc13f3",
   "metadata": {},
   "outputs": [],
   "source": [
    "a = eval(input('enter the first number'))\n",
    "b = eval(input('enter the second the number'))\n",
    "c = eval(input('enter the third the number'))\n",
    "average = (a+b+c)/3\n",
    "final_average =round(average,3)\n",
    "print('the average of {} {} and {} is {}'.format(a,b,c,final_average))\n"
   ]
  },
  {
   "cell_type": "code",
   "execution_count": 1,
   "id": "8967af6e",
   "metadata": {},
   "outputs": [
    {
     "name": "stdout",
     "output_type": "stream",
     "text": [
      "enter the first number134\n",
      "enter the second the number12345\n",
      "enter the third the number2353532\n",
      "the average of 134 12345 and 2353532 is 788670.333\n"
     ]
    }
   ],
   "source": [
    "a = eval(input('enter the first number'))\n",
    "b = eval(input('enter the second the number'))\n",
    "c = eval(input('enter the third the number'))\n",
    "average = (a+b+c)/3\n",
    "final_average =round(average,3)\n",
    "print('the average of {} {} and {} is {}'.format(a,b,c,final_average))"
   ]
  },
  {
   "cell_type": "code",
   "execution_count": 2,
   "id": "19e8c550",
   "metadata": {},
   "outputs": [
    {
     "data": {
      "text/plain": [
       "6.0"
      ]
     },
     "execution_count": 2,
     "metadata": {},
     "output_type": "execute_result"
    }
   ],
   "source": [
    "12/2"
   ]
  },
  {
   "cell_type": "code",
   "execution_count": 3,
   "id": "6b76c0ac",
   "metadata": {},
   "outputs": [
    {
     "data": {
      "text/plain": [
       "0"
      ]
     },
     "execution_count": 3,
     "metadata": {},
     "output_type": "execute_result"
    }
   ],
   "source": [
    "12%2"
   ]
  },
  {
   "cell_type": "code",
   "execution_count": 4,
   "id": "63d5fbfc",
   "metadata": {},
   "outputs": [
    {
     "data": {
      "text/plain": [
       "6"
      ]
     },
     "execution_count": 4,
     "metadata": {},
     "output_type": "execute_result"
    }
   ],
   "source": [
    "12//2"
   ]
  },
  {
   "cell_type": "markdown",
   "id": "7bcf06b7",
   "metadata": {},
   "source": [
    "#write a program tp enter the bill aount tip amount and total amount"
   ]
  },
  {
   "cell_type": "code",
   "execution_count": 5,
   "id": "3c5530fb",
   "metadata": {},
   "outputs": [
    {
     "name": "stdout",
     "output_type": "stream",
     "text": [
      "enter the bil amount100\n",
      "enter the tip amoubt1000\n",
      "The total amount is 1100\n"
     ]
    }
   ],
   "source": [
    "bill_amount = eval(input(\"enter the bil amount\"))\n",
    "tip_amount = eval(input(\"enter the tip amoubt\"))\n",
    "Total_amount = bill_amount+tip_amount\n",
    "print('The total amount is',Total_amount)\n",
    "\n"
   ]
  },
  {
   "cell_type": "code",
   "execution_count": 7,
   "id": "6e8f8fb5",
   "metadata": {},
   "outputs": [
    {
     "name": "stdout",
     "output_type": "stream",
     "text": [
      "enter the bil amount1000\n",
      "enter the percentage of amount%10\n"
     ]
    },
    {
     "ename": "SyntaxError",
     "evalue": "invalid syntax (<string>, line 1)",
     "output_type": "error",
     "traceback": [
      "Traceback \u001b[1;36m(most recent call last)\u001b[0m:\n",
      "\u001b[0m  File \u001b[0;32m~\\anaconda3\\Lib\\site-packages\\IPython\\core\\interactiveshell.py:3526\u001b[0m in \u001b[0;35mrun_code\u001b[0m\n    exec(code_obj, self.user_global_ns, self.user_ns)\u001b[0m\n",
      "\u001b[1;36m  Cell \u001b[1;32mIn[7], line 2\u001b[1;36m\n\u001b[1;33m    tip_amount =eval(input('enter the percentage of amount'))\u001b[1;36m\n",
      "\u001b[1;36m  File \u001b[1;32m<string>:1\u001b[1;36m\u001b[0m\n\u001b[1;33m    %10\u001b[0m\n\u001b[1;37m    ^\u001b[0m\n\u001b[1;31mSyntaxError\u001b[0m\u001b[1;31m:\u001b[0m invalid syntax\n"
     ]
    }
   ],
   "source": [
    "bill_amount = eval(input(\"enter the bil amount\"))\n",
    "tip_amount =eval(input('enter the percentage of amount'))\n",
    "total = bill_amount + tip_amount\n",
    "print('total amount ',total_amount)\n"
   ]
  },
  {
   "cell_type": "code",
   "execution_count": 10,
   "id": "363f8c88",
   "metadata": {},
   "outputs": [
    {
     "name": "stdout",
     "output_type": "stream",
     "text": [
      "enter the bill amount1000\n",
      "enter the tip percentage20\n",
      "1200.0\n"
     ]
    }
   ],
   "source": [
    "bill_amount = eval(input('enter the bill amount'))\n",
    "tip = eval(input('enter the tip percentage'))\n",
    "total_amount = (bill_amount+((bill_amount*tip)/100))\n",
    "print(total_amount)"
   ]
  },
  {
   "cell_type": "code",
   "execution_count": 15,
   "id": "4b56256b",
   "metadata": {},
   "outputs": [
    {
     "name": "stdout",
     "output_type": "stream",
     "text": [
      "How many Dollers you want to pay 20\n",
      "Manager : No Dollers are not accepted\n",
      "COustemer : Then waht will accept\n",
      "MAnager : Only Indiam Rupees\n",
      "one doller equal to how many rupees75\n",
      "1500\n"
     ]
    }
   ],
   "source": [
    "pay = eval(input('How many Dollers you want to pay '))\n",
    "print('Manager : No Dollers are not accepted')\n",
    "print(\"COustemer : Then waht will accept\")\n",
    "print('MAnager : Only Indiam Rupees')\n",
    "exchange = eval(input('one doller equal to how many rupees'))\n",
    "total_amount =pay * exchange\n",
    "print(total_amount)\n",
    "\n",
    "    \n",
    "                "
   ]
  },
  {
   "cell_type": "code",
   "execution_count": 16,
   "id": "5067b48a",
   "metadata": {},
   "outputs": [
    {
     "name": "stdout",
     "output_type": "stream",
     "text": [
      "my name is sufiyan\n"
     ]
    }
   ],
   "source": [
    "print('my name is sufiyan')"
   ]
  },
  {
   "cell_type": "code",
   "execution_count": null,
   "id": "1558caa5",
   "metadata": {},
   "outputs": [],
   "source": []
  }
 ],
 "metadata": {
  "kernelspec": {
   "display_name": "Python 3 (ipykernel)",
   "language": "python",
   "name": "python3"
  },
  "language_info": {
   "codemirror_mode": {
    "name": "ipython",
    "version": 3
   },
   "file_extension": ".py",
   "mimetype": "text/x-python",
   "name": "python",
   "nbconvert_exporter": "python",
   "pygments_lexer": "ipython3",
   "version": "3.11.5"
  }
 },
 "nbformat": 4,
 "nbformat_minor": 5
}
