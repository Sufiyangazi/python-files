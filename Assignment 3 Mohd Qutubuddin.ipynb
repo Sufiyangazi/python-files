{
 "cells": [
  {
   "cell_type": "code",
   "execution_count": null,
   "id": "1d8d25a6",
   "metadata": {},
   "outputs": [],
   "source": [
    "#Question 1 : without arguments"
   ]
  },
  {
   "cell_type": "code",
   "execution_count": 15,
   "id": "54dc19be",
   "metadata": {},
   "outputs": [
    {
     "name": "stdout",
     "output_type": "stream",
     "text": [
      "Enter the number 5\n",
      "The sqaure of 5 is 25 \n"
     ]
    }
   ],
   "source": [
    "def square() :\n",
    "    try :\n",
    "        number = eval(input(\"Enter the number \"))\n",
    "        square = number**2\n",
    "        print('The sqaure of {} is {} '.format(number,square))\n",
    "    except exaption as e :\n",
    "        print(e)\n",
    "square()        "
   ]
  },
  {
   "cell_type": "code",
   "execution_count": null,
   "id": "6faf3018",
   "metadata": {},
   "outputs": [],
   "source": [
    "# With Arguments"
   ]
  },
  {
   "cell_type": "code",
   "execution_count": 16,
   "id": "a8b673ca",
   "metadata": {},
   "outputs": [
    {
     "name": "stdout",
     "output_type": "stream",
     "text": [
      "The sqaure of 5 is 25 \n"
     ]
    }
   ],
   "source": [
    "def square(number) :\n",
    "    try :\n",
    "        square = number**2\n",
    "        print('The sqaure of {} is {} '.format(number,square))\n",
    "    except exaption as e :\n",
    "        print(e)\n",
    "                \n",
    "square(5)"
   ]
  },
  {
   "cell_type": "code",
   "execution_count": null,
   "id": "3108519a",
   "metadata": {},
   "outputs": [],
   "source": [
    "# with defult arguments"
   ]
  },
  {
   "cell_type": "code",
   "execution_count": 17,
   "id": "ab6332e4",
   "metadata": {},
   "outputs": [
    {
     "name": "stdout",
     "output_type": "stream",
     "text": [
      "The sqaure of 5 is 25 \n"
     ]
    }
   ],
   "source": [
    "def square(number=5) :\n",
    "    try :\n",
    "        square = number**2\n",
    "        print('The sqaure of {} is {} '.format(number,square))\n",
    "    except exaption as e :\n",
    "        print(e)\n",
    "square()"
   ]
  },
  {
   "cell_type": "code",
   "execution_count": null,
   "id": "14e4ab08",
   "metadata": {},
   "outputs": [],
   "source": [
    "# with return keyword"
   ]
  },
  {
   "cell_type": "code",
   "execution_count": 18,
   "id": "926bd705",
   "metadata": {},
   "outputs": [
    {
     "name": "stdout",
     "output_type": "stream",
     "text": [
      "Enter the number : 5\n",
      "The sqaure of 5 is 25 \n",
      "25\n"
     ]
    }
   ],
   "source": [
    "def square() :\n",
    "    try :\n",
    "        number = eval(input(\"Enter the number : \"))\n",
    "        square = number**2\n",
    "        print('The sqaure of {} is {} '.format(number,square))\n",
    "        return(square)\n",
    "    except exaption as e :\n",
    "        print(e)\n",
    "\n",
    "output = square()\n",
    "print(output)"
   ]
  },
  {
   "cell_type": "code",
   "execution_count": 20,
   "id": "3f4287be",
   "metadata": {},
   "outputs": [],
   "source": [
    "# Question 2 : Without Arguments"
   ]
  },
  {
   "cell_type": "code",
   "execution_count": 19,
   "id": "9cbfd592",
   "metadata": {},
   "outputs": [
    {
     "name": "stdout",
     "output_type": "stream",
     "text": [
      "Enter the number : 7\n",
      "7---14---21---28---35\n"
     ]
    }
   ],
   "source": [
    "def three_dashes() :\n",
    "    try :\n",
    "        number = eval(input('Enter the number : '))\n",
    "        print(1*number,2*number,3*number,4*number,5*number, sep = '---')\n",
    "    except exaption as e :\n",
    "        print(e)\n",
    "three_dashes()        "
   ]
  },
  {
   "cell_type": "code",
   "execution_count": null,
   "id": "c618ec12",
   "metadata": {},
   "outputs": [],
   "source": [
    "# with Arguments"
   ]
  },
  {
   "cell_type": "code",
   "execution_count": 23,
   "id": "702fd309",
   "metadata": {},
   "outputs": [
    {
     "name": "stdout",
     "output_type": "stream",
     "text": [
      "7---14---21---28---35\n"
     ]
    }
   ],
   "source": [
    "def three_dashes(number) :\n",
    "    try :\n",
    "        print(1*number,2*number,3*number,4*number,5*number, sep = '---')\n",
    "    except exaption as e :\n",
    "        print(e)\n",
    "three_dashes(7)        "
   ]
  },
  {
   "cell_type": "code",
   "execution_count": 21,
   "id": "6b0cd767",
   "metadata": {},
   "outputs": [],
   "source": [
    "# With defult Arguments"
   ]
  },
  {
   "cell_type": "code",
   "execution_count": 24,
   "id": "b22cfef7",
   "metadata": {},
   "outputs": [
    {
     "name": "stdout",
     "output_type": "stream",
     "text": [
      "7---14---21---28---35\n"
     ]
    }
   ],
   "source": [
    "def three_dashes(number = 7) :\n",
    "    try :\n",
    "        print(1*number,2*number,3*number,4*number,5*number, sep = '---')\n",
    "    except exaption as e :\n",
    "        print(e)\n",
    "three_dashes()"
   ]
  },
  {
   "cell_type": "code",
   "execution_count": null,
   "id": "cfcee3ef",
   "metadata": {},
   "outputs": [],
   "source": [
    "#Question 3 : Without Arguments"
   ]
  },
  {
   "cell_type": "code",
   "execution_count": null,
   "id": "03b6d436",
   "metadata": {},
   "outputs": [],
   "source": [
    "def weight_to_pounds () :\n",
    "    try :\n",
    "        weight_in_kilograms = eval(input('Enter the weight in Kg :'))\n",
    "        pounds = 2.2\n",
    "        weight_in_pounds = weight_in_kilograms * pounds\n",
    "        print(round(weight_in_pounds,2),'lbs')\n",
    "    except exaption as e :\n",
    "        print(e)\n",
    "weight_to_pounds()        "
   ]
  },
  {
   "cell_type": "code",
   "execution_count": null,
   "id": "5b2f4805",
   "metadata": {},
   "outputs": [],
   "source": [
    "# with Arguments"
   ]
  },
  {
   "cell_type": "code",
   "execution_count": null,
   "id": "82cf2748",
   "metadata": {},
   "outputs": [],
   "source": [
    "def weight_to_pounds (weight) :\n",
    "    try :\n",
    "        pounds = 2.2\n",
    "        weight_in_pounds = weight * pounds\n",
    "        print(round(weight_in_pounds,2),'lbs')\n",
    "    except exaption as e :\n",
    "        print(e)\n",
    "              \n",
    "weight_to_pounds(68.75)"
   ]
  },
  {
   "cell_type": "code",
   "execution_count": null,
   "id": "8710cb8e",
   "metadata": {},
   "outputs": [],
   "source": [
    "# with defult arguments"
   ]
  },
  {
   "cell_type": "code",
   "execution_count": null,
   "id": "9e0a8595",
   "metadata": {},
   "outputs": [],
   "source": [
    "def weight_to_pounds (weight=68.75) :\n",
    "    try :\n",
    "        pounds = 2.2\n",
    "        weight_in_pounds = weight * pounds\n",
    "        print(round(weight_in_pounds,2),'lbs')\n",
    "    except exaption as e :\n",
    "        print(e)\n",
    "weight_to_pounds()"
   ]
  },
  {
   "cell_type": "code",
   "execution_count": null,
   "id": "75b5f156",
   "metadata": {},
   "outputs": [],
   "source": [
    "# with return keyword"
   ]
  },
  {
   "cell_type": "code",
   "execution_count": null,
   "id": "b2fba416",
   "metadata": {},
   "outputs": [],
   "source": [
    "def weight_to_pounds () :\n",
    "    try :\n",
    "        weight_in_kilograms = eval(input('Enter the weight in Kg :'))\n",
    "        pounds = 2.2\n",
    "        weight_in_pounds = weight_in_kilograms * pounds\n",
    "        print(round(weight_in_pounds,2),'lbs')\n",
    "        return(weight_in_pounds)\n",
    "    except exaption as e :\n",
    "        print(e)\n",
    "output2=weight_to_pounds()\n",
    "print(output2)"
   ]
  },
  {
   "cell_type": "code",
   "execution_count": null,
   "id": "a8e9bff8",
   "metadata": {},
   "outputs": [],
   "source": [
    "#Quston 4 : Without Arguments"
   ]
  },
  {
   "cell_type": "code",
   "execution_count": null,
   "id": "42d96960",
   "metadata": {},
   "outputs": [],
   "source": [
    "def total_Average():\n",
    "    try :\n",
    "        num1 = eval(input('Enter the first number :'))\n",
    "        num2 = eval(input('Enter the second number :'))\n",
    "        num3 = eval(input('Entr the third number : '))\n",
    "        total = num1+num2+num3\n",
    "        average = (num1+num2+num3/3)\n",
    "        print('The total of {},{} and {} = {} '.format(num1,num2,num3,total))\n",
    "        print('The Average of {},{} and {} = {} '.format(num1,num2,num3,round(average,2)))\n",
    "    except exaption as e :\n",
    "        print(e)\n",
    "total_Average()       "
   ]
  },
  {
   "cell_type": "code",
   "execution_count": null,
   "id": "46d0a55c",
   "metadata": {},
   "outputs": [],
   "source": [
    "# With arguments"
   ]
  },
  {
   "cell_type": "code",
   "execution_count": null,
   "id": "915ca0fc",
   "metadata": {},
   "outputs": [],
   "source": [
    "def total_Average(num1,num2,num3):\n",
    "    try :\n",
    "        total = num1+num2+num3\n",
    "        average = (num1+num2+num3/3)\n",
    "        print('The total of {},{} and {} = {} '.format(num1,num2,num3,total))\n",
    "        print('The Average of {},{} and {} = {} '.format(num1,num2,num3,round(average,2)))\n",
    "    except exaption as e :\n",
    "        print(e)\n",
    "total_Average(100,200,300)  "
   ]
  },
  {
   "cell_type": "code",
   "execution_count": null,
   "id": "6639c0fa",
   "metadata": {},
   "outputs": [],
   "source": [
    "# with defult arguments"
   ]
  },
  {
   "cell_type": "code",
   "execution_count": null,
   "id": "50ca6259",
   "metadata": {},
   "outputs": [],
   "source": [
    "def total_Average(num1,num3,num2=1400):\n",
    "    try :\n",
    "        total = num1+num2+num3\n",
    "        average = (num1+num2+num3/3)\n",
    "        print('The total of {},{} and {} = {} '.format(num1,num2,num3,total))\n",
    "        print('The Average of {},{} and {} = {} '.format(num1,num2,num3,round(average,2)))\n",
    "    except exaption as e :\n",
    "        print(e)\n",
    "total_Average(921,525)  "
   ]
  },
  {
   "cell_type": "code",
   "execution_count": null,
   "id": "fbd5ae00",
   "metadata": {},
   "outputs": [],
   "source": [
    "#with return keyword"
   ]
  },
  {
   "cell_type": "code",
   "execution_count": null,
   "id": "ed4c6a0a",
   "metadata": {},
   "outputs": [],
   "source": [
    "def total_Average(num1,num3,num2=1400):\n",
    "    try :\n",
    "        total = num1+num2+num3\n",
    "        average = (num1+num2+num3/3)\n",
    "        print('The total of {},{} and {} = {} '.format(num1,num2,num3,total))\n",
    "        print('The Average of {},{} and {} = {} '.format(num1,num2,num3,round(average,2)))\n",
    "        return(total,average)\n",
    "    except exaption as e :\n",
    "        print(e)\n",
    "        \n",
    "output3,output4 =total_Average(921,525)\n",
    "print(output3)\n",
    "print(output4)"
   ]
  },
  {
   "cell_type": "code",
   "execution_count": null,
   "id": "3ccb9afe",
   "metadata": {},
   "outputs": [],
   "source": [
    "# Question 5 : With Arguments"
   ]
  },
  {
   "cell_type": "code",
   "execution_count": 1,
   "id": "108a6a69",
   "metadata": {},
   "outputs": [
    {
     "name": "stdout",
     "output_type": "stream",
     "text": [
      "Enter the pirce of meal : 985.35\n",
      "Enter the tip percentage : 17\n",
      "Amount to pay =  1152.86 Rs\n"
     ]
    }
   ],
   "source": [
    "def tip_calculator() :\n",
    "    try :\n",
    "        price_of_meal  = eval(input('Enter the pirce of meal : '))\n",
    "        tip = eval(input('Enter the tip percentage : '))\n",
    "        total_amount = (price_of_meal+(price_of_meal*tip/100))\n",
    "        print('Amount to pay = ' ,round(total_amount,2),'Rs')\n",
    "    except exaption as e :\n",
    "        print(e)\n",
    "tip_calculator()        "
   ]
  },
  {
   "cell_type": "code",
   "execution_count": null,
   "id": "ce68258c",
   "metadata": {},
   "outputs": [],
   "source": [
    "# without arguments"
   ]
  },
  {
   "cell_type": "code",
   "execution_count": 2,
   "id": "cdc7f5e8",
   "metadata": {},
   "outputs": [
    {
     "name": "stdout",
     "output_type": "stream",
     "text": [
      "Amount to pay =  908.05 Rs\n"
     ]
    }
   ],
   "source": [
    "def tip_calculator(price_of_meal,tip) :\n",
    "    try :\n",
    "        total_amount = (price_of_meal+(price_of_meal*tip/100))\n",
    "        print('Amount to pay = ' ,round(total_amount,2),'Rs')\n",
    "    except exaption as e :\n",
    "        print(e)\n",
    "tip_calculator(738.25,23)"
   ]
  },
  {
   "cell_type": "code",
   "execution_count": 3,
   "id": "80b3deaa",
   "metadata": {},
   "outputs": [],
   "source": [
    "# with defult arguments"
   ]
  },
  {
   "cell_type": "code",
   "execution_count": 4,
   "id": "7116fdef",
   "metadata": {},
   "outputs": [
    {
     "name": "stdout",
     "output_type": "stream",
     "text": [
      "Amount to pay =  834.22 Rs\n"
     ]
    }
   ],
   "source": [
    "def tip_calculator(price_of_meal,tip=13) :\n",
    "    try :\n",
    "        total_amount = (price_of_meal+(price_of_meal*tip/100))\n",
    "        print('Amount to pay = ' ,round(total_amount,2),'Rs')\n",
    "    except exaption as e :\n",
    "        print(e)\n",
    "tip_calculator(738.25)"
   ]
  },
  {
   "cell_type": "code",
   "execution_count": 5,
   "id": "edd544d6",
   "metadata": {},
   "outputs": [],
   "source": [
    "# with return keyword"
   ]
  },
  {
   "cell_type": "code",
   "execution_count": 9,
   "id": "5f744d49",
   "metadata": {},
   "outputs": [
    {
     "name": "stdout",
     "output_type": "stream",
     "text": [
      "Amount to pay =  834.22 Rs\n",
      "834.2225\n"
     ]
    }
   ],
   "source": [
    "def tip_calculator(price_of_meal,tip=13) :\n",
    "    try :\n",
    "        total_amount = (price_of_meal+(price_of_meal*tip/100))\n",
    "        print('Amount to pay = ' ,round(total_amount,2),'Rs')\n",
    "        return(total_amount)\n",
    "    except exaption as e :\n",
    "        print(e)\n",
    "output5=tip_calculator(738.25)\n",
    "print(output5)"
   ]
  },
  {
   "cell_type": "code",
   "execution_count": 10,
   "id": "c3df3dc3",
   "metadata": {},
   "outputs": [],
   "source": [
    "# Question 6 : without Arguments"
   ]
  },
  {
   "cell_type": "code",
   "execution_count": null,
   "id": "29861e62",
   "metadata": {},
   "outputs": [],
   "source": [
    "def gross_salary() :\n",
    "    try :\n",
    "        basic_salary = eval(input('Enter the rameshs basic salary :'))\n",
    "        dearness_allowance = basic_salary * 0.4\n",
    "        rent_allowace = basic_salary * 0.2\n",
    "        gross_salary = basic_salary + dearness_allowance + rent_allowace\n",
    "        print('The gross salary of ramaesh is {} '.format(round(gross_salary,2)))\n",
    "    except exaption as e :\n",
    "        print(e)\n",
    "        \n",
    "gross_salary()        "
   ]
  },
  {
   "cell_type": "code",
   "execution_count": 11,
   "id": "2e1e52a1",
   "metadata": {},
   "outputs": [],
   "source": [
    "#with Arguments"
   ]
  },
  {
   "cell_type": "code",
   "execution_count": 12,
   "id": "66788893",
   "metadata": {},
   "outputs": [
    {
     "name": "stdout",
     "output_type": "stream",
     "text": [
      "The gross salary of ramaesh is 44000.0 \n"
     ]
    }
   ],
   "source": [
    "def gross_salary(basic_salary) :\n",
    "    try :\n",
    "        dearness_allowance = basic_salary * 0.4\n",
    "        rent_allowace = basic_salary * 0.2\n",
    "        gross_salary = basic_salary + dearness_allowance + rent_allowace\n",
    "        print('The gross salary of ramaesh is {} '.format(round(gross_salary,2)))\n",
    "    except exaption as e :\n",
    "        print(e)\n",
    "        \n",
    "gross_salary(27500)"
   ]
  },
  {
   "cell_type": "code",
   "execution_count": 13,
   "id": "47cacfce",
   "metadata": {},
   "outputs": [],
   "source": [
    "# with defult Arguments"
   ]
  },
  {
   "cell_type": "code",
   "execution_count": 14,
   "id": "ae07eca4",
   "metadata": {},
   "outputs": [
    {
     "name": "stdout",
     "output_type": "stream",
     "text": [
      "The gross salary of ramaesh is 51840.0 \n"
     ]
    }
   ],
   "source": [
    "def gross_salary(basic_salary=32400) :\n",
    "    try :\n",
    "        dearness_allowance = basic_salary * 0.4\n",
    "        rent_allowace = basic_salary * 0.2\n",
    "        gross_salary = basic_salary + dearness_allowance + rent_allowace\n",
    "        print('The gross salary of ramaesh is {} '.format(round(gross_salary,2)))\n",
    "    except exaption as e :\n",
    "        print(e)\n",
    "        \n",
    "gross_salary()"
   ]
  },
  {
   "cell_type": "code",
   "execution_count": 15,
   "id": "44af2cc4",
   "metadata": {},
   "outputs": [],
   "source": [
    "# With return keyword"
   ]
  },
  {
   "cell_type": "code",
   "execution_count": 26,
   "id": "e24ebe68",
   "metadata": {},
   "outputs": [
    {
     "name": "stdout",
     "output_type": "stream",
     "text": [
      "The gross salary of ramaesh is 51840.0 \n",
      "The darness allowance is : 12960.0\n",
      "The rent allowance 6480.0\n",
      "51840.0\n"
     ]
    }
   ],
   "source": [
    "def gross_salary(basic_salary=32400) :\n",
    "    try :\n",
    "        dearness_allowance = basic_salary * 0.4\n",
    "        rent_allowance = basic_salary * 0.2\n",
    "        gross_salary = basic_salary + dearness_allowance + rent_allowance\n",
    "        print('The gross salary of ramaesh is {} '.format(round(gross_salary,2)))\n",
    "        return(dearness_allowance,rent_allowance,gross_salary)\n",
    "    except exaption as e :\n",
    "        print(e)\n",
    "\n",
    "output6,output7,output8 = gross_salary()\n",
    "print('The darness allowance is :',output6)\n",
    "print('The rent allowance',output7)\n",
    "print(output8)"
   ]
  },
  {
   "cell_type": "code",
   "execution_count": null,
   "id": "cf8780c8",
   "metadata": {},
   "outputs": [],
   "source": [
    "# Question 7 : Without Arhuments"
   ]
  },
  {
   "cell_type": "code",
   "execution_count": null,
   "id": "9447ccea",
   "metadata": {},
   "outputs": [],
   "source": [
    "def distnce():\n",
    "    try :\n",
    "        distance = eval(input('Enter the distance between the two cities in Km :'))\n",
    "        distance_in_meters = distance * 1000\n",
    "        distance_in_feets = distance * 3280.83\n",
    "        distance_in_inches = distance * 39370\n",
    "        distance_in_centimeters  = distance * 1e5\n",
    "        print('The distance between the two cities in meters is =', round(distance_in_meters,2),\"m\")\n",
    "        print('The distance between the two cities in feets is =', round(distance_in_feets,2),'ft')\n",
    "        print('The distance between the two cities in inches is =',round(distance_in_inches,2),'in')\n",
    "        print('The distance between the two cities in centi meters is =',round(distance_in_centimeters,2),'cm')\n",
    "    except exaption as e:\n",
    "        print(e) \n",
    "distnce()        "
   ]
  },
  {
   "cell_type": "code",
   "execution_count": 27,
   "id": "f63f6bdb",
   "metadata": {},
   "outputs": [],
   "source": [
    "# With Arguments"
   ]
  },
  {
   "cell_type": "code",
   "execution_count": 29,
   "id": "05fcd442",
   "metadata": {},
   "outputs": [
    {
     "name": "stdout",
     "output_type": "stream",
     "text": [
      "The distance between the two cities in meters is = 9482430.0 m\n",
      "The distance between the two cities in feets is = 31110240.82 ft\n",
      "The distance between the two cities in inches is = 373323269.1 in\n",
      "The distance between the two cities in centi meters is = 948243000.0 cm\n"
     ]
    }
   ],
   "source": [
    "def distance_in_different_SI_units(distance):\n",
    "    try :\n",
    "        distance_in_meters = distance * 1000\n",
    "        distance_in_feets = distance * 3280.83\n",
    "        distance_in_inches = distance * 39370\n",
    "        distance_in_centimeters  = distance * 1e5\n",
    "        print('The distance between the two cities in meters is =', round(distance_in_meters,2),\"m\")\n",
    "        print('The distance between the two cities in feets is =', round(distance_in_feets,2),'ft')\n",
    "        print('The distance between the two cities in inches is =',round(distance_in_inches,2),'in')\n",
    "        print('The distance between the two cities in centi meters is =',round(distance_in_centimeters,2),'cm')\n",
    "    except exaption as e:\n",
    "        print(e) \n",
    "distance_in_different_SI_units(9482.43)        "
   ]
  },
  {
   "cell_type": "code",
   "execution_count": 30,
   "id": "e0c10c7c",
   "metadata": {},
   "outputs": [],
   "source": [
    "# with Defult Argument"
   ]
  },
  {
   "cell_type": "code",
   "execution_count": 31,
   "id": "5d704e0b",
   "metadata": {},
   "outputs": [
    {
     "name": "stdout",
     "output_type": "stream",
     "text": [
      "The distance between the two cities in meters is = 8234510.0 m\n",
      "The distance between the two cities in feets is = 27016027.44 ft\n",
      "The distance between the two cities in inches is = 324192658.7 in\n",
      "The distance between the two cities in centi meters is = 823451000.0 cm\n"
     ]
    }
   ],
   "source": [
    "def distance_in_different_SI_units(distance=8234.51):\n",
    "    try :\n",
    "        distance_in_meters = distance * 1000\n",
    "        distance_in_feets = distance * 3280.83\n",
    "        distance_in_inches = distance * 39370\n",
    "        distance_in_centimeters  = distance * 1e5\n",
    "        print('The distance between the two cities in meters is =', round(distance_in_meters,2),\"m\")\n",
    "        print('The distance between the two cities in feets is =', round(distance_in_feets,2),'ft')\n",
    "        print('The distance between the two cities in inches is =',round(distance_in_inches,2),'in')\n",
    "        print('The distance between the two cities in centi meters is =',round(distance_in_centimeters,2),'cm')\n",
    "    except exaption as e:\n",
    "        print(e) \n",
    "distance_in_different_SI_units()"
   ]
  },
  {
   "cell_type": "code",
   "execution_count": 32,
   "id": "0896d1aa",
   "metadata": {},
   "outputs": [],
   "source": [
    "# with return keyboard"
   ]
  },
  {
   "cell_type": "code",
   "execution_count": 33,
   "id": "0f0bcf68",
   "metadata": {},
   "outputs": [
    {
     "name": "stdout",
     "output_type": "stream",
     "text": [
      "The distance between the two cities in meters is = 8234510.0 m\n",
      "The distance between the two cities in feets is = 27016027.44 ft\n",
      "The distance between the two cities in inches is = 324192658.7 in\n",
      "The distance between the two cities in centi meters is = 823451000.0 cm\n",
      "8234510.0\n",
      "27016027.4433\n",
      "324192658.7\n",
      "823451000.0\n"
     ]
    }
   ],
   "source": [
    "def distance_in_different_SI_units(distance=8234.51):\n",
    "    try :\n",
    "        distance_in_meters = distance * 1000\n",
    "        distance_in_feets = distance * 3280.83\n",
    "        distance_in_inches = distance * 39370\n",
    "        distance_in_centimeters  = distance * 1e5\n",
    "        print('The distance between the two cities in meters is =', round(distance_in_meters,2),\"m\")\n",
    "        print('The distance between the two cities in feets is =', round(distance_in_feets,2),'ft')\n",
    "        print('The distance between the two cities in inches is =',round(distance_in_inches,2),'in')\n",
    "        print('The distance between the two cities in centi meters is =',round(distance_in_centimeters,2),'cm')\n",
    "        return(distance_in_meters,distance_in_feets,distance_in_inches,distance_in_centimeters)\n",
    "    except exaption as e:\n",
    "        print(e) \n",
    "output9,output10,output11,output12=distance_in_different_SI_units()\n",
    "print(output9)\n",
    "print(output10)\n",
    "print(output11)\n",
    "print(output12)"
   ]
  },
  {
   "cell_type": "code",
   "execution_count": 34,
   "id": "28ac5093",
   "metadata": {},
   "outputs": [],
   "source": [
    "#Question 8 : with Arguments"
   ]
  },
  {
   "cell_type": "code",
   "execution_count": null,
   "id": "77320a7c",
   "metadata": {},
   "outputs": [],
   "source": [
    "def Aggregate_and_Percentage_of_marks() :\n",
    "    try :\n",
    "        Telugu = eval(input('Enter the marks of Telugu : '))\n",
    "        Hindi = eval(input('Enter the marks of Hindi : '))\n",
    "        English = eval(input('Enter the marks of English : '))\n",
    "        Maths = eval(input('Enter the marks of Maths : '))\n",
    "        Science = eval(input('Enter the marks of Science : '))\n",
    "        maximam_marks = 500\n",
    "        total_marks_obtained = Telugu+Hindi+English+Maths+Science\n",
    "        Aggregate_marks = (total_marks_obtained)/5\n",
    "        percentage_of_marks = (total_marks_obtained/maximam_marks)*100\n",
    "        print('The total marks obtained by the student =',total_marks_obtained)\n",
    "        print('The Aggregate marks of the student = ',Aggregate_marks)\n",
    "        print('The percentage obtained by the student =',round(percentage_of_marks,2),'%')\n",
    "              \n",
    "    except exaption as e :\n",
    "              print(e)\n",
    "            \n",
    "Aggregate_and_Percentage_of_marks()            "
   ]
  },
  {
   "cell_type": "code",
   "execution_count": 35,
   "id": "ed6ea736",
   "metadata": {},
   "outputs": [],
   "source": [
    "# with Arguments"
   ]
  },
  {
   "cell_type": "code",
   "execution_count": 38,
   "id": "1fd2bb59",
   "metadata": {},
   "outputs": [
    {
     "name": "stdout",
     "output_type": "stream",
     "text": [
      "The total marks obtained by the student = 322\n",
      "The Aggregate marks of the student =  64.4\n",
      "The percentage obtained by the student = 64.4 %\n"
     ]
    }
   ],
   "source": [
    "def Aggregate_and_Percentage_of_marks(Telugu,Hindi,English,Maths,Science) :\n",
    "    try :\n",
    "        maximam_marks = 500\n",
    "        total_marks_obtained = Telugu+Hindi+English+Maths+Science\n",
    "        Aggregate_marks = (total_marks_obtained)/5\n",
    "        percentage_of_marks = (total_marks_obtained/maximam_marks)*100\n",
    "        print('The total marks obtained by the student =',total_marks_obtained)\n",
    "        print('The Aggregate marks of the student = ',Aggregate_marks)\n",
    "        print('The percentage obtained by the student =',round(percentage_of_marks,2),'%')\n",
    "              \n",
    "    except exaption as e :\n",
    "              print(e)\n",
    "            \n",
    "Aggregate_and_Percentage_of_marks(53,73,93,39,64)            "
   ]
  },
  {
   "cell_type": "code",
   "execution_count": 39,
   "id": "0c86a650",
   "metadata": {},
   "outputs": [],
   "source": [
    "# with defult Arguments"
   ]
  },
  {
   "cell_type": "code",
   "execution_count": 40,
   "id": "8a1c5245",
   "metadata": {},
   "outputs": [
    {
     "name": "stdout",
     "output_type": "stream",
     "text": [
      "The total marks obtained by the student = 350\n",
      "The Aggregate marks of the student =  70.0\n",
      "The percentage obtained by the student = 70.0 %\n"
     ]
    }
   ],
   "source": [
    "def Aggregate_and_Percentage_of_marks(Telugu,Hindi,English,Maths=56,Science=75) :\n",
    "    try :\n",
    "        maximam_marks = 500\n",
    "        total_marks_obtained = Telugu+Hindi+English+Maths+Science\n",
    "        Aggregate_marks = (total_marks_obtained)/5\n",
    "        percentage_of_marks = (total_marks_obtained/maximam_marks)*100\n",
    "        print('The total marks obtained by the student =',total_marks_obtained)\n",
    "        print('The Aggregate marks of the student = ',Aggregate_marks)\n",
    "        print('The percentage obtained by the student =',round(percentage_of_marks,2),'%')\n",
    "              \n",
    "    except exaption as e :\n",
    "              print(e)\n",
    "            \n",
    "Aggregate_and_Percentage_of_marks(53,73,93)"
   ]
  },
  {
   "cell_type": "code",
   "execution_count": 41,
   "id": "76ff80f4",
   "metadata": {},
   "outputs": [],
   "source": [
    "# With return keyword"
   ]
  },
  {
   "cell_type": "code",
   "execution_count": 42,
   "id": "3975696f",
   "metadata": {},
   "outputs": [
    {
     "name": "stdout",
     "output_type": "stream",
     "text": [
      "The total marks obtained by the student = 322\n",
      "The Aggregate marks of the student =  64.4\n",
      "The percentage obtained by the student = 64.4 %\n",
      "322\n",
      "64.4\n",
      "64.4\n"
     ]
    }
   ],
   "source": [
    "def Aggregate_and_Percentage_of_marks(Telugu,Hindi,English,Maths,Science) :\n",
    "    try :\n",
    "        maximam_marks = 500\n",
    "        total_marks_obtained = Telugu+Hindi+English+Maths+Science\n",
    "        Aggregate_marks = (total_marks_obtained)/5\n",
    "        percentage_of_marks = (total_marks_obtained/maximam_marks)*100\n",
    "        print('The total marks obtained by the student =',total_marks_obtained)\n",
    "        print('The Aggregate marks of the student = ',Aggregate_marks)\n",
    "        print('The percentage obtained by the student =',round(percentage_of_marks,2),'%')\n",
    "        return(total_marks_obtained,Aggregate_marks,percentage_of_marks)      \n",
    "    except exaption as e :\n",
    "              print(e)\n",
    "            \n",
    "output13,output14,output15=Aggregate_and_Percentage_of_marks(53,73,93,39,64)\n",
    "print(output13)\n",
    "print(output14)\n",
    "print(output15)"
   ]
  },
  {
   "cell_type": "code",
   "execution_count": null,
   "id": "5ae35f1f",
   "metadata": {},
   "outputs": [],
   "source": [
    "#Question 9 : Without Arguments"
   ]
  },
  {
   "cell_type": "code",
   "execution_count": null,
   "id": "3512b711",
   "metadata": {},
   "outputs": [],
   "source": [
    "def temparature() :\n",
    "    try :\n",
    "        temperature_of_the_city = eval(input('Enter the temparature in the fahrenheit :'))\n",
    "        fahrenheit_to_centigrade = (temperature_of_the_city-32)*5/9\n",
    "        print(round(fahrenheit_to_centigrade,2),'C')\n",
    "    except Exaption as e :  \n",
    "        print(e)\n",
    "temparature()        "
   ]
  },
  {
   "cell_type": "code",
   "execution_count": 43,
   "id": "5071cb82",
   "metadata": {},
   "outputs": [],
   "source": [
    "# with Arguments"
   ]
  },
  {
   "cell_type": "code",
   "execution_count": 44,
   "id": "435de22e",
   "metadata": {},
   "outputs": [
    {
     "name": "stdout",
     "output_type": "stream",
     "text": [
      "86.11 C\n"
     ]
    }
   ],
   "source": [
    "def temparature(temperature_of_the_city) :\n",
    "    try :\n",
    "        fahrenheit_to_centigrade = (temperature_of_the_city-32)*5/9\n",
    "        print(round(fahrenheit_to_centigrade,2),'C')\n",
    "    except Exaption as e :  \n",
    "        print(e)\n",
    "temparature(187)"
   ]
  },
  {
   "cell_type": "code",
   "execution_count": 45,
   "id": "7f525ab3",
   "metadata": {},
   "outputs": [],
   "source": [
    "# With defult Arguments"
   ]
  },
  {
   "cell_type": "code",
   "execution_count": 46,
   "id": "466d27a7",
   "metadata": {},
   "outputs": [
    {
     "name": "stdout",
     "output_type": "stream",
     "text": [
      "46.11 C\n"
     ]
    }
   ],
   "source": [
    "def temparature(temperature_of_the_city=115) :\n",
    "    try :\n",
    "        fahrenheit_to_centigrade = (temperature_of_the_city-32)*5/9\n",
    "        print(round(fahrenheit_to_centigrade,2),'C')\n",
    "    except Exaption as e :  \n",
    "        print(e)\n",
    "temparature()"
   ]
  },
  {
   "cell_type": "code",
   "execution_count": 47,
   "id": "d93fb3dc",
   "metadata": {},
   "outputs": [],
   "source": [
    "# with return keyword"
   ]
  },
  {
   "cell_type": "code",
   "execution_count": 48,
   "id": "978a085f",
   "metadata": {},
   "outputs": [
    {
     "name": "stdout",
     "output_type": "stream",
     "text": [
      "46.11 C\n"
     ]
    }
   ],
   "source": [
    "def temparature(temperature_of_the_city=115) :\n",
    "    try :\n",
    "        fahrenheit_to_centigrade = (temperature_of_the_city-32)*5/9\n",
    "        print(round(fahrenheit_to_centigrade,2),'C')\n",
    "        return(fahrenheit_to_centigrade)\n",
    "    except Exaption as e :  \n",
    "        print(e)\n",
    "output16=temparature()"
   ]
  },
  {
   "cell_type": "code",
   "execution_count": null,
   "id": "564ae462",
   "metadata": {},
   "outputs": [],
   "source": [
    "# Question 10 : Without Arguments"
   ]
  },
  {
   "cell_type": "code",
   "execution_count": null,
   "id": "ac583565",
   "metadata": {},
   "outputs": [],
   "source": [
    "import math\n",
    "def Area_and_perimeter() :\n",
    "    try :\n",
    "        length = eval(input('Enter the length of the rectangle :'))\n",
    "        breadth = eval(input('Enter the breadth of the rectanglr :'))\n",
    "        radius = eval(input('Enter the radius of the circle :'))\n",
    "        diameter = 2 *radius\n",
    "        area_of_rectangle = length*breadth\n",
    "        perimeter_of_rectangle = 2*(length + breadth)\n",
    "        area_of_circle = (math.pi/4)*diameter**2\n",
    "        circumference_of_circle = 2*math.pi*radius\n",
    "        print('Area of the rectangle = ',area_of_rectangle,'m2')\n",
    "        print('Perimeter of the rectangle = ',perimeter_of_rectangle,'m2')\n",
    "        print('Area of the circle = ',round(area_of_circle,2),\"m2\")\n",
    "        print('circumference of the crcle = ',round(circumference_of_circle,2),'m2')\n",
    "    except Exaption as e :\n",
    "        print(e)\n",
    "Area_and_perimeter()        "
   ]
  },
  {
   "cell_type": "code",
   "execution_count": 49,
   "id": "4605ab2b",
   "metadata": {},
   "outputs": [],
   "source": [
    "# with Arguments"
   ]
  },
  {
   "cell_type": "code",
   "execution_count": 51,
   "id": "b8fcbfb9",
   "metadata": {},
   "outputs": [
    {
     "name": "stdout",
     "output_type": "stream",
     "text": [
      "Area of the rectangle =  3225 m2\n",
      "Perimeter of the rectangle =  236 m2\n",
      "Area of the circle =  1963.5 m2\n",
      "circumference of the crcle =  157.08 m2\n"
     ]
    }
   ],
   "source": [
    "import math\n",
    "def Area_and_perimeter(length,breadth,radius) :\n",
    "    try :\n",
    "        diameter = 2 *radius\n",
    "        area_of_rectangle = length*breadth\n",
    "        perimeter_of_rectangle = 2*(length + breadth)\n",
    "        area_of_circle = (math.pi/4)*diameter**2\n",
    "        circumference_of_circle = 2*math.pi*radius\n",
    "        print('Area of the rectangle = ',area_of_rectangle,'m2')\n",
    "        print('Perimeter of the rectangle = ',perimeter_of_rectangle,'m2')\n",
    "        print('Area of the circle = ',round(area_of_circle,2),\"m2\")\n",
    "        print('circumference of the crcle = ',round(circumference_of_circle,2),'m2')\n",
    "    except Exaption as e :\n",
    "        print(e)\n",
    "Area_and_perimeter(75,43,25)"
   ]
  },
  {
   "cell_type": "code",
   "execution_count": 52,
   "id": "c979148e",
   "metadata": {},
   "outputs": [],
   "source": [
    "#with defult Argument"
   ]
  },
  {
   "cell_type": "code",
   "execution_count": 53,
   "id": "6ad48593",
   "metadata": {},
   "outputs": [
    {
     "name": "stdout",
     "output_type": "stream",
     "text": [
      "Area of the rectangle =  811488 m2\n",
      "Perimeter of the rectangle =  3608 m2\n",
      "Area of the circle =  13684.78 m2\n",
      "circumference of the crcle =  414.69 m2\n"
     ]
    }
   ],
   "source": [
    "import math\n",
    "def Area_and_perimeter(length,breadth=948,radius=66) :\n",
    "    try :\n",
    "        diameter = 2 *radius\n",
    "        area_of_rectangle = length*breadth\n",
    "        perimeter_of_rectangle = 2*(length + breadth)\n",
    "        area_of_circle = (math.pi/4)*diameter**2\n",
    "        circumference_of_circle = 2*math.pi*radius\n",
    "        print('Area of the rectangle = ',area_of_rectangle,'m2')\n",
    "        print('Perimeter of the rectangle = ',perimeter_of_rectangle,'m2')\n",
    "        print('Area of the circle = ',round(area_of_circle,2),\"m2\")\n",
    "        print('circumference of the crcle = ',round(circumference_of_circle,2),'m2')\n",
    "    except Exaption as e :\n",
    "        print(e)\n",
    "Area_and_perimeter(856)"
   ]
  },
  {
   "cell_type": "code",
   "execution_count": 54,
   "id": "1aad2c07",
   "metadata": {},
   "outputs": [],
   "source": [
    "# with return keyword"
   ]
  },
  {
   "cell_type": "code",
   "execution_count": 55,
   "id": "6d08518c",
   "metadata": {},
   "outputs": [
    {
     "name": "stdout",
     "output_type": "stream",
     "text": [
      "Area of the rectangle =  811488 m2\n",
      "Perimeter of the rectangle =  3608 m2\n",
      "Area of the circle =  13684.78 m2\n",
      "circumference of the crcle =  414.69 m2\n",
      "132\n",
      "811488\n",
      "13684.77759903714\n",
      "414.6902302738527\n"
     ]
    }
   ],
   "source": [
    "import math\n",
    "def Area_and_perimeter(length,breadth=948,radius=66) :\n",
    "    try :\n",
    "        diameter = 2 *radius\n",
    "        area_of_rectangle = length*breadth\n",
    "        perimeter_of_rectangle = 2*(length + breadth)\n",
    "        area_of_circle = (math.pi/4)*diameter**2\n",
    "        circumference_of_circle = 2*math.pi*radius\n",
    "        print('Area of the rectangle = ',area_of_rectangle,'m2')\n",
    "        print('Perimeter of the rectangle = ',perimeter_of_rectangle,'m2')\n",
    "        print('Area of the circle = ',round(area_of_circle,2),\"m2\")\n",
    "        print('circumference of the crcle = ',round(circumference_of_circle,2),'m2')\n",
    "        return(diameter,area_of_rectangle,area_of_circle,circumference_of_circle)\n",
    "    except Exaption as e :\n",
    "        print(e)\n",
    "output17,output18,output19,output20=Area_and_perimeter(856)\n",
    "print(output17)\n",
    "print(output18)\n",
    "print(output19)\n",
    "print(output20)"
   ]
  },
  {
   "cell_type": "code",
   "execution_count": null,
   "id": "daeb34b0",
   "metadata": {},
   "outputs": [],
   "source": [
    "# Question 11 : without Arguments"
   ]
  },
  {
   "cell_type": "code",
   "execution_count": null,
   "id": "4b41f139",
   "metadata": {},
   "outputs": [],
   "source": [
    "def interchange() :\n",
    "    try :\n",
    "        C = input('Enter the number : ')\n",
    "        D = input('Enter the number : ')\n",
    "        C,D = D,C\n",
    "        print(C,D)\n",
    "    except Exaption as e :\n",
    "        print(e)\n",
    "interchange()        "
   ]
  },
  {
   "cell_type": "code",
   "execution_count": null,
   "id": "478646cd",
   "metadata": {},
   "outputs": [],
   "source": [
    "# with arguments"
   ]
  },
  {
   "cell_type": "code",
   "execution_count": 56,
   "id": "609d3236",
   "metadata": {},
   "outputs": [
    {
     "name": "stdout",
     "output_type": "stream",
     "text": [
      "12 63\n"
     ]
    }
   ],
   "source": [
    "def interchange(C,D) :\n",
    "    try :\n",
    "        C,D = D,C\n",
    "        print(C,D)\n",
    "    except Exaption as e :\n",
    "        print(e)\n",
    "interchange(63,12)"
   ]
  },
  {
   "cell_type": "code",
   "execution_count": 57,
   "id": "9582aab1",
   "metadata": {},
   "outputs": [],
   "source": [
    "# with defult Argument"
   ]
  },
  {
   "cell_type": "code",
   "execution_count": 58,
   "id": "30563209",
   "metadata": {},
   "outputs": [
    {
     "name": "stdout",
     "output_type": "stream",
     "text": [
      "876 89\n"
     ]
    }
   ],
   "source": [
    "def interchange(C=89,D=876) :\n",
    "    try :\n",
    "        C,D = D,C\n",
    "        print(C,D)\n",
    "    except Exaption as e :\n",
    "        print(e)\n",
    "interchange()"
   ]
  },
  {
   "cell_type": "code",
   "execution_count": 59,
   "id": "0fb3589c",
   "metadata": {},
   "outputs": [],
   "source": [
    "# with return keyword"
   ]
  },
  {
   "cell_type": "code",
   "execution_count": 62,
   "id": "f50810b2",
   "metadata": {},
   "outputs": [
    {
     "name": "stdout",
     "output_type": "stream",
     "text": [
      "792 453\n",
      "The value of C : 792\n",
      "The value of D : 453\n"
     ]
    }
   ],
   "source": [
    "def interchange(C=453,D=792) :\n",
    "    try :\n",
    "        C,D = D,C\n",
    "        print(C,D)\n",
    "        return(C,D)\n",
    "    except Exaption as e :\n",
    "        print(e)\n",
    "output21,output22 =interchange()\n",
    "print('The value of C :',output21)\n",
    "print('The value of D :',output22)"
   ]
  },
  {
   "cell_type": "code",
   "execution_count": null,
   "id": "ec60b7ac",
   "metadata": {},
   "outputs": [],
   "source": [
    "#Question 12 : without Arguments"
   ]
  },
  {
   "cell_type": "code",
   "execution_count": null,
   "id": "0a5a72f1",
   "metadata": {},
   "outputs": [],
   "source": [
    "def Reverse_the_number () :\n",
    "    try :\n",
    "        number = eval(input('Enter the Five digit number : '))\n",
    "        a = number%10\n",
    "        b = 1234%10\n",
    "        c = 123%10\n",
    "        d = 12%10\n",
    "        e = 1%10\n",
    "        print(a,b,c,d,e)\n",
    "    except Exaption as e :\n",
    "                print(e)\n",
    "Reverse_the_number()      "
   ]
  },
  {
   "cell_type": "code",
   "execution_count": 63,
   "id": "b4c13ed8",
   "metadata": {},
   "outputs": [],
   "source": [
    "# With Arguments"
   ]
  },
  {
   "cell_type": "code",
   "execution_count": 64,
   "id": "cb5e59fb",
   "metadata": {},
   "outputs": [
    {
     "name": "stdout",
     "output_type": "stream",
     "text": [
      "5 4 3 2 1\n"
     ]
    }
   ],
   "source": [
    "def Reverse_the_number (number) :\n",
    "    try :\n",
    "        a = number%10\n",
    "        b = 1234%10\n",
    "        c = 123%10\n",
    "        d = 12%10\n",
    "        e = 1%10\n",
    "        print(a,b,c,d,e)\n",
    "    except Exaption as e :\n",
    "                print(e)\n",
    "Reverse_the_number(12345)"
   ]
  },
  {
   "cell_type": "code",
   "execution_count": 65,
   "id": "b9f96f7d",
   "metadata": {},
   "outputs": [],
   "source": [
    "# With defult Arguments"
   ]
  },
  {
   "cell_type": "code",
   "execution_count": 66,
   "id": "ba559247",
   "metadata": {},
   "outputs": [
    {
     "name": "stdout",
     "output_type": "stream",
     "text": [
      "5 4 3 2 1\n"
     ]
    }
   ],
   "source": [
    "def Reverse_the_number (number=12345) :\n",
    "    try :\n",
    "        a = number%10\n",
    "        b = 1234%10\n",
    "        c = 123%10\n",
    "        d = 12%10\n",
    "        e = 1%10\n",
    "        print(a,b,c,d,e)\n",
    "    except Exaption as e :\n",
    "                print(e)\n",
    "Reverse_the_number()"
   ]
  },
  {
   "cell_type": "code",
   "execution_count": 67,
   "id": "17e0999d",
   "metadata": {},
   "outputs": [],
   "source": [
    "# with return keyword"
   ]
  },
  {
   "cell_type": "code",
   "execution_count": 70,
   "id": "3fa2a6b2",
   "metadata": {},
   "outputs": [
    {
     "name": "stdout",
     "output_type": "stream",
     "text": [
      "5 4 3 2 1\n",
      "5 4 3 2 1\n"
     ]
    }
   ],
   "source": [
    "def Reverse_the_number (number=12345) :\n",
    "    try :\n",
    "        a = number%10\n",
    "        b = 1234%10\n",
    "        c = 123%10\n",
    "        d = 12%10\n",
    "        e = 1%10\n",
    "        print(a,b,c,d,e)\n",
    "        return(a,b,c,d,e)\n",
    "    except Exaption as e :\n",
    "                print(e)\n",
    "output23,output24,output25,output26,output27=Reverse_the_number()\n",
    "print(output23,output24,output25,output26,output27)"
   ]
  },
  {
   "cell_type": "code",
   "execution_count": null,
   "id": "284881a8",
   "metadata": {},
   "outputs": [],
   "source": [
    "#Question 13 : without Arguments"
   ]
  },
  {
   "cell_type": "code",
   "execution_count": null,
   "id": "aaa2c859",
   "metadata": {},
   "outputs": [],
   "source": [
    "def add_of_last_digit() :\n",
    "    try :\n",
    "        number = eval(input('Enter the Four digit number : '))\n",
    "        first_digit = number//1000\n",
    "        last_digit = number%10\n",
    "        add = first_digit + last_digit\n",
    "        print('The sum of {} and {} is {} '.format(first_digit,last_digit,add))\n",
    "    except Exaption as e :\n",
    "        print(e)\n",
    "\n",
    "add_of_last_digit()               "
   ]
  },
  {
   "cell_type": "code",
   "execution_count": 71,
   "id": "6684d2e3",
   "metadata": {},
   "outputs": [],
   "source": [
    "#with Arguments"
   ]
  },
  {
   "cell_type": "code",
   "execution_count": 72,
   "id": "a91407c6",
   "metadata": {},
   "outputs": [
    {
     "name": "stdout",
     "output_type": "stream",
     "text": [
      "The sum of 8 and 4 is 12 \n"
     ]
    }
   ],
   "source": [
    "def add_of_last_digit(number) :\n",
    "    try :\n",
    "        first_digit = number//1000\n",
    "        last_digit = number%10\n",
    "        add = first_digit + last_digit\n",
    "        print('The sum of {} and {} is {} '.format(first_digit,last_digit,add))\n",
    "    except Exaption as e :\n",
    "        print(e)\n",
    "\n",
    "add_of_last_digit(8944)"
   ]
  },
  {
   "cell_type": "code",
   "execution_count": 73,
   "id": "2b568687",
   "metadata": {},
   "outputs": [],
   "source": [
    "# with defult Arguments"
   ]
  },
  {
   "cell_type": "code",
   "execution_count": 77,
   "id": "ea2cdec6",
   "metadata": {},
   "outputs": [
    {
     "name": "stdout",
     "output_type": "stream",
     "text": [
      "The sum of 8 and 3 is 11 \n"
     ]
    }
   ],
   "source": [
    "def add_of_last_digit(number=8093) :\n",
    "    try :\n",
    "        first_digit = number//1000\n",
    "        last_digit = number%10\n",
    "        add = first_digit + last_digit\n",
    "        print('The sum of {} and {} is {} '.format(first_digit,last_digit,add))\n",
    "    except Exaption as e :\n",
    "        print(e)\n",
    "\n",
    "add_of_last_digit()"
   ]
  },
  {
   "cell_type": "code",
   "execution_count": null,
   "id": "e6e9d591",
   "metadata": {},
   "outputs": [],
   "source": [
    "# with return keyword"
   ]
  },
  {
   "cell_type": "code",
   "execution_count": 76,
   "id": "9ff1184c",
   "metadata": {},
   "outputs": [
    {
     "name": "stdout",
     "output_type": "stream",
     "text": [
      "The sum of 7 and 9 is 16 \n",
      "The value of first digit is :  7\n",
      "The value of last digit is :  9\n"
     ]
    }
   ],
   "source": [
    "def add_of_last_digit(number=7539) :\n",
    "    try :\n",
    "        first_digit = number//1000\n",
    "        last_digit = number%10\n",
    "        add = first_digit + last_digit\n",
    "        print('The sum of {} and {} is {} '.format(first_digit,last_digit,add))\n",
    "        return(first_digit,last_digit)\n",
    "    except Exaption as e :\n",
    "        print(e)\n",
    "\n",
    "output28,output29=add_of_last_digit()\n",
    "print('The value of first digit is : ',output28)\n",
    "print('The value of last digit is : ',output29)"
   ]
  },
  {
   "cell_type": "code",
   "execution_count": 2,
   "id": "673c6dcb",
   "metadata": {},
   "outputs": [],
   "source": [
    "#Question 14 : without Arguments"
   ]
  },
  {
   "cell_type": "code",
   "execution_count": 1,
   "id": "af93c7e3",
   "metadata": {},
   "outputs": [
    {
     "name": "stdout",
     "output_type": "stream",
     "text": [
      "The number of men in the town =  41600.0\n",
      "The number of woman in the town =  38400.0\n",
      "The number of litrate men in the town =  28000.0\n",
      "The number of litrate women in the town =  19968.0\n",
      "The number of illitrate men in the town =  13600.0\n",
      "The number of illitrate women in the town =  18432.0\n"
     ]
    }
   ],
   "source": [
    "def litrecy() :\n",
    "    try :\n",
    "        population_of_town = int(80000)\n",
    "        percentage_of_men = (population_of_town/100)*52\n",
    "        percentage_of_women = population_of_town - percentage_of_men\n",
    "        percentage_of_literate_men = (population_of_town/100)*35\n",
    "        percentage_of_illiteracy = 52\n",
    "        number_of_literate_women = (52/100)*percentage_of_women\n",
    "        illitrate_men = percentage_of_men - percentage_of_literate_men\n",
    "        illitrate_women = percentage_of_women - number_of_literate_women\n",
    "        print('The number of men in the town = ',percentage_of_men)\n",
    "        print('The number of woman in the town = ',percentage_of_women)\n",
    "        print('The number of litrate men in the town = ',percentage_of_literate_men)\n",
    "        print('The number of litrate women in the town = ',number_of_literate_women)\n",
    "        print('The number of illitrate men in the town = ',illitrate_men)\n",
    "        print('The number of illitrate women in the town = ',illitrate_women)\n",
    "    except Exaption as e :\n",
    "        print(e)\n",
    "        \n",
    "litrecy()        "
   ]
  },
  {
   "cell_type": "code",
   "execution_count": 3,
   "id": "74910a3a",
   "metadata": {},
   "outputs": [],
   "source": [
    "# with Argumnets"
   ]
  },
  {
   "cell_type": "code",
   "execution_count": 6,
   "id": "56e78bdb",
   "metadata": {},
   "outputs": [
    {
     "name": "stdout",
     "output_type": "stream",
     "text": [
      "The number of men in the town =  41600.0\n",
      "The number of woman in the town =  38400.0\n",
      "The number of litrate men in the town =  28000.0\n",
      "The number of litrate women in the town =  19968.0\n",
      "The number of illitrate men in the town =  13600.0\n",
      "The number of illitrate women in the town =  18432.0\n"
     ]
    }
   ],
   "source": [
    "def litrecy(population_of_town) :\n",
    "    try :\n",
    "        percentage_of_men = (population_of_town/100)*52\n",
    "        percentage_of_women = population_of_town - percentage_of_men\n",
    "        percentage_of_literate_men = (population_of_town/100)*35\n",
    "        percentage_of_illiteracy = 52\n",
    "        number_of_literate_women = (52/100)*percentage_of_women\n",
    "        illitrate_men = percentage_of_men - percentage_of_literate_men\n",
    "        illitrate_women = percentage_of_women - number_of_literate_women\n",
    "        print('The number of men in the town = ',percentage_of_men)\n",
    "        print('The number of woman in the town = ',percentage_of_women)\n",
    "        print('The number of litrate men in the town = ',percentage_of_literate_men)\n",
    "        print('The number of litrate women in the town = ',number_of_literate_women)\n",
    "        print('The number of illitrate men in the town = ',illitrate_men)\n",
    "        print('The number of illitrate women in the town = ',illitrate_women)\n",
    "    except Exaption as e :\n",
    "        print(e)\n",
    "        \n",
    "litrecy(80000)   "
   ]
  },
  {
   "cell_type": "code",
   "execution_count": 7,
   "id": "1b4603ad",
   "metadata": {},
   "outputs": [],
   "source": [
    "# with defult Arguments"
   ]
  },
  {
   "cell_type": "code",
   "execution_count": 10,
   "id": "d77f17df",
   "metadata": {},
   "outputs": [
    {
     "name": "stdout",
     "output_type": "stream",
     "text": [
      "The number of men in the town =  41600.0\n",
      "The number of woman in the town =  38400.0\n",
      "The number of litrate men in the town =  28000.0\n",
      "The number of litrate women in the town =  19968.0\n",
      "The number of illitrate men in the town =  13600.0\n",
      "The number of illitrate women in the town =  18432.0\n"
     ]
    }
   ],
   "source": [
    "def litrecy(population_of_town=80000) :\n",
    "    try :\n",
    "        percentage_of_men = (population_of_town/100)*52\n",
    "        percentage_of_women = population_of_town - percentage_of_men\n",
    "        percentage_of_literate_men = (population_of_town/100)*35\n",
    "        percentage_of_illiteracy = 52\n",
    "        number_of_literate_women = (52/100)*percentage_of_women\n",
    "        illitrate_men = percentage_of_men - percentage_of_literate_men\n",
    "        illitrate_women = percentage_of_women - number_of_literate_women\n",
    "        print('The number of men in the town = ',percentage_of_men)\n",
    "        print('The number of woman in the town = ',percentage_of_women)\n",
    "        print('The number of litrate men in the town = ',percentage_of_literate_men)\n",
    "        print('The number of litrate women in the town = ',number_of_literate_women)\n",
    "        print('The number of illitrate men in the town = ',illitrate_men)\n",
    "        print('The number of illitrate women in the town = ',illitrate_women)\n",
    "    except Exaption as e :\n",
    "        print(e)\n",
    "        \n",
    "litrecy() "
   ]
  },
  {
   "cell_type": "code",
   "execution_count": 9,
   "id": "f1c0f15b",
   "metadata": {},
   "outputs": [],
   "source": [
    "# with return keyword"
   ]
  },
  {
   "cell_type": "code",
   "execution_count": 11,
   "id": "fa1c2cf2",
   "metadata": {},
   "outputs": [
    {
     "name": "stdout",
     "output_type": "stream",
     "text": [
      "The number of men in the town =  41600.0\n",
      "The number of woman in the town =  38400.0\n",
      "The number of litrate men in the town =  28000.0\n",
      "The number of litrate women in the town =  19968.0\n",
      "The number of illitrate men in the town =  13600.0\n",
      "The number of illitrate women in the town =  18432.0\n",
      "41600.0\n",
      "38400.0\n",
      "28000.0\n",
      "19968.0\n",
      "13600.0\n",
      "18432.0\n"
     ]
    }
   ],
   "source": [
    "def litrecy(population_of_town=80000) :\n",
    "    try :\n",
    "        percentage_of_men = (population_of_town/100)*52\n",
    "        percentage_of_women = population_of_town - percentage_of_men\n",
    "        percentage_of_literate_men = (population_of_town/100)*35\n",
    "        percentage_of_illiteracy = 52\n",
    "        number_of_literate_women = (52/100)*percentage_of_women\n",
    "        illitrate_men = percentage_of_men - percentage_of_literate_men\n",
    "        illitrate_women = percentage_of_women - number_of_literate_women\n",
    "        print('The number of men in the town = ',percentage_of_men)\n",
    "        print('The number of woman in the town = ',percentage_of_women)\n",
    "        print('The number of litrate men in the town = ',percentage_of_literate_men)\n",
    "        print('The number of litrate women in the town = ',number_of_literate_women)\n",
    "        print('The number of illitrate men in the town = ',illitrate_men)\n",
    "        print('The number of illitrate women in the town = ',illitrate_women)\n",
    "        return(percentage_of_men,percentage_of_women,percentage_of_literate_men,number_of_literate_women,illitrate_men,illitrate_women)\n",
    "    except Exaption as e :\n",
    "        print(e)\n",
    "        \n",
    "output30,output31,output32,output33,output34,output35=litrecy()\n",
    "print(output30)\n",
    "print(output31)\n",
    "print(output32)\n",
    "print(output33)\n",
    "print(output34)\n",
    "print(output35)"
   ]
  },
  {
   "cell_type": "code",
   "execution_count": null,
   "id": "8387137c",
   "metadata": {},
   "outputs": [],
   "source": [
    "# Question 15"
   ]
  }
 ],
 "metadata": {
  "kernelspec": {
   "display_name": "Python 3 (ipykernel)",
   "language": "python",
   "name": "python3"
  },
  "language_info": {
   "codemirror_mode": {
    "name": "ipython",
    "version": 3
   },
   "file_extension": ".py",
   "mimetype": "text/x-python",
   "name": "python",
   "nbconvert_exporter": "python",
   "pygments_lexer": "ipython3",
   "version": "3.11.5"
  }
 },
 "nbformat": 4,
 "nbformat_minor": 5
}
