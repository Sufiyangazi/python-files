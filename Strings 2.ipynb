{
 "cells": [
  {
   "cell_type": "code",
   "execution_count": 3,
   "id": "d1a9ea11",
   "metadata": {},
   "outputs": [],
   "source": [
    "string1 = 'HAI HAI hai hai'"
   ]
  },
  {
   "cell_type": "code",
   "execution_count": 5,
   "id": "e9e6ca68",
   "metadata": {},
   "outputs": [
    {
     "data": {
      "text/plain": [
       "2"
      ]
     },
     "execution_count": 5,
     "metadata": {},
     "output_type": "execute_result"
    }
   ],
   "source": [
    "string1.count('H')"
   ]
  },
  {
   "cell_type": "code",
   "execution_count": 6,
   "id": "2f44f2ae",
   "metadata": {},
   "outputs": [
    {
     "data": {
      "text/plain": [
       "2"
      ]
     },
     "execution_count": 6,
     "metadata": {},
     "output_type": "execute_result"
    }
   ],
   "source": [
    "string1.count('h')"
   ]
  },
  {
   "cell_type": "code",
   "execution_count": 7,
   "id": "6cd187ed",
   "metadata": {},
   "outputs": [
    {
     "data": {
      "text/plain": [
       "0"
      ]
     },
     "execution_count": 7,
     "metadata": {},
     "output_type": "execute_result"
    }
   ],
   "source": [
    "string1.count('j')"
   ]
  },
  {
   "cell_type": "code",
   "execution_count": 19,
   "id": "41f47cc9",
   "metadata": {},
   "outputs": [
    {
     "data": {
      "text/plain": [
       "4"
      ]
     },
     "execution_count": 19,
     "metadata": {},
     "output_type": "execute_result"
    }
   ],
   "source": [
    "string2 = 'HAI HAI hai hai'\n",
    "string3=string2.lower()\n",
    "string3.count('h')"
   ]
  },
  {
   "cell_type": "code",
   "execution_count": null,
   "id": "2b8acf7e",
   "metadata": {},
   "outputs": [],
   "source": [
    "string1='HAI HAI hai hai'"
   ]
  },
  {
   "cell_type": "code",
   "execution_count": null,
   "id": "a9132211",
   "metadata": {},
   "outputs": [],
   "source": []
  },
  {
   "cell_type": "code",
   "execution_count": null,
   "id": "f8c7dcca",
   "metadata": {},
   "outputs": [],
   "source": []
  },
  {
   "cell_type": "code",
   "execution_count": 21,
   "id": "d4957218",
   "metadata": {},
   "outputs": [
    {
     "name": "stdout",
     "output_type": "stream",
     "text": [
      "4\n"
     ]
    }
   ],
   "source": [
    "string4 = 'HAI HAI hai hai'\n",
    "count = 0\n",
    "for i in string4:\n",
    "    if i == 'h' or i == 'H':\n",
    "        count = count + 1\n",
    "        \n",
    "print(count)        "
   ]
  },
  {
   "cell_type": "code",
   "execution_count": 23,
   "id": "9792a7c5",
   "metadata": {},
   "outputs": [
    {
     "name": "stdout",
     "output_type": "stream",
     "text": [
      "4\n"
     ]
    }
   ],
   "source": [
    "string4 = 'HAI HAI hai hai'\n",
    "count = 0\n",
    "for i in string4.casefold():\n",
    "    if i == 'h' :\n",
    "        count = count + 1\n",
    "        \n",
    "print(count)  "
   ]
  },
  {
   "cell_type": "code",
   "execution_count": 27,
   "id": "7c9fda59",
   "metadata": {},
   "outputs": [
    {
     "data": {
      "text/plain": [
       "4"
      ]
     },
     "execution_count": 27,
     "metadata": {},
     "output_type": "execute_result"
    }
   ],
   "source": [
    "string = 'ola ola ola ola'\n",
    "string.count('o')\n",
    "string.count('ola')"
   ]
  },
  {
   "cell_type": "raw",
   "id": "109323bb",
   "metadata": {},
   "source": []
  },
  {
   "cell_type": "code",
   "execution_count": 28,
   "id": "87ade9e9",
   "metadata": {},
   "outputs": [],
   "source": [
    "string1 = 'ola ola ola ola'"
   ]
  },
  {
   "cell_type": "code",
   "execution_count": 29,
   "id": "53ef68b4",
   "metadata": {},
   "outputs": [
    {
     "data": {
      "text/plain": [
       "2"
      ]
     },
     "execution_count": 29,
     "metadata": {},
     "output_type": "execute_result"
    }
   ],
   "source": [
    "string1.count('a',8)"
   ]
  },
  {
   "cell_type": "code",
   "execution_count": 32,
   "id": "ef3c92c2",
   "metadata": {},
   "outputs": [
    {
     "name": "stdout",
     "output_type": "stream",
     "text": [
      "3\n"
     ]
    }
   ],
   "source": [
    "string2 = 'ola ola ola ola'\n",
    "count = 0\n",
    "for i in range(4,len(string2)):\n",
    "    if string2[i] in 'a':\n",
    "        count = count + 1\n",
    "        \n",
    "print(count)        "
   ]
  },
  {
   "cell_type": "code",
   "execution_count": 33,
   "id": "e708f6a9",
   "metadata": {},
   "outputs": [
    {
     "name": "stdout",
     "output_type": "stream",
     "text": [
      "1\n"
     ]
    }
   ],
   "source": [
    "string2 = 'ola ola ola ola'\n",
    "count = 0\n",
    "for i in range(4,len(string2)-7):\n",
    "    if string2[i] in 'a':\n",
    "        count = count + 1\n",
    "        \n",
    "print(count)        "
   ]
  },
  {
   "cell_type": "code",
   "execution_count": 1,
   "id": "bdf66786",
   "metadata": {},
   "outputs": [
    {
     "name": "stdout",
     "output_type": "stream",
     "text": [
      "('sam', 19)\n",
      "('saif', 15)\n",
      "('sufiyan', 21)\n"
     ]
    }
   ],
   "source": [
    "list1 = ['sam','saif','sufiyan']\n",
    "list2 = [19,15,21]\n",
    "for i in zip (list1,list2):\n",
    "    print(i)"
   ]
  },
  {
   "cell_type": "code",
   "execution_count": null,
   "id": "865e7e0e",
   "metadata": {},
   "outputs": [],
   "source": []
  }
 ],
 "metadata": {
  "kernelspec": {
   "display_name": "Python 3 (ipykernel)",
   "language": "python",
   "name": "python3"
  },
  "language_info": {
   "codemirror_mode": {
    "name": "ipython",
    "version": 3
   },
   "file_extension": ".py",
   "mimetype": "text/x-python",
   "name": "python",
   "nbconvert_exporter": "python",
   "pygments_lexer": "ipython3",
   "version": "3.11.5"
  }
 },
 "nbformat": 4,
 "nbformat_minor": 5
}
