{
 "cells": [
  {
   "cell_type": "markdown",
   "id": "9f086969",
   "metadata": {},
   "source": [
    "## Normal function"
   ]
  },
  {
   "cell_type": "code",
   "execution_count": 1,
   "id": "0f36b5a5",
   "metadata": {},
   "outputs": [
    {
     "data": {
      "text/plain": [
       "20"
      ]
     },
     "execution_count": 1,
     "metadata": {},
     "output_type": "execute_result"
    }
   ],
   "source": [
    "def add(x):\n",
    "    return(x+10)\n",
    "add(10)"
   ]
  },
  {
   "cell_type": "code",
   "execution_count": 3,
   "id": "7cb40e29",
   "metadata": {},
   "outputs": [
    {
     "data": {
      "text/plain": [
       "20"
      ]
     },
     "execution_count": 3,
     "metadata": {},
     "output_type": "execute_result"
    }
   ],
   "source": [
    "add = lambda x:x+10\n",
    "add(10)"
   ]
  },
  {
   "cell_type": "markdown",
   "id": "6e178d6d",
   "metadata": {},
   "source": [
    "# how many arguments are there ?\n",
    "# What are you are returning"
   ]
  },
  {
   "cell_type": "code",
   "execution_count": null,
   "id": "9a8db301",
   "metadata": {},
   "outputs": [],
   "source": [
    "<bfuntion_name> = lambda "
   ]
  },
  {
   "cell_type": "code",
   "execution_count": 6,
   "id": "7d218500",
   "metadata": {},
   "outputs": [
    {
     "data": {
      "text/plain": [
       "25"
      ]
     },
     "execution_count": 6,
     "metadata": {},
     "output_type": "execute_result"
    }
   ],
   "source": [
    "mul = lambda num:num*num\n",
    "mul(5)"
   ]
  },
  {
   "cell_type": "code",
   "execution_count": 7,
   "id": "6850b71f",
   "metadata": {},
   "outputs": [
    {
     "data": {
      "text/plain": [
       "27"
      ]
     },
     "execution_count": 7,
     "metadata": {},
     "output_type": "execute_result"
    }
   ],
   "source": [
    "cube =lambda val:val*val*val\n",
    "cube(3)"
   ]
  },
  {
   "cell_type": "markdown",
   "id": "5eb314aa",
   "metadata": {},
   "source": [
    "# lambda functions with two argumuments"
   ]
  },
  {
   "cell_type": "code",
   "execution_count": 10,
   "id": "9fa2db60",
   "metadata": {},
   "outputs": [
    {
     "data": {
      "text/plain": [
       "4"
      ]
     },
     "execution_count": 10,
     "metadata": {},
     "output_type": "execute_result"
    }
   ],
   "source": [
    "sum1 = lambda a,b:a+b\n",
    "sum1(2,2)"
   ]
  },
  {
   "cell_type": "code",
   "execution_count": 15,
   "id": "d93f6136",
   "metadata": {},
   "outputs": [
    {
     "data": {
      "text/plain": [
       "30.0"
      ]
     },
     "execution_count": 15,
     "metadata": {},
     "output_type": "execute_result"
    }
   ],
   "source": [
    "average = lambda a,b,c:((a+b+c)/3)\n",
    "average(20,30,40)"
   ]
  },
  {
   "cell_type": "code",
   "execution_count": 14,
   "id": "eb58d233",
   "metadata": {},
   "outputs": [
    {
     "data": {
      "text/plain": [
       "50.0"
      ]
     },
     "execution_count": 14,
     "metadata": {},
     "output_type": "execute_result"
    }
   ],
   "source": [
    "average = lambda a,b,c=100:((a+b+c)/3)\n",
    "average(20,30)"
   ]
  },
  {
   "cell_type": "code",
   "execution_count": 18,
   "id": "38213760",
   "metadata": {},
   "outputs": [
    {
     "data": {
      "text/plain": [
       "43"
      ]
     },
     "execution_count": 18,
     "metadata": {},
     "output_type": "execute_result"
    }
   ],
   "source": [
    "average = lambda a,b,c=100:round((a+b+c)/3)\n",
    "average(10,20)"
   ]
  },
  {
   "cell_type": "code",
   "execution_count": 17,
   "id": "cfc6f119",
   "metadata": {},
   "outputs": [
    {
     "data": {
      "text/plain": [
       "30"
      ]
     },
     "execution_count": 17,
     "metadata": {},
     "output_type": "execute_result"
    }
   ],
   "source": [
    "def greater(num1,num2):\n",
    "    if num1>num2:\n",
    "        return(num1)\n",
    "    else:\n",
    "        return(num2)\n",
    "    \n",
    "greater(20,30)    "
   ]
  },
  {
   "cell_type": "code",
   "execution_count": 22,
   "id": "a2f22989",
   "metadata": {},
   "outputs": [
    {
     "data": {
      "text/plain": [
       "300"
      ]
     },
     "execution_count": 22,
     "metadata": {},
     "output_type": "execute_result"
    }
   ],
   "source": [
    "greater = lambda num1,num2:num1  if num1>num2 else num2\n",
    "greater (200,300)"
   ]
  },
  {
   "cell_type": "markdown",
   "id": "7ebeeed8",
   "metadata": {},
   "source": [
    "# lambda function with list"
   ]
  },
  {
   "cell_type": "markdown",
   "id": "5694ef66",
   "metadata": {},
   "source": [
    "list1 = ['hyd','mumbai','bangluru']"
   ]
  },
  {
   "cell_type": "code",
   "execution_count": null,
   "id": "77f04c3f",
   "metadata": {},
   "outputs": [],
   "source": []
  },
  {
   "cell_type": "code",
   "execution_count": 34,
   "id": "25091016",
   "metadata": {},
   "outputs": [
    {
     "name": "stdout",
     "output_type": "stream",
     "text": [
      "Hyd,mumbai,bangluru\n"
     ]
    }
   ],
   "source": [
    "list1 = ['hyd','mumbai','bangluru']\n",
    "string1 = ','.join(list1)\n",
    "print(string1.capitalize())"
   ]
  },
  {
   "cell_type": "code",
   "execution_count": 29,
   "id": "330801d3",
   "metadata": {},
   "outputs": [
    {
     "data": {
      "text/plain": [
       "'hyd,mumbai,bangluru'"
      ]
     },
     "execution_count": 29,
     "metadata": {},
     "output_type": "execute_result"
    }
   ],
   "source": [
    "string1"
   ]
  },
  {
   "cell_type": "code",
   "execution_count": 25,
   "id": "2f8131af",
   "metadata": {},
   "outputs": [
    {
     "data": {
      "text/plain": [
       "['hyd', 'mumbai', 'bangluru']"
      ]
     },
     "execution_count": 25,
     "metadata": {},
     "output_type": "execute_result"
    }
   ],
   "source": [
    "list1"
   ]
  },
  {
   "cell_type": "code",
   "execution_count": 35,
   "id": "0f79c647",
   "metadata": {},
   "outputs": [
    {
     "name": "stdout",
     "output_type": "stream",
     "text": [
      "['Hyd', 'Mumbai', 'Bangluru']\n"
     ]
    }
   ],
   "source": [
    "l1 = ['hyd','mumbai','bangluru']\n",
    "op = []\n",
    "for i in l1:\n",
    "    val = i.capitalize()\n",
    "    op.append(val)\n",
    "print(op)    "
   ]
  },
  {
   "cell_type": "code",
   "execution_count": 43,
   "id": "6df68ebd",
   "metadata": {},
   "outputs": [
    {
     "data": {
      "text/plain": [
       "['python']"
      ]
     },
     "execution_count": 43,
     "metadata": {},
     "output_type": "execute_result"
    }
   ],
   "source": [
    "list1 = ['python']\n",
    "list1"
   ]
  },
  {
   "cell_type": "code",
   "execution_count": 44,
   "id": "2459fd80",
   "metadata": {},
   "outputs": [
    {
     "name": "stdout",
     "output_type": "stream",
     "text": [
      "python\n"
     ]
    }
   ],
   "source": [
    "for i in list1:\n",
    "    print(i)"
   ]
  },
  {
   "cell_type": "code",
   "execution_count": 47,
   "id": "ac60debe",
   "metadata": {},
   "outputs": [
    {
     "name": "stdout",
     "output_type": "stream",
     "text": [
      "n\n",
      "o\n",
      "h\n",
      "t\n",
      "y\n",
      "p\n"
     ]
    }
   ],
   "source": [
    "list1 = reversed('python')\n",
    "\n",
    "for i in list1:\n",
    "    print(i)"
   ]
  },
  {
   "cell_type": "code",
   "execution_count": 52,
   "id": "eb1d4af4",
   "metadata": {},
   "outputs": [
    {
     "data": {
      "text/plain": [
       "['hyd', 'mumbai', 'bangluru']"
      ]
     },
     "execution_count": 52,
     "metadata": {},
     "output_type": "execute_result"
    }
   ],
   "source": [
    "l1 = ['hyd','mumbai','bangluru']\n",
    "l1"
   ]
  },
  {
   "cell_type": "code",
   "execution_count": 53,
   "id": "da39ab59",
   "metadata": {},
   "outputs": [
    {
     "data": {
      "text/plain": [
       "(<function __main__.<lambda>(i)>, ['hyd', 'mumbai', 'bangluru'])"
      ]
     },
     "execution_count": 53,
     "metadata": {},
     "output_type": "execute_result"
    }
   ],
   "source": [
    "lambda i:i.capitalize(),l1"
   ]
  },
  {
   "cell_type": "markdown",
   "id": "6ce2e69a",
   "metadata": {},
   "source": [
    "# map"
   ]
  },
  {
   "cell_type": "code",
   "execution_count": 56,
   "id": "107ca6c2",
   "metadata": {},
   "outputs": [
    {
     "data": {
      "text/plain": [
       "['Hyd', 'Mumbai', 'Bangluru']"
      ]
     },
     "execution_count": 56,
     "metadata": {},
     "output_type": "execute_result"
    }
   ],
   "source": [
    "list(map(lambda i:i.capitalize(),l1))       # create a lambda function : lambda i : i.captilize()\n",
    "# add yor iterater: l1\n",
    "# make mapping : map()\n",
    "# save the results in a list,tuple : list"
   ]
  },
  {
   "cell_type": "code",
   "execution_count": null,
   "id": "96f4ea01",
   "metadata": {},
   "outputs": [],
   "source": []
  },
  {
   "cell_type": "code",
   "execution_count": 57,
   "id": "5ce4279d",
   "metadata": {},
   "outputs": [
    {
     "data": {
      "text/plain": [
       "[1, 2, 3, 4]"
      ]
     },
     "execution_count": 57,
     "metadata": {},
     "output_type": "execute_result"
    }
   ],
   "source": [
    "list1 = [1,2,3,4]\n",
    "list1"
   ]
  },
  {
   "cell_type": "code",
   "execution_count": 63,
   "id": "dcb914c4",
   "metadata": {},
   "outputs": [
    {
     "data": {
      "text/plain": [
       "[1, 4, 9, 16]"
      ]
     },
     "execution_count": 63,
     "metadata": {},
     "output_type": "execute_result"
    }
   ],
   "source": [
    "list(map(lambda i:i*i,list1))"
   ]
  },
  {
   "cell_type": "code",
   "execution_count": 66,
   "id": "5719630d",
   "metadata": {},
   "outputs": [
    {
     "name": "stdout",
     "output_type": "stream",
     "text": [
      "[1,2,3,4]\n"
     ]
    },
    {
     "data": {
      "text/plain": [
       "[1, 2, 3, 4]"
      ]
     },
     "execution_count": 66,
     "metadata": {},
     "output_type": "execute_result"
    }
   ],
   "source": [
    "eval(input())"
   ]
  },
  {
   "cell_type": "code",
   "execution_count": 68,
   "id": "1642f6f9",
   "metadata": {},
   "outputs": [
    {
     "data": {
      "text/plain": [
       "['hyd', 'Biryani', 'Buvaneshwar', 'rasagulla']"
      ]
     },
     "execution_count": 68,
     "metadata": {},
     "output_type": "execute_result"
    }
   ],
   "source": [
    "list1 = ['hyd','Biryani','Buvaneshwar','rasagulla']\n",
    "list1"
   ]
  },
  {
   "cell_type": "code",
   "execution_count": 70,
   "id": "db35ed08",
   "metadata": {},
   "outputs": [
    {
     "data": {
      "text/plain": [
       "'rasagulla'"
      ]
     },
     "execution_count": 70,
     "metadata": {},
     "output_type": "execute_result"
    }
   ],
   "source": [
    "list1[3]"
   ]
  },
  {
   "cell_type": "code",
   "execution_count": 85,
   "id": "2df045f4",
   "metadata": {},
   "outputs": [
    {
     "data": {
      "text/plain": [
       "['rasagulla', 'rasagulla', 'rasagulla', 'rasagulla']"
      ]
     },
     "execution_count": 85,
     "metadata": {},
     "output_type": "execute_result"
    }
   ],
   "source": [
    "list(map(lambda i:list1[3],list1))"
   ]
  },
  {
   "cell_type": "markdown",
   "id": "db9d81ec",
   "metadata": {},
   "source": [
    "# filter"
   ]
  },
  {
   "cell_type": "code",
   "execution_count": 87,
   "id": "b94b6201",
   "metadata": {},
   "outputs": [
    {
     "data": {
      "text/plain": [
       "('hyd', 'Biryani', 'Buvaneshwar', 'rasagulla')"
      ]
     },
     "execution_count": 87,
     "metadata": {},
     "output_type": "execute_result"
    }
   ],
   "source": [
    "tuple(filter(lambda i:list1[3],list1))"
   ]
  },
  {
   "cell_type": "code",
   "execution_count": 81,
   "id": "634ddc02",
   "metadata": {},
   "outputs": [
    {
     "name": "stdout",
     "output_type": "stream",
     "text": [
      "Biryani\n",
      "Buvaneshwar\n",
      "rasagulla\n"
     ]
    }
   ],
   "source": [
    "for i in list1:\n",
    "    if len(i)>3:\n",
    "        print(i)"
   ]
  },
  {
   "cell_type": "code",
   "execution_count": 88,
   "id": "aeb1288a",
   "metadata": {},
   "outputs": [
    {
     "name": "stdout",
     "output_type": "stream",
     "text": [
      "hy#d\n",
      "Birya#ni\n",
      "Buvane#shwar\n"
     ]
    }
   ],
   "source": [
    "list1 = ['hy#d','Birya#ni','Buvane#shwar','rasagulla']\n",
    "for i in list1:\n",
    "    if '#' in i:\n",
    "        print(i)"
   ]
  },
  {
   "cell_type": "code",
   "execution_count": 92,
   "id": "a87cc9c0",
   "metadata": {},
   "outputs": [
    {
     "data": {
      "text/plain": [
       "['hy#d', 'Birya#ni', 'Buvane#shwar']"
      ]
     },
     "execution_count": 92,
     "metadata": {},
     "output_type": "execute_result"
    }
   ],
   "source": [
    "list(filter(lambda i:'#' in i ,list1))"
   ]
  },
  {
   "cell_type": "code",
   "execution_count": 97,
   "id": "95668e52",
   "metadata": {
    "scrolled": true
   },
   "outputs": [
    {
     "name": "stdout",
     "output_type": "stream",
     "text": [
      "odd 1\n",
      "even 2\n",
      "odd 3\n",
      "even 4\n",
      "odd 5\n",
      "even 6\n"
     ]
    },
    {
     "data": {
      "text/plain": [
       "()"
      ]
     },
     "execution_count": 97,
     "metadata": {},
     "output_type": "execute_result"
    }
   ],
   "source": [
    "l2 = [1,2,3,4,5,6]\n",
    "tuple(filter(lambda i:print('even {}'.format(i)) if i%2==0 else print('odd {}'.format(i)),l2))"
   ]
  },
  {
   "cell_type": "code",
   "execution_count": 100,
   "id": "e42358c1",
   "metadata": {},
   "outputs": [
    {
     "data": {
      "text/plain": [
       "({1: 'odd 1'},\n",
       " {2: 'even 2'},\n",
       " {3: 'odd 3'},\n",
       " {4: 'even 4'},\n",
       " {5: 'odd 5'},\n",
       " {6: 'even 6'})"
      ]
     },
     "execution_count": 100,
     "metadata": {},
     "output_type": "execute_result"
    }
   ],
   "source": [
    "l3 = [1,2,3,4,5,6]\n",
    "tuple(map(lambda i:{i:'even {}'.format(i)} if i%2==0 else {i:'odd {}'.format(i)},l2))"
   ]
  },
  {
   "cell_type": "code",
   "execution_count": null,
   "id": "50f77fc8",
   "metadata": {},
   "outputs": [],
   "source": []
  }
 ],
 "metadata": {
  "kernelspec": {
   "display_name": "Python 3 (ipykernel)",
   "language": "python",
   "name": "python3"
  },
  "language_info": {
   "codemirror_mode": {
    "name": "ipython",
    "version": 3
   },
   "file_extension": ".py",
   "mimetype": "text/x-python",
   "name": "python",
   "nbconvert_exporter": "python",
   "pygments_lexer": "ipython3",
   "version": "3.11.5"
  }
 },
 "nbformat": 4,
 "nbformat_minor": 5
}
