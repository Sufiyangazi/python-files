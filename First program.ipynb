{
 "cells": [
  {
   "cell_type": "code",
   "execution_count": 3,
   "id": "74fbabde",
   "metadata": {},
   "outputs": [
    {
     "name": "stdout",
     "output_type": "stream",
     "text": [
      "30\n"
     ]
    },
    {
     "data": {
      "text/plain": [
       "40"
      ]
     },
     "execution_count": 3,
     "metadata": {},
     "output_type": "execute_result"
    }
   ],
   "source": [
    "a = 30 \n",
    "b = 40\n",
    "print(a) \n",
    "b \n"
   ]
  },
  {
   "cell_type": "code",
   "execution_count": 2,
   "id": "7fb1cc40",
   "metadata": {},
   "outputs": [
    {
     "name": "stdout",
     "output_type": "stream",
     "text": [
      "30\n"
     ]
    }
   ],
   "source": [
    "print(a)"
   ]
  },
  {
   "cell_type": "code",
   "execution_count": 4,
   "id": "60b97921",
   "metadata": {},
   "outputs": [
    {
     "ename": "SyntaxError",
     "evalue": "invalid syntax (3524496311.py, line 3)",
     "output_type": "error",
     "traceback": [
      "\u001b[1;36m  Cell \u001b[1;32mIn[4], line 3\u001b[1;36m\u001b[0m\n\u001b[1;33m    print(a) b\u001b[0m\n\u001b[1;37m             ^\u001b[0m\n\u001b[1;31mSyntaxError\u001b[0m\u001b[1;31m:\u001b[0m invalid syntax\n"
     ]
    }
   ],
   "source": [
    "a = 30 \n",
    "b = 40\n",
    "print(a) b"
   ]
  },
  {
   "cell_type": "code",
   "execution_count": 5,
   "id": "1480dd96",
   "metadata": {},
   "outputs": [
    {
     "name": "stdout",
     "output_type": "stream",
     "text": [
      "30\n"
     ]
    },
    {
     "data": {
      "text/plain": [
       "40"
      ]
     },
     "execution_count": 5,
     "metadata": {},
     "output_type": "execute_result"
    }
   ],
   "source": [
    "a = 30 \n",
    "b = 40\n",
    "print(a)\n",
    "b"
   ]
  },
  {
   "cell_type": "code",
   "execution_count": 6,
   "id": "ec25c61b",
   "metadata": {},
   "outputs": [
    {
     "name": "stdout",
     "output_type": "stream",
     "text": [
      "Hai how are you\n"
     ]
    }
   ],
   "source": [
    "\n",
    "print('Hai how are you')"
   ]
  },
  {
   "cell_type": "code",
   "execution_count": 7,
   "id": "373c0e39",
   "metadata": {},
   "outputs": [
    {
     "name": "stdout",
     "output_type": "stream",
     "text": [
      "python\n"
     ]
    }
   ],
   "source": [
    "name = 'python'\n",
    "print(name)"
   ]
  },
  {
   "cell_type": "code",
   "execution_count": 9,
   "id": "dfaa6920",
   "metadata": {},
   "outputs": [
    {
     "name": "stdout",
     "output_type": "stream",
     "text": [
      "my name is python\n"
     ]
    }
   ],
   "source": [
    "# my name is python\n",
    "print('my name is ' + name)"
   ]
  },
  {
   "cell_type": "code",
   "execution_count": 10,
   "id": "01f3aa81",
   "metadata": {},
   "outputs": [
    {
     "name": "stdout",
     "output_type": "stream",
     "text": [
      "my name is python\n"
     ]
    }
   ],
   "source": [
    "print('my name is', name)"
   ]
  },
  {
   "cell_type": "code",
   "execution_count": 12,
   "id": "a9f23271",
   "metadata": {},
   "outputs": [
    {
     "name": "stdout",
     "output_type": "stream",
     "text": [
      "the value of num1 is 30\n"
     ]
    }
   ],
   "source": [
    "num1 = 30\n",
    "# the value of num1 is 30\n",
    "print('the value of num1 is',num1)"
   ]
  },
  {
   "cell_type": "code",
   "execution_count": 14,
   "id": "37526625",
   "metadata": {},
   "outputs": [
    {
     "name": "stdout",
     "output_type": "stream",
     "text": [
      "the value of num1 is : 30\n"
     ]
    }
   ],
   "source": [
    "# the value of num1 is : 30\n",
    "print('the value of num1 is',\":\",num1)"
   ]
  },
  {
   "cell_type": "code",
   "execution_count": 15,
   "id": "0eb27d6b",
   "metadata": {},
   "outputs": [
    {
     "name": "stdout",
     "output_type": "stream",
     "text": [
      "hai how are you\n"
     ]
    }
   ],
   "source": [
    "#hai \n",
    "# how are you\n",
    "a = \"hai\"\n",
    "b =\" how are you\"\n",
    "print(a + b)"
   ]
  },
  {
   "cell_type": "code",
   "execution_count": 19,
   "id": "9c4cab91",
   "metadata": {},
   "outputs": [
    {
     "name": "stdout",
     "output_type": "stream",
     "text": [
      "hai how are you\n"
     ]
    }
   ],
   "source": [
    "print(\"hai \" ,end=\"\")\n",
    "print('how are you')"
   ]
  },
  {
   "cell_type": "markdown",
   "id": "d86af578",
   "metadata": {},
   "source": [
    "# To join multiple print statements we have to use end operater \n",
    "#print(\"hai \" ,end=\"\")\n",
    "#print('how are you')"
   ]
  },
  {
   "cell_type": "code",
   "execution_count": 22,
   "id": "5e614e65",
   "metadata": {},
   "outputs": [
    {
     "name": "stdout",
     "output_type": "stream",
     "text": [
      "hai how are you\n"
     ]
    }
   ],
   "source": [
    "# hai \n",
    "#how\n",
    "#are\n",
    "#you\n",
    "print(\"hai\",end=' ')\n",
    "print('how',end=\" \")\n",
    "print('are',end=' ')\n",
    "print('you')"
   ]
  },
  {
   "cell_type": "code",
   "execution_count": 26,
   "id": "a00efc0c",
   "metadata": {},
   "outputs": [
    {
     "name": "stdout",
     "output_type": "stream",
     "text": [
      "the addition of a&b is 600\n"
     ]
    }
   ],
   "source": [
    "a = 100\n",
    "b = 500\n",
    "print('the addition of a&b is', a + b)"
   ]
  },
  {
   "cell_type": "markdown",
   "id": "25573598",
   "metadata": {},
   "source": []
  },
  {
   "cell_type": "code",
   "execution_count": 28,
   "id": "ef2ea251",
   "metadata": {},
   "outputs": [
    {
     "name": "stdout",
     "output_type": "stream",
     "text": [
      "the multiplication of a&b is 600\n"
     ]
    }
   ],
   "source": [
    "a = 20 \n",
    "b = 30\n",
    "print(\"the multiplication of a&b is\",a*b)"
   ]
  },
  {
   "cell_type": "code",
   "execution_count": 29,
   "id": "d133e103",
   "metadata": {},
   "outputs": [
    {
     "name": "stdout",
     "output_type": "stream",
     "text": [
      "the multiplucation of 20 and 30 is 600\n"
     ]
    }
   ],
   "source": [
    "print('the multiplucation of 20 and 30 is', a*b)"
   ]
  },
  {
   "cell_type": "code",
   "execution_count": 31,
   "id": "9171abe1",
   "metadata": {},
   "outputs": [
    {
     "ename": "NameError",
     "evalue": "name 'mul' is not defined",
     "output_type": "error",
     "traceback": [
      "\u001b[1;31m---------------------------------------------------------------------------\u001b[0m",
      "\u001b[1;31mNameError\u001b[0m                                 Traceback (most recent call last)",
      "Cell \u001b[1;32mIn[31], line 3\u001b[0m\n\u001b[0;32m      1\u001b[0m a \u001b[38;5;241m=\u001b[39m \u001b[38;5;241m400\u001b[39m \n\u001b[0;32m      2\u001b[0m b \u001b[38;5;241m=\u001b[39m \u001b[38;5;241m300\u001b[39m\n\u001b[1;32m----> 3\u001b[0m \u001b[38;5;28mprint\u001b[39m(\u001b[38;5;124m'\u001b[39m\u001b[38;5;124mthe sum of \u001b[39m\u001b[38;5;132;01m{}\u001b[39;00m\u001b[38;5;124m and \u001b[39m\u001b[38;5;132;01m{}\u001b[39;00m\u001b[38;5;124m is \u001b[39m\u001b[38;5;132;01m{}\u001b[39;00m\u001b[38;5;124m \u001b[39m\u001b[38;5;124m'\u001b[39m\u001b[38;5;241m.\u001b[39mformat(a,b,mul))\n",
      "\u001b[1;31mNameError\u001b[0m: name 'mul' is not defined"
     ]
    }
   ],
   "source": [
    "a = 400 \n",
    "b = 300\n",
    "mul = a*b\n",
    "print('the sum of {} and {} is {} '.format(a,b,mul))"
   ]
  },
  {
   "cell_type": "code",
   "execution_count": 33,
   "id": "067f8204",
   "metadata": {},
   "outputs": [
    {
     "name": "stdout",
     "output_type": "stream",
     "text": [
      "the sum of 400 and 300 is 700 \n"
     ]
    }
   ],
   "source": [
    "a = 400 \n",
    "b = 300\n",
    "mul = a+b\n",
    "print('the sum of {} and {} is {} '.format(a,b,mul))"
   ]
  },
  {
   "cell_type": "code",
   "execution_count": 36,
   "id": "b84b9087",
   "metadata": {},
   "outputs": [
    {
     "name": "stdout",
     "output_type": "stream",
     "text": [
      "My name is  python i leave in  Hyerabad my age is  30\n"
     ]
    }
   ],
   "source": [
    "name = 'python'\n",
    "city = \"Hyerabad\"\n",
    "age = '30'\n",
    "print('My name is ',name, \"i leave in \",city,'my age is ', age )"
   ]
  },
  {
   "cell_type": "code",
   "execution_count": null,
   "id": "3a282074",
   "metadata": {},
   "outputs": [],
   "source": [
    "name = 'python'\n",
    "city = \"Hyerabad\"\n",
    "age = '30'\n",
    "print('my name is {} ')"
   ]
  }
 ],
 "metadata": {
  "kernelspec": {
   "display_name": "Python 3 (ipykernel)",
   "language": "python",
   "name": "python3"
  },
  "language_info": {
   "codemirror_mode": {
    "name": "ipython",
    "version": 3
   },
   "file_extension": ".py",
   "mimetype": "text/x-python",
   "name": "python",
   "nbconvert_exporter": "python",
   "pygments_lexer": "ipython3",
   "version": "3.11.5"
  }
 },
 "nbformat": 4,
 "nbformat_minor": 5
}
