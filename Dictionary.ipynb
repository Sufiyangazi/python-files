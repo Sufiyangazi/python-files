{
 "cells": [
  {
   "cell_type": "code",
   "execution_count": 1,
   "id": "6adc6857",
   "metadata": {},
   "outputs": [
    {
     "data": {
      "text/plain": [
       "{'ram': 25, 'raheem': 30, 'robert': 45}"
      ]
     },
     "execution_count": 1,
     "metadata": {},
     "output_type": "execute_result"
    }
   ],
   "source": [
    "dict1 = {'ram':25,'raheem':30,'robert':45}\n",
    "dict1"
   ]
  },
  {
   "cell_type": "code",
   "execution_count": 2,
   "id": "28bd3b7f",
   "metadata": {},
   "outputs": [
    {
     "data": {
      "text/plain": [
       "dict"
      ]
     },
     "execution_count": 2,
     "metadata": {},
     "output_type": "execute_result"
    }
   ],
   "source": [
    "type(dict1)"
   ]
  },
  {
   "cell_type": "code",
   "execution_count": 3,
   "id": "bb61e1cc",
   "metadata": {},
   "outputs": [
    {
     "data": {
      "text/plain": [
       "3"
      ]
     },
     "execution_count": 3,
     "metadata": {},
     "output_type": "execute_result"
    }
   ],
   "source": [
    "len(dict1)"
   ]
  },
  {
   "cell_type": "code",
   "execution_count": 4,
   "id": "5a22803b",
   "metadata": {},
   "outputs": [
    {
     "data": {
      "text/plain": [
       "'robert'"
      ]
     },
     "execution_count": 4,
     "metadata": {},
     "output_type": "execute_result"
    }
   ],
   "source": [
    "max(dict1)"
   ]
  },
  {
   "cell_type": "code",
   "execution_count": 5,
   "id": "5f2a23a4",
   "metadata": {},
   "outputs": [
    {
     "data": {
      "text/plain": [
       "'raheem'"
      ]
     },
     "execution_count": 5,
     "metadata": {},
     "output_type": "execute_result"
    }
   ],
   "source": [
    "min(dict1)"
   ]
  },
  {
   "cell_type": "code",
   "execution_count": 6,
   "id": "d1bf7b2f",
   "metadata": {},
   "outputs": [
    {
     "data": {
      "text/plain": [
       "{'names': ['ram', 'raheem', 'robert'], 'ages': [25, 30, 35]}"
      ]
     },
     "execution_count": 6,
     "metadata": {},
     "output_type": "execute_result"
    }
   ],
   "source": [
    "d1 = {'ram':23,'raheem':30,'robert':35}\n",
    "d2 = {'names':['ram','raheem','robert'],\n",
    "     'ages':[25,30,35]}\n",
    "d1\n",
    "d2"
   ]
  },
  {
   "cell_type": "code",
   "execution_count": 7,
   "id": "fba57525",
   "metadata": {},
   "outputs": [
    {
     "data": {
      "text/plain": [
       "{'ram': 23, 'raheem': 30, 'robert': 35}"
      ]
     },
     "execution_count": 7,
     "metadata": {},
     "output_type": "execute_result"
    }
   ],
   "source": [
    "d1"
   ]
  },
  {
   "cell_type": "code",
   "execution_count": 8,
   "id": "8ced8b30",
   "metadata": {},
   "outputs": [
    {
     "data": {
      "text/plain": [
       "{'names': ['ram', 'raheem', 'robert'], 'ages': [25, 30, 35]}"
      ]
     },
     "execution_count": 8,
     "metadata": {},
     "output_type": "execute_result"
    }
   ],
   "source": [
    "d2"
   ]
  },
  {
   "cell_type": "code",
   "execution_count": 9,
   "id": "0cd67251",
   "metadata": {},
   "outputs": [],
   "source": [
    "d3 = {25:'ram'}"
   ]
  },
  {
   "cell_type": "code",
   "execution_count": 10,
   "id": "d35c9fb0",
   "metadata": {},
   "outputs": [
    {
     "data": {
      "text/plain": [
       "{25: 'ram'}"
      ]
     },
     "execution_count": 10,
     "metadata": {},
     "output_type": "execute_result"
    }
   ],
   "source": [
    "d3"
   ]
  },
  {
   "cell_type": "code",
   "execution_count": 11,
   "id": "086899a0",
   "metadata": {},
   "outputs": [
    {
     "data": {
      "text/plain": [
       "{25: 35}"
      ]
     },
     "execution_count": 11,
     "metadata": {},
     "output_type": "execute_result"
    }
   ],
   "source": [
    "d4 = {25:35}\n",
    "d4"
   ]
  },
  {
   "cell_type": "code",
   "execution_count": 12,
   "id": "dc5fdd5e",
   "metadata": {},
   "outputs": [],
   "source": [
    "d6 = {'A':'APPLE','B':10.5,'C':10+15j,12:['A','B','C']}"
   ]
  },
  {
   "cell_type": "code",
   "execution_count": 13,
   "id": "742457d2",
   "metadata": {},
   "outputs": [
    {
     "data": {
      "text/plain": [
       "{'A': 'APPLE', 'B': 10.5, 'C': (10+15j), 12: ['A', 'B', 'C']}"
      ]
     },
     "execution_count": 13,
     "metadata": {},
     "output_type": "execute_result"
    }
   ],
   "source": [
    "d6"
   ]
  },
  {
   "cell_type": "code",
   "execution_count": 14,
   "id": "a35e6a2c",
   "metadata": {},
   "outputs": [],
   "source": [
    "d7 = {'fruits':{'like':['apple','chery']}}"
   ]
  },
  {
   "cell_type": "code",
   "execution_count": 15,
   "id": "5fe8e7da",
   "metadata": {},
   "outputs": [
    {
     "data": {
      "text/plain": [
       "{'fruits': {'like': ['apple', 'chery']}}"
      ]
     },
     "execution_count": 15,
     "metadata": {},
     "output_type": "execute_result"
    }
   ],
   "source": [
    "d7"
   ]
  },
  {
   "cell_type": "markdown",
   "id": "c1b9672e",
   "metadata": {},
   "source": [
    "- dictionary in dictionary is known as jason fie"
   ]
  },
  {
   "cell_type": "markdown",
   "id": "b92d0ee9",
   "metadata": {},
   "source": [
    "- if we provide multiple values at key position it will fail"
   ]
  },
  {
   "cell_type": "code",
   "execution_count": 17,
   "id": "fa963a15",
   "metadata": {},
   "outputs": [
    {
     "data": {
      "text/plain": [
       "{'Sufiyan': 'Amazon'}"
      ]
     },
     "execution_count": 17,
     "metadata": {},
     "output_type": "execute_result"
    }
   ],
   "source": [
    "dict8 = {'Sufiyan':'Amazon','Sufiyan':'Amazon'}\n",
    "dict8"
   ]
  },
  {
   "cell_type": "markdown",
   "id": "f8d76a55",
   "metadata": {},
   "source": [
    "- it will not allow duplicates"
   ]
  },
  {
   "cell_type": "code",
   "execution_count": 18,
   "id": "61191dc7",
   "metadata": {},
   "outputs": [
    {
     "data": {
      "text/plain": [
       "{'ravi': 35}"
      ]
     },
     "execution_count": 18,
     "metadata": {},
     "output_type": "execute_result"
    }
   ],
   "source": [
    "d9 = {'ravi':25,'ravi':35,}\n",
    "d9"
   ]
  },
  {
   "cell_type": "markdown",
   "id": "f485f65d",
   "metadata": {},
   "source": [
    "- if keys are same the value will be considerd"
   ]
  },
  {
   "cell_type": "code",
   "execution_count": 19,
   "id": "982428e6",
   "metadata": {},
   "outputs": [
    {
     "data": {
      "text/plain": [
       "{'ravi': 9}"
      ]
     },
     "execution_count": 19,
     "metadata": {},
     "output_type": "execute_result"
    }
   ],
   "source": [
    "d9 = {'ravi':25,'ravi':35,'ravi':9}\n",
    "d9"
   ]
  },
  {
   "cell_type": "code",
   "execution_count": 20,
   "id": "de94f69a",
   "metadata": {},
   "outputs": [
    {
     "data": {
      "text/plain": [
       "{'ram': 25, 'raheem': 30, 'robert': 45}"
      ]
     },
     "execution_count": 20,
     "metadata": {},
     "output_type": "execute_result"
    }
   ],
   "source": [
    "dict1"
   ]
  },
  {
   "cell_type": "code",
   "execution_count": 21,
   "id": "f269f4da",
   "metadata": {},
   "outputs": [
    {
     "data": {
      "text/plain": [
       "True"
      ]
     },
     "execution_count": 21,
     "metadata": {},
     "output_type": "execute_result"
    }
   ],
   "source": [
    "'ram' in dict1"
   ]
  },
  {
   "cell_type": "code",
   "execution_count": 22,
   "id": "e649b7eb",
   "metadata": {},
   "outputs": [
    {
     "ename": "SyntaxError",
     "evalue": "illegal target for annotation (1077892619.py, line 1)",
     "output_type": "error",
     "traceback": [
      "\u001b[1;36m  Cell \u001b[1;32mIn[22], line 1\u001b[1;36m\u001b[0m\n\u001b[1;33m    'ram': 25 in dict1\u001b[0m\n\u001b[1;37m    ^\u001b[0m\n\u001b[1;31mSyntaxError\u001b[0m\u001b[1;31m:\u001b[0m illegal target for annotation\n"
     ]
    }
   ],
   "source": [
    "'ram': 25 in dict1"
   ]
  },
  {
   "cell_type": "markdown",
   "id": "32abeefc",
   "metadata": {},
   "source": [
    "- keys are important"
   ]
  },
  {
   "cell_type": "code",
   "execution_count": 23,
   "id": "66ef9269",
   "metadata": {},
   "outputs": [
    {
     "name": "stdout",
     "output_type": "stream",
     "text": [
      "ram\n",
      "raheem\n",
      "robert\n"
     ]
    }
   ],
   "source": [
    "for i in dict1:\n",
    "    print(i)"
   ]
  },
  {
   "cell_type": "markdown",
   "id": "1fdbd2c5",
   "metadata": {},
   "source": [
    "- when we iterate through for loop only keys will come the values will not come"
   ]
  },
  {
   "cell_type": "markdown",
   "id": "0ecff28e",
   "metadata": {},
   "source": [
    "## index"
   ]
  },
  {
   "cell_type": "code",
   "execution_count": 25,
   "id": "4628aa30",
   "metadata": {},
   "outputs": [
    {
     "data": {
      "text/plain": [
       "{'ram': 25, 'raheem': 30, 'robert': 45}"
      ]
     },
     "execution_count": 25,
     "metadata": {},
     "output_type": "execute_result"
    }
   ],
   "source": [
    "dict1"
   ]
  },
  {
   "cell_type": "code",
   "execution_count": 26,
   "id": "28d83a26",
   "metadata": {},
   "outputs": [
    {
     "ename": "KeyError",
     "evalue": "0",
     "output_type": "error",
     "traceback": [
      "\u001b[1;31m---------------------------------------------------------------------------\u001b[0m",
      "\u001b[1;31mKeyError\u001b[0m                                  Traceback (most recent call last)",
      "Cell \u001b[1;32mIn[26], line 1\u001b[0m\n\u001b[1;32m----> 1\u001b[0m dict1[\u001b[38;5;241m0\u001b[39m]\n",
      "\u001b[1;31mKeyError\u001b[0m: 0"
     ]
    }
   ],
   "source": [
    "dict1[0]"
   ]
  },
  {
   "cell_type": "code",
   "execution_count": 27,
   "id": "dad24ca1",
   "metadata": {},
   "outputs": [
    {
     "data": {
      "text/plain": [
       "25"
      ]
     },
     "execution_count": 27,
     "metadata": {},
     "output_type": "execute_result"
    }
   ],
   "source": [
    "dict1['ram']"
   ]
  },
  {
   "cell_type": "markdown",
   "id": "8e906d9e",
   "metadata": {},
   "source": [
    "- if we want to get the value by index in dictionary we have to give keywords then it will give us the value of that key.if we give the values like 0,1 it will not work"
   ]
  },
  {
   "cell_type": "code",
   "execution_count": 28,
   "id": "699ffa00",
   "metadata": {},
   "outputs": [
    {
     "data": {
      "text/plain": [
       "{'ram': 25, 'raheem': 30, 'robert': 45}"
      ]
     },
     "execution_count": 28,
     "metadata": {},
     "output_type": "execute_result"
    }
   ],
   "source": [
    "dict1"
   ]
  },
  {
   "cell_type": "code",
   "execution_count": 34,
   "id": "0a642a0f",
   "metadata": {},
   "outputs": [
    {
     "name": "stdout",
     "output_type": "stream",
     "text": [
      "ram\n",
      "raheem\n",
      "robert\n"
     ]
    }
   ],
   "source": [
    "for i in dict1:\n",
    "    print(i)"
   ]
  },
  {
   "cell_type": "code",
   "execution_count": 35,
   "id": "1f1650bc",
   "metadata": {},
   "outputs": [
    {
     "name": "stdout",
     "output_type": "stream",
     "text": [
      "ram 25\n",
      "raheem 30\n",
      "robert 45\n"
     ]
    }
   ],
   "source": [
    "for i in dict1:\n",
    "    print(i,dict1[i])"
   ]
  },
  {
   "cell_type": "code",
   "execution_count": 40,
   "id": "ab9cd8dd",
   "metadata": {},
   "outputs": [
    {
     "name": "stdout",
     "output_type": "stream",
     "text": [
      "Ram 25\n",
      "Raheem 30\n",
      "Robert 35\n"
     ]
    }
   ],
   "source": [
    "d2 ={'names':['Ram','Raheem','Robert'],\n",
    "    'ages':[25,30,35]}\n",
    "for i in range(3):\n",
    "    print(d2['names'][i],d2['ages'][i],)"
   ]
  },
  {
   "cell_type": "code",
   "execution_count": 41,
   "id": "6bbf4b8d",
   "metadata": {},
   "outputs": [],
   "source": [
    "d1 = {'heloo':{'heloo':{'heloo':{'heloo':'python'}}}}"
   ]
  },
  {
   "cell_type": "code",
   "execution_count": 43,
   "id": "242282f3",
   "metadata": {},
   "outputs": [
    {
     "data": {
      "text/plain": [
       "'python'"
      ]
     },
     "execution_count": 43,
     "metadata": {},
     "output_type": "execute_result"
    }
   ],
   "source": [
    "d1['heloo']['heloo']['heloo']['heloo']"
   ]
  },
  {
   "cell_type": "code",
   "execution_count": 2,
   "id": "a9537ef2",
   "metadata": {},
   "outputs": [
    {
     "data": {
      "text/plain": [
       "{'heloo': [{'fruits': ['Apple', 'banana', {'like': ['cherry']}]}]}"
      ]
     },
     "execution_count": 2,
     "metadata": {},
     "output_type": "execute_result"
    }
   ],
   "source": [
    "d2 = {'heloo':[{'fruits':['Apple','banana',{'like':['cherry']}]}]}\n",
    "d2"
   ]
  },
  {
   "cell_type": "markdown",
   "id": "bdace805",
   "metadata": {},
   "source": [
    "- extract cherry from it"
   ]
  },
  {
   "cell_type": "code",
   "execution_count": 13,
   "id": "6c15f0b1",
   "metadata": {},
   "outputs": [
    {
     "data": {
      "text/plain": [
       "'cherry'"
      ]
     },
     "execution_count": 13,
     "metadata": {},
     "output_type": "execute_result"
    }
   ],
   "source": [
    "d2['heloo'][0]['fruits'][2]['like'][0]"
   ]
  },
  {
   "cell_type": "code",
   "execution_count": null,
   "id": "ca210612",
   "metadata": {},
   "outputs": [],
   "source": [
    "import random\n",
    "for i in range(5)"
   ]
  },
  {
   "cell_type": "code",
   "execution_count": 34,
   "id": "db2caedc",
   "metadata": {},
   "outputs": [
    {
     "data": {
      "text/plain": [
       "{'even': [28, 50], 'odd': [11, 25, 33]}"
      ]
     },
     "execution_count": 34,
     "metadata": {},
     "output_type": "execute_result"
    }
   ],
   "source": [
    "import random\n",
    "dict1 ={}\n",
    "l1= []\n",
    "l2= []\n",
    "for i in range(5):\n",
    "    num = random.randint(10,100)\n",
    "    if num%2 == 0:\n",
    "        l1.append(num)\n",
    "    else :\n",
    "        l2.append(num)\n",
    "dict1['even'] = l1\n",
    "dict1['odd'] = l2\n",
    "dict1"
   ]
  },
  {
   "cell_type": "code",
   "execution_count": 45,
   "id": "18be19aa",
   "metadata": {},
   "outputs": [
    {
     "data": {
      "text/plain": [
       "{'course_id': 'DS',\n",
       " 'course_duration': 4,\n",
       " 'course_fee': 18000,\n",
       " 'institute': 'Naresh IT'}"
      ]
     },
     "execution_count": 45,
     "metadata": {},
     "output_type": "execute_result"
    }
   ],
   "source": [
    "dict1 = {'course_id':'DS',\n",
    "        'course_duration':4,\n",
    "        'course_fee':18000,\n",
    "        'institute':'Naresh IT'}\n",
    "dict1"
   ]
  },
  {
   "cell_type": "markdown",
   "id": "081b9258",
   "metadata": {},
   "source": [
    "- items-keys-values"
   ]
  },
  {
   "cell_type": "code",
   "execution_count": 3,
   "id": "233d57b1",
   "metadata": {},
   "outputs": [
    {
     "data": {
      "text/plain": [
       "dict_items([('course_id', 'DS'), ('course_duration', 4), ('course_fee', 18000), ('institute', 'Naresh IT')])"
      ]
     },
     "execution_count": 3,
     "metadata": {},
     "output_type": "execute_result"
    }
   ],
   "source": [
    "dict1.items()"
   ]
  },
  {
   "cell_type": "code",
   "execution_count": 4,
   "id": "d80d5c16",
   "metadata": {},
   "outputs": [
    {
     "data": {
      "text/plain": [
       "['__class__',\n",
       " '__class_getitem__',\n",
       " '__contains__',\n",
       " '__delattr__',\n",
       " '__delitem__',\n",
       " '__dir__',\n",
       " '__doc__',\n",
       " '__eq__',\n",
       " '__format__',\n",
       " '__ge__',\n",
       " '__getattribute__',\n",
       " '__getitem__',\n",
       " '__getstate__',\n",
       " '__gt__',\n",
       " '__hash__',\n",
       " '__init__',\n",
       " '__init_subclass__',\n",
       " '__ior__',\n",
       " '__iter__',\n",
       " '__le__',\n",
       " '__len__',\n",
       " '__lt__',\n",
       " '__ne__',\n",
       " '__new__',\n",
       " '__or__',\n",
       " '__reduce__',\n",
       " '__reduce_ex__',\n",
       " '__repr__',\n",
       " '__reversed__',\n",
       " '__ror__',\n",
       " '__setattr__',\n",
       " '__setitem__',\n",
       " '__sizeof__',\n",
       " '__str__',\n",
       " '__subclasshook__',\n",
       " 'clear',\n",
       " 'copy',\n",
       " 'fromkeys',\n",
       " 'get',\n",
       " 'items',\n",
       " 'keys',\n",
       " 'pop',\n",
       " 'popitem',\n",
       " 'setdefault',\n",
       " 'update',\n",
       " 'values']"
      ]
     },
     "execution_count": 4,
     "metadata": {},
     "output_type": "execute_result"
    }
   ],
   "source": [
    "dir(dict1)"
   ]
  },
  {
   "cell_type": "code",
   "execution_count": 5,
   "id": "28390fbb",
   "metadata": {},
   "outputs": [
    {
     "data": {
      "text/plain": [
       "dict_keys(['course_id', 'course_duration', 'course_fee', 'institute'])"
      ]
     },
     "execution_count": 5,
     "metadata": {},
     "output_type": "execute_result"
    }
   ],
   "source": [
    "dict1.keys()"
   ]
  },
  {
   "cell_type": "code",
   "execution_count": 6,
   "id": "b9cfa09d",
   "metadata": {},
   "outputs": [
    {
     "data": {
      "text/plain": [
       "dict_values(['DS', 4, 18000, 'Naresh IT'])"
      ]
     },
     "execution_count": 6,
     "metadata": {},
     "output_type": "execute_result"
    }
   ],
   "source": [
    "dict1.values()"
   ]
  },
  {
   "cell_type": "code",
   "execution_count": 16,
   "id": "37bed66e",
   "metadata": {},
   "outputs": [
    {
     "data": {
      "text/plain": [
       "dict_items([('course_id', 'DS'), ('course_duration', 4), ('course_fee', 18000), ('institute', 'Naresh IT')])"
      ]
     },
     "execution_count": 16,
     "metadata": {},
     "output_type": "execute_result"
    }
   ],
   "source": [
    "dict1.items()"
   ]
  },
  {
   "cell_type": "code",
   "execution_count": 15,
   "id": "8783cdcf",
   "metadata": {},
   "outputs": [
    {
     "data": {
      "text/plain": [
       "dict_items"
      ]
     },
     "execution_count": 15,
     "metadata": {},
     "output_type": "execute_result"
    }
   ],
   "source": [
    "type(dict1.items())"
   ]
  },
  {
   "cell_type": "code",
   "execution_count": 17,
   "id": "7c908469",
   "metadata": {},
   "outputs": [
    {
     "name": "stdout",
     "output_type": "stream",
     "text": [
      "course_id : DS\n",
      "course_duration : 4\n",
      "course_fee : 18000\n",
      "institute : Naresh IT\n"
     ]
    }
   ],
   "source": [
    "for i,j in dict1.items():\n",
    "    print(i,':',j)"
   ]
  },
  {
   "cell_type": "code",
   "execution_count": 19,
   "id": "62b52451",
   "metadata": {},
   "outputs": [
    {
     "data": {
      "text/plain": [
       "[('course_id', 'DS'),\n",
       " ('course_duration', 4),\n",
       " ('course_fee', 18000),\n",
       " ('institute', 'Naresh IT')]"
      ]
     },
     "execution_count": 19,
     "metadata": {},
     "output_type": "execute_result"
    }
   ],
   "source": [
    "list(dict1.items()) #Type casting using list"
   ]
  },
  {
   "cell_type": "markdown",
   "id": "f0b885b8",
   "metadata": {},
   "source": [
    "- if we use items then all will come \n",
    "- if we use kyes only kyes will come\\\n",
    "- if we use values only valuse will come"
   ]
  },
  {
   "cell_type": "code",
   "execution_count": 20,
   "id": "ef58feb8",
   "metadata": {},
   "outputs": [
    {
     "name": "stdout",
     "output_type": "stream",
     "text": [
      "course_id : DS\n",
      "course_duration : 4\n",
      "course_fee : 18000\n",
      "institute : Naresh IT\n"
     ]
    }
   ],
   "source": [
    "for i,j in dict1.items():\n",
    "    print(i,':',j)"
   ]
  },
  {
   "cell_type": "code",
   "execution_count": 21,
   "id": "c7043803",
   "metadata": {},
   "outputs": [
    {
     "data": {
      "text/plain": [
       "[('course_id', 'DS'),\n",
       " ('course_duration', 4),\n",
       " ('course_fee', 18000),\n",
       " ('institute', 'Naresh IT')]"
      ]
     },
     "execution_count": 21,
     "metadata": {},
     "output_type": "execute_result"
    }
   ],
   "source": [
    "list(dict1.items()) "
   ]
  },
  {
   "cell_type": "code",
   "execution_count": null,
   "id": "aeb91c5e",
   "metadata": {},
   "outputs": [],
   "source": []
  },
  {
   "cell_type": "code",
   "execution_count": 23,
   "id": "1795e984",
   "metadata": {},
   "outputs": [],
   "source": [
    "keys = dict1.keys()"
   ]
  },
  {
   "cell_type": "code",
   "execution_count": 24,
   "id": "cba0f5f0",
   "metadata": {},
   "outputs": [
    {
     "data": {
      "text/plain": [
       "['course_id', 'course_duration', 'course_fee', 'institute']"
      ]
     },
     "execution_count": 24,
     "metadata": {},
     "output_type": "execute_result"
    }
   ],
   "source": [
    "list(keys)"
   ]
  },
  {
   "cell_type": "code",
   "execution_count": 25,
   "id": "8e828970",
   "metadata": {},
   "outputs": [],
   "source": [
    "values = dict1.values()"
   ]
  },
  {
   "cell_type": "code",
   "execution_count": 26,
   "id": "7d6bca72",
   "metadata": {},
   "outputs": [
    {
     "data": {
      "text/plain": [
       "['DS', 4, 18000, 'Naresh IT']"
      ]
     },
     "execution_count": 26,
     "metadata": {},
     "output_type": "execute_result"
    }
   ],
   "source": [
    "list(values)"
   ]
  },
  {
   "cell_type": "code",
   "execution_count": 27,
   "id": "3fc89ca2",
   "metadata": {},
   "outputs": [],
   "source": [
    "# create a dictionary by using above lists"
   ]
  },
  {
   "cell_type": "code",
   "execution_count": 39,
   "id": "774ce2ed",
   "metadata": {},
   "outputs": [
    {
     "data": {
      "text/plain": [
       "{'course_id': 'DS',\n",
       " 'course_duration': 4,\n",
       " 'course_fee': 18000,\n",
       " 'institute': 'Naresh IT'}"
      ]
     },
     "execution_count": 39,
     "metadata": {},
     "output_type": "execute_result"
    }
   ],
   "source": [
    "key = keys\n",
    "value = values\n",
    "dict1={}\n",
    "for i,j in zip(key,value):\n",
    "    dict1[i]=j\n",
    "dict1    "
   ]
  },
  {
   "cell_type": "code",
   "execution_count": 41,
   "id": "55a73de5",
   "metadata": {},
   "outputs": [
    {
     "data": {
      "text/plain": [
       "{'course_id': 'DS',\n",
       " 'course_duration': 4,\n",
       " 'course_fee': 18000,\n",
       " 'institute': 'Naresh IT'}"
      ]
     },
     "execution_count": 41,
     "metadata": {},
     "output_type": "execute_result"
    }
   ],
   "source": [
    "{i:j for i,j in zip(key,value)}"
   ]
  },
  {
   "cell_type": "code",
   "execution_count": 42,
   "id": "e679f5f8",
   "metadata": {},
   "outputs": [
    {
     "data": {
      "text/plain": [
       "{'even': [42, 72], 'odd': [25, 47, 15]}"
      ]
     },
     "execution_count": 42,
     "metadata": {},
     "output_type": "execute_result"
    }
   ],
   "source": [
    "import random\n",
    "dicts ={}\n",
    "l1= []\n",
    "l2= []\n",
    "for i in range(5):\n",
    "    num = random.randint(10,100)\n",
    "    if num%2 == 0:\n",
    "        l1.append(num)\n",
    "    else :\n",
    "        l2.append(num)\n",
    "dicts['even'] = l1\n",
    "dicts['odd'] = l2\n",
    "dicts"
   ]
  },
  {
   "cell_type": "code",
   "execution_count": 74,
   "id": "13b17d1d",
   "metadata": {},
   "outputs": [
    {
     "data": {
      "text/plain": [
       "{'course_duration': 4, 'course_fee': 18000}"
      ]
     },
     "execution_count": 74,
     "metadata": {},
     "output_type": "execute_result"
    }
   ],
   "source": []
  },
  {
   "cell_type": "code",
   "execution_count": 48,
   "id": "8557cef8",
   "metadata": {},
   "outputs": [
    {
     "data": {
      "text/plain": [
       "'DS'"
      ]
     },
     "execution_count": 48,
     "metadata": {},
     "output_type": "execute_result"
    }
   ],
   "source": [
    "dict1.get('course_id')"
   ]
  },
  {
   "cell_type": "code",
   "execution_count": 50,
   "id": "e93ec8f2",
   "metadata": {},
   "outputs": [],
   "source": [
    "dict2 = {'A':1,'B':2,'C':3}"
   ]
  },
  {
   "cell_type": "code",
   "execution_count": 51,
   "id": "13bd8baf",
   "metadata": {},
   "outputs": [
    {
     "data": {
      "text/plain": [
       "1"
      ]
     },
     "execution_count": 51,
     "metadata": {},
     "output_type": "execute_result"
    }
   ],
   "source": [
    "dict2.get('A')"
   ]
  },
  {
   "cell_type": "code",
   "execution_count": 55,
   "id": "83307bba",
   "metadata": {},
   "outputs": [
    {
     "data": {
      "text/plain": [
       "1"
      ]
     },
     "execution_count": 55,
     "metadata": {},
     "output_type": "execute_result"
    }
   ],
   "source": [
    "dict2['A']"
   ]
  },
  {
   "cell_type": "code",
   "execution_count": 54,
   "id": "9c11b3d4",
   "metadata": {},
   "outputs": [],
   "source": [
    "dict2.get('a')"
   ]
  },
  {
   "cell_type": "code",
   "execution_count": 56,
   "id": "b02dd74f",
   "metadata": {},
   "outputs": [
    {
     "data": {
      "text/plain": [
       "{'A': 1, 'B': 2, 'C': 3}"
      ]
     },
     "execution_count": 56,
     "metadata": {},
     "output_type": "execute_result"
    }
   ],
   "source": [
    "dict2.copy()"
   ]
  },
  {
   "cell_type": "code",
   "execution_count": 60,
   "id": "f358a796",
   "metadata": {},
   "outputs": [
    {
     "name": "stdout",
     "output_type": "stream",
     "text": [
      "d1 {}\n",
      "d2 {'city': 'Hyderabad'}\n"
     ]
    }
   ],
   "source": [
    "d1=  {'city':'Hyderabad'}\n",
    "d2 = d1.copy()\n",
    "d1.clear()\n",
    "print('d1',d1)\n",
    "print('d2',d2)"
   ]
  },
  {
   "cell_type": "code",
   "execution_count": 62,
   "id": "be909213",
   "metadata": {},
   "outputs": [
    {
     "data": {
      "text/plain": [
       "{'course_id': 'DS',\n",
       " 'course_duration': 4,\n",
       " 'course_fee': 18000,\n",
       " 'institute': 'Naresh IT'}"
      ]
     },
     "execution_count": 62,
     "metadata": {},
     "output_type": "execute_result"
    }
   ],
   "source": [
    "dict1"
   ]
  },
  {
   "cell_type": "code",
   "execution_count": 70,
   "id": "52a21e42",
   "metadata": {},
   "outputs": [
    {
     "data": {
      "text/plain": [
       "('institute', 'Naresh IT')"
      ]
     },
     "execution_count": 70,
     "metadata": {},
     "output_type": "execute_result"
    }
   ],
   "source": [
    "dict1.popitem()"
   ]
  },
  {
   "cell_type": "code",
   "execution_count": 71,
   "id": "3796f9e6",
   "metadata": {},
   "outputs": [
    {
     "data": {
      "text/plain": [
       "{'course_duration': 4, 'course_fee': 18000}"
      ]
     },
     "execution_count": 71,
     "metadata": {},
     "output_type": "execute_result"
    }
   ],
   "source": [
    "dict1"
   ]
  },
  {
   "cell_type": "code",
   "execution_count": 75,
   "id": "5bc527c1",
   "metadata": {},
   "outputs": [
    {
     "data": {
      "text/plain": [
       "{'course_id': 'DS',\n",
       " 'course_duration': 4,\n",
       " 'course_fee': 18000,\n",
       " 'institute': 'Naresh IT'}"
      ]
     },
     "execution_count": 75,
     "metadata": {},
     "output_type": "execute_result"
    }
   ],
   "source": [
    "dict1 = {'course_id':'DS',\n",
    "        'course_duration':4,\n",
    "        'course_fee':18000,\n",
    "        'institute':'Naresh IT'}\n",
    "dict1"
   ]
  },
  {
   "cell_type": "code",
   "execution_count": 78,
   "id": "38ec6bd6",
   "metadata": {},
   "outputs": [
    {
     "data": {
      "text/plain": [
       "'DS'"
      ]
     },
     "execution_count": 78,
     "metadata": {},
     "output_type": "execute_result"
    }
   ],
   "source": [
    "dict1.pop('course_id')"
   ]
  },
  {
   "cell_type": "code",
   "execution_count": 80,
   "id": "846da9b6",
   "metadata": {},
   "outputs": [
    {
     "data": {
      "text/plain": [
       "{'course_duration': 4, 'institute': 'Naresh IT'}"
      ]
     },
     "execution_count": 80,
     "metadata": {},
     "output_type": "execute_result"
    }
   ],
   "source": [
    "dict1"
   ]
  },
  {
   "cell_type": "code",
   "execution_count": 81,
   "id": "9938e47b",
   "metadata": {},
   "outputs": [
    {
     "data": {
      "text/plain": [
       "('institute', 'Naresh IT')"
      ]
     },
     "execution_count": 81,
     "metadata": {},
     "output_type": "execute_result"
    }
   ],
   "source": [
    "dict1.popitem()"
   ]
  },
  {
   "cell_type": "code",
   "execution_count": 82,
   "id": "9feb1d2c",
   "metadata": {},
   "outputs": [
    {
     "data": {
      "text/plain": [
       "{'course_duration': 4}"
      ]
     },
     "execution_count": 82,
     "metadata": {},
     "output_type": "execute_result"
    }
   ],
   "source": [
    "dict1"
   ]
  },
  {
   "cell_type": "code",
   "execution_count": 83,
   "id": "d4773580",
   "metadata": {},
   "outputs": [
    {
     "data": {
      "text/plain": [
       "('institute', 'Naresh IT')"
      ]
     },
     "execution_count": 83,
     "metadata": {},
     "output_type": "execute_result"
    }
   ],
   "source": [
    "dict1 = {'course_id':'DS',\n",
    "        'course_duration':4,\n",
    "        'course_fee':18000,\n",
    "        'institute':'Naresh IT'}\n",
    "dict1.popitem()"
   ]
  },
  {
   "cell_type": "code",
   "execution_count": 84,
   "id": "a6bd1ab6",
   "metadata": {},
   "outputs": [
    {
     "data": {
      "text/plain": [
       "{'course_id': 'DS', 'course_duration': 4, 'course_fee': 18000}"
      ]
     },
     "execution_count": 84,
     "metadata": {},
     "output_type": "execute_result"
    }
   ],
   "source": [
    "dict1"
   ]
  },
  {
   "cell_type": "code",
   "execution_count": 85,
   "id": "f62379d1",
   "metadata": {},
   "outputs": [
    {
     "data": {
      "text/plain": [
       "'DS'"
      ]
     },
     "execution_count": 85,
     "metadata": {},
     "output_type": "execute_result"
    }
   ],
   "source": [
    "dict1 = {'course_id':'DS',\n",
    "        'course_duration':4,\n",
    "        'course_fee':18000,\n",
    "        'institute':'Naresh IT'}\n",
    "dict1.pop('course_id')"
   ]
  },
  {
   "cell_type": "code",
   "execution_count": 86,
   "id": "bcc42fe7",
   "metadata": {},
   "outputs": [],
   "source": [
    "dict1 = {'course_id':'DS',\n",
    "        'course_duration':4,\n",
    "        'course_fee':18000,\n",
    "        'institute':'Naresh IT'}\n",
    "del dict1['course_id']"
   ]
  },
  {
   "cell_type": "code",
   "execution_count": 87,
   "id": "b0ed4648",
   "metadata": {},
   "outputs": [
    {
     "data": {
      "text/plain": [
       "{'course_duration': 4, 'course_fee': 18000, 'institute': 'Naresh IT'}"
      ]
     },
     "execution_count": 87,
     "metadata": {},
     "output_type": "execute_result"
    }
   ],
   "source": [
    "dict1"
   ]
  },
  {
   "cell_type": "markdown",
   "id": "f0ae679a",
   "metadata": {},
   "source": [
    "## set as defult"
   ]
  },
  {
   "cell_type": "code",
   "execution_count": 89,
   "id": "2d64d53a",
   "metadata": {},
   "outputs": [
    {
     "data": {
      "text/plain": [
       "{'course_id': 'DS',\n",
       " 'course_duration': 4,\n",
       " 'course_fee': 18000,\n",
       " 'institute': 'Naresh IT',\n",
       " 'package': 100000}"
      ]
     },
     "execution_count": 89,
     "metadata": {},
     "output_type": "execute_result"
    }
   ],
   "source": [
    "dict1 = {'course_id':'DS',\n",
    "        'course_duration':4,\n",
    "        'course_fee':18000,\n",
    "        'institute':'Naresh IT'}\n",
    "dict1['package'] = 100000\n",
    "dict1"
   ]
  },
  {
   "cell_type": "markdown",
   "id": "131562c6",
   "metadata": {},
   "source": [
    "- we can add any thing in the dcitionary by using list and value"
   ]
  },
  {
   "cell_type": "code",
   "execution_count": 91,
   "id": "6d2e9d98",
   "metadata": {},
   "outputs": [
    {
     "data": {
      "text/plain": [
       "{'course_id': 'DS',\n",
       " 'course_duration': 4,\n",
       " 'course_fee': 18000,\n",
       " 'institute': 'Naresh IT',\n",
       " 'package': None,\n",
       " 'certification': 'great learning'}"
      ]
     },
     "execution_count": 91,
     "metadata": {},
     "output_type": "execute_result"
    }
   ],
   "source": [
    "dict1 = {'course_id':'DS',\n",
    "        'course_duration':4,\n",
    "        'course_fee':18000,\n",
    "        'institute':'Naresh IT'}\n",
    "dict1.setdefault('package')\n",
    "dict1.setdefault('certification','great learning')\n",
    "dict1"
   ]
  },
  {
   "cell_type": "markdown",
   "id": "ff6b58bf",
   "metadata": {},
   "source": [
    "## from keys"
   ]
  },
  {
   "cell_type": "code",
   "execution_count": 100,
   "id": "81a44a72",
   "metadata": {},
   "outputs": [
    {
     "data": {
      "text/plain": [
       "{'k': 10, 'e': 10, 'y': 10}"
      ]
     },
     "execution_count": 100,
     "metadata": {},
     "output_type": "execute_result"
    }
   ],
   "source": [
    "dict1.fromkeys('key',10)"
   ]
  },
  {
   "cell_type": "code",
   "execution_count": 101,
   "id": "d1d02feb",
   "metadata": {},
   "outputs": [
    {
     "data": {
      "text/plain": [
       "{'A': 'nareshit', 'B': 'nareshit', 'C': 'nareshit', 'D': 'nareshit'}"
      ]
     },
     "execution_count": 101,
     "metadata": {},
     "output_type": "execute_result"
    }
   ],
   "source": [
    "dict1 = {}\n",
    "employee = ['A','B','C','D']\n",
    "dict1.fromkeys(employee,'nareshit')"
   ]
  },
  {
   "cell_type": "code",
   "execution_count": null,
   "id": "07b88a43",
   "metadata": {},
   "outputs": [],
   "source": []
  }
 ],
 "metadata": {
  "kernelspec": {
   "display_name": "Python 3 (ipykernel)",
   "language": "python",
   "name": "python3"
  },
  "language_info": {
   "codemirror_mode": {
    "name": "ipython",
    "version": 3
   },
   "file_extension": ".py",
   "mimetype": "text/x-python",
   "name": "python",
   "nbconvert_exporter": "python",
   "pygments_lexer": "ipython3",
   "version": "3.11.5"
  }
 },
 "nbformat": 4,
 "nbformat_minor": 5
}
