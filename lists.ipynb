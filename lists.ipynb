{
 "cells": [
  {
   "cell_type": "code",
   "execution_count": 1,
   "id": "d675f44c",
   "metadata": {},
   "outputs": [],
   "source": [
    "list1 = [1,2,3,4]"
   ]
  },
  {
   "cell_type": "code",
   "execution_count": 2,
   "id": "f4859d57",
   "metadata": {},
   "outputs": [
    {
     "data": {
      "text/plain": [
       "4"
      ]
     },
     "execution_count": 2,
     "metadata": {},
     "output_type": "execute_result"
    }
   ],
   "source": [
    "max(list1)"
   ]
  },
  {
   "cell_type": "code",
   "execution_count": 3,
   "id": "1638c591",
   "metadata": {},
   "outputs": [
    {
     "data": {
      "text/plain": [
       "1"
      ]
     },
     "execution_count": 3,
     "metadata": {},
     "output_type": "execute_result"
    }
   ],
   "source": [
    "min(list1)"
   ]
  },
  {
   "cell_type": "code",
   "execution_count": 4,
   "id": "c0507f46",
   "metadata": {},
   "outputs": [
    {
     "data": {
      "text/plain": [
       "10"
      ]
     },
     "execution_count": 4,
     "metadata": {},
     "output_type": "execute_result"
    }
   ],
   "source": [
    "sum(list1)"
   ]
  },
  {
   "cell_type": "code",
   "execution_count": 36,
   "id": "2019387b",
   "metadata": {},
   "outputs": [],
   "source": [
    "list9 = ['i am sufiyan']"
   ]
  },
  {
   "cell_type": "code",
   "execution_count": 6,
   "id": "c5d656c3",
   "metadata": {},
   "outputs": [
    {
     "ename": "TypeError",
     "evalue": "unsupported operand type(s) for +: 'int' and 'str'",
     "output_type": "error",
     "traceback": [
      "\u001b[1;31m---------------------------------------------------------------------------\u001b[0m",
      "\u001b[1;31mTypeError\u001b[0m                                 Traceback (most recent call last)",
      "Cell \u001b[1;32mIn[6], line 1\u001b[0m\n\u001b[1;32m----> 1\u001b[0m \u001b[38;5;28msum\u001b[39m(list2)\n",
      "\u001b[1;31mTypeError\u001b[0m: unsupported operand type(s) for +: 'int' and 'str'"
     ]
    }
   ],
   "source": [
    "sum(list2)"
   ]
  },
  {
   "cell_type": "code",
   "execution_count": 7,
   "id": "9ae2f7a2",
   "metadata": {},
   "outputs": [],
   "source": [
    "list3 = ['apple',1234]"
   ]
  },
  {
   "cell_type": "code",
   "execution_count": 8,
   "id": "7ed87c89",
   "metadata": {},
   "outputs": [
    {
     "data": {
      "text/plain": [
       "2"
      ]
     },
     "execution_count": 8,
     "metadata": {},
     "output_type": "execute_result"
    }
   ],
   "source": [
    "len(list3)"
   ]
  },
  {
   "cell_type": "code",
   "execution_count": 9,
   "id": "34e6c73c",
   "metadata": {},
   "outputs": [
    {
     "ename": "TypeError",
     "evalue": "'>' not supported between instances of 'int' and 'str'",
     "output_type": "error",
     "traceback": [
      "\u001b[1;31m---------------------------------------------------------------------------\u001b[0m",
      "\u001b[1;31mTypeError\u001b[0m                                 Traceback (most recent call last)",
      "Cell \u001b[1;32mIn[9], line 1\u001b[0m\n\u001b[1;32m----> 1\u001b[0m \u001b[38;5;28mmax\u001b[39m(list3)\n",
      "\u001b[1;31mTypeError\u001b[0m: '>' not supported between instances of 'int' and 'str'"
     ]
    }
   ],
   "source": [
    "max(list3)"
   ]
  },
  {
   "cell_type": "code",
   "execution_count": 10,
   "id": "f84a9f1a",
   "metadata": {},
   "outputs": [
    {
     "ename": "TypeError",
     "evalue": "'<' not supported between instances of 'int' and 'str'",
     "output_type": "error",
     "traceback": [
      "\u001b[1;31m---------------------------------------------------------------------------\u001b[0m",
      "\u001b[1;31mTypeError\u001b[0m                                 Traceback (most recent call last)",
      "Cell \u001b[1;32mIn[10], line 1\u001b[0m\n\u001b[1;32m----> 1\u001b[0m \u001b[38;5;28mmin\u001b[39m(list3)\n",
      "\u001b[1;31mTypeError\u001b[0m: '<' not supported between instances of 'int' and 'str'"
     ]
    }
   ],
   "source": [
    "min(list3)"
   ]
  },
  {
   "cell_type": "code",
   "execution_count": 11,
   "id": "fc9a603a",
   "metadata": {},
   "outputs": [
    {
     "ename": "TypeError",
     "evalue": "unsupported operand type(s) for +: 'int' and 'str'",
     "output_type": "error",
     "traceback": [
      "\u001b[1;31m---------------------------------------------------------------------------\u001b[0m",
      "\u001b[1;31mTypeError\u001b[0m                                 Traceback (most recent call last)",
      "Cell \u001b[1;32mIn[11], line 1\u001b[0m\n\u001b[1;32m----> 1\u001b[0m \u001b[38;5;28msum\u001b[39m(list3)\n",
      "\u001b[1;31mTypeError\u001b[0m: unsupported operand type(s) for +: 'int' and 'str'"
     ]
    }
   ],
   "source": [
    "sum(list3)"
   ]
  },
  {
   "cell_type": "code",
   "execution_count": 12,
   "id": "d7fa0a88",
   "metadata": {},
   "outputs": [],
   "source": [
    "list4 = ['A',1,2.6,10+20j]"
   ]
  },
  {
   "cell_type": "code",
   "execution_count": 13,
   "id": "395993dd",
   "metadata": {},
   "outputs": [
    {
     "ename": "TypeError",
     "evalue": "'>' not supported between instances of 'int' and 'str'",
     "output_type": "error",
     "traceback": [
      "\u001b[1;31m---------------------------------------------------------------------------\u001b[0m",
      "\u001b[1;31mTypeError\u001b[0m                                 Traceback (most recent call last)",
      "Cell \u001b[1;32mIn[13], line 2\u001b[0m\n\u001b[0;32m      1\u001b[0m \u001b[38;5;28mlen\u001b[39m(list4)\n\u001b[1;32m----> 2\u001b[0m \u001b[38;5;28mmax\u001b[39m(list4)\n\u001b[0;32m      3\u001b[0m \u001b[38;5;28mmin\u001b[39m(list4)\n\u001b[0;32m      4\u001b[0m \u001b[38;5;28msum\u001b[39m(list4)\n",
      "\u001b[1;31mTypeError\u001b[0m: '>' not supported between instances of 'int' and 'str'"
     ]
    }
   ],
   "source": [
    "len(list4)\n",
    "max(list4)\n",
    "min(list4)\n",
    "sum(list4)"
   ]
  },
  {
   "cell_type": "code",
   "execution_count": 14,
   "id": "8af12319",
   "metadata": {},
   "outputs": [],
   "source": [
    "list5 = [100,100,100]"
   ]
  },
  {
   "cell_type": "code",
   "execution_count": 16,
   "id": "eeb33e37",
   "metadata": {},
   "outputs": [
    {
     "name": "stdout",
     "output_type": "stream",
     "text": [
      "3\n",
      "100\n",
      "100\n",
      "300\n"
     ]
    }
   ],
   "source": [
    "print(len(list5))\n",
    "print(max(list5))\n",
    "print(min(list5))\n",
    "print(sum(list5))"
   ]
  },
  {
   "cell_type": "code",
   "execution_count": 17,
   "id": "3a892a95",
   "metadata": {},
   "outputs": [],
   "source": [
    "list6 = ['A','a']"
   ]
  },
  {
   "cell_type": "code",
   "execution_count": 18,
   "id": "e5a1f729",
   "metadata": {},
   "outputs": [
    {
     "name": "stdout",
     "output_type": "stream",
     "text": [
      "2\n",
      "a\n",
      "A\n"
     ]
    },
    {
     "ename": "TypeError",
     "evalue": "unsupported operand type(s) for +: 'int' and 'str'",
     "output_type": "error",
     "traceback": [
      "\u001b[1;31m---------------------------------------------------------------------------\u001b[0m",
      "\u001b[1;31mTypeError\u001b[0m                                 Traceback (most recent call last)",
      "Cell \u001b[1;32mIn[18], line 4\u001b[0m\n\u001b[0;32m      2\u001b[0m \u001b[38;5;28mprint\u001b[39m(\u001b[38;5;28mmax\u001b[39m(list6))\n\u001b[0;32m      3\u001b[0m \u001b[38;5;28mprint\u001b[39m(\u001b[38;5;28mmin\u001b[39m(list6))\n\u001b[1;32m----> 4\u001b[0m \u001b[38;5;28mprint\u001b[39m(\u001b[38;5;28msum\u001b[39m(list6))\n",
      "\u001b[1;31mTypeError\u001b[0m: unsupported operand type(s) for +: 'int' and 'str'"
     ]
    }
   ],
   "source": [
    "print(len(list6))\n",
    "print(max(list6))\n",
    "print(min(list6))\n",
    "print(sum(list6))"
   ]
  },
  {
   "cell_type": "code",
   "execution_count": 19,
   "id": "3baaee4c",
   "metadata": {},
   "outputs": [],
   "source": [
    "list7 = ['APPLE',['1234']]"
   ]
  },
  {
   "cell_type": "code",
   "execution_count": 21,
   "id": "f0a3ae7a",
   "metadata": {},
   "outputs": [
    {
     "name": "stdout",
     "output_type": "stream",
     "text": [
      "2\n"
     ]
    },
    {
     "ename": "TypeError",
     "evalue": "'>' not supported between instances of 'list' and 'str'",
     "output_type": "error",
     "traceback": [
      "\u001b[1;31m---------------------------------------------------------------------------\u001b[0m",
      "\u001b[1;31mTypeError\u001b[0m                                 Traceback (most recent call last)",
      "Cell \u001b[1;32mIn[21], line 2\u001b[0m\n\u001b[0;32m      1\u001b[0m \u001b[38;5;28mprint\u001b[39m(\u001b[38;5;28mlen\u001b[39m(list7))\n\u001b[1;32m----> 2\u001b[0m \u001b[38;5;28mprint\u001b[39m(\u001b[38;5;28mmax\u001b[39m(list7))\n\u001b[0;32m      3\u001b[0m \u001b[38;5;28mprint\u001b[39m(\u001b[38;5;28mmin\u001b[39m(list7))\n\u001b[0;32m      4\u001b[0m \u001b[38;5;28mprint\u001b[39m(\u001b[38;5;28msum\u001b[39m(list7))\n",
      "\u001b[1;31mTypeError\u001b[0m: '>' not supported between instances of 'list' and 'str'"
     ]
    }
   ],
   "source": [
    "print(len(list7))\n",
    "print(max(list7))\n",
    "print(min(list7))\n",
    "print(sum(list7))"
   ]
  },
  {
   "cell_type": "code",
   "execution_count": 25,
   "id": "dadf2b9b",
   "metadata": {},
   "outputs": [],
   "source": [
    "concatinatio=list1 + list2"
   ]
  },
  {
   "cell_type": "code",
   "execution_count": 26,
   "id": "3324b25e",
   "metadata": {},
   "outputs": [
    {
     "name": "stdout",
     "output_type": "stream",
     "text": [
      "[1, 2, 3, 4]\n",
      "['i am sufiyan']\n",
      "[1, 2, 3, 4, 'i am sufiyan']\n"
     ]
    }
   ],
   "source": [
    "print(list1)\n",
    "print(list2)\n",
    "print(concatinatio)"
   ]
  },
  {
   "cell_type": "code",
   "execution_count": 27,
   "id": "282c458b",
   "metadata": {},
   "outputs": [
    {
     "ename": "TypeError",
     "evalue": "unsupported operand type(s) for -: 'list' and 'list'",
     "output_type": "error",
     "traceback": [
      "\u001b[1;31m---------------------------------------------------------------------------\u001b[0m",
      "\u001b[1;31mTypeError\u001b[0m                                 Traceback (most recent call last)",
      "Cell \u001b[1;32mIn[27], line 1\u001b[0m\n\u001b[1;32m----> 1\u001b[0m list1 \u001b[38;5;241m-\u001b[39m list2\n",
      "\u001b[1;31mTypeError\u001b[0m: unsupported operand type(s) for -: 'list' and 'list'"
     ]
    }
   ],
   "source": [
    "list1 - list2"
   ]
  },
  {
   "cell_type": "code",
   "execution_count": 28,
   "id": "f184694f",
   "metadata": {},
   "outputs": [
    {
     "ename": "TypeError",
     "evalue": "unsupported operand type(s) for -: 'list' and 'list'",
     "output_type": "error",
     "traceback": [
      "\u001b[1;31m---------------------------------------------------------------------------\u001b[0m",
      "\u001b[1;31mTypeError\u001b[0m                                 Traceback (most recent call last)",
      "Cell \u001b[1;32mIn[28], line 3\u001b[0m\n\u001b[0;32m      1\u001b[0m list1\u001b[38;5;241m=\u001b[39m [\u001b[38;5;124m'\u001b[39m\u001b[38;5;124m969428312\u001b[39m\u001b[38;5;124m'\u001b[39m]\n\u001b[0;32m      2\u001b[0m list2 \u001b[38;5;241m=\u001b[39m [\u001b[38;5;124m'\u001b[39m\u001b[38;5;124m75934653892\u001b[39m\u001b[38;5;124m'\u001b[39m]\n\u001b[1;32m----> 3\u001b[0m sub \u001b[38;5;241m=\u001b[39m list1 \u001b[38;5;241m-\u001b[39m list2\n",
      "\u001b[1;31mTypeError\u001b[0m: unsupported operand type(s) for -: 'list' and 'list'"
     ]
    }
   ],
   "source": [
    "list1= ['969428312']\n",
    "#list2 = ['75934653892']\n",
    "sub = list1 - list2"
   ]
  },
  {
   "cell_type": "code",
   "execution_count": 29,
   "id": "14b4ce7e",
   "metadata": {},
   "outputs": [
    {
     "ename": "TypeError",
     "evalue": "can't multiply sequence by non-int of type 'list'",
     "output_type": "error",
     "traceback": [
      "\u001b[1;31m---------------------------------------------------------------------------\u001b[0m",
      "\u001b[1;31mTypeError\u001b[0m                                 Traceback (most recent call last)",
      "Cell \u001b[1;32mIn[29], line 1\u001b[0m\n\u001b[1;32m----> 1\u001b[0m list1\u001b[38;5;241m*\u001b[39mlist2\n",
      "\u001b[1;31mTypeError\u001b[0m: can't multiply sequence by non-int of type 'list'"
     ]
    }
   ],
   "source": [
    "list1*list2"
   ]
  },
  {
   "cell_type": "code",
   "execution_count": 30,
   "id": "3ea46964",
   "metadata": {},
   "outputs": [
    {
     "ename": "TypeError",
     "evalue": "unsupported operand type(s) for /: 'list' and 'list'",
     "output_type": "error",
     "traceback": [
      "\u001b[1;31m---------------------------------------------------------------------------\u001b[0m",
      "\u001b[1;31mTypeError\u001b[0m                                 Traceback (most recent call last)",
      "Cell \u001b[1;32mIn[30], line 1\u001b[0m\n\u001b[1;32m----> 1\u001b[0m list1\u001b[38;5;241m/\u001b[39mlist2\n",
      "\u001b[1;31mTypeError\u001b[0m: unsupported operand type(s) for /: 'list' and 'list'"
     ]
    }
   ],
   "source": [
    "list1/list2"
   ]
  },
  {
   "cell_type": "code",
   "execution_count": 31,
   "id": "dca6d2bc",
   "metadata": {},
   "outputs": [
    {
     "data": {
      "text/plain": [
       "['969428312', '969428312', '969428312']"
      ]
     },
     "execution_count": 31,
     "metadata": {},
     "output_type": "execute_result"
    }
   ],
   "source": [
    "3*list1"
   ]
  },
  {
   "cell_type": "code",
   "execution_count": 37,
   "id": "42ce171b",
   "metadata": {},
   "outputs": [
    {
     "name": "stdout",
     "output_type": "stream",
     "text": [
      "['i am sufiyan']\n"
     ]
    }
   ],
   "source": [
    "print(list9)"
   ]
  },
  {
   "cell_type": "code",
   "execution_count": 42,
   "id": "a75f8956",
   "metadata": {},
   "outputs": [],
   "source": [
    "list2  = ['A','B','C','D']"
   ]
  },
  {
   "cell_type": "code",
   "execution_count": 45,
   "id": "980dc99b",
   "metadata": {},
   "outputs": [
    {
     "name": "stdout",
     "output_type": "stream",
     "text": [
      "A\n",
      "B\n",
      "C\n",
      "D\n"
     ]
    }
   ],
   "source": [
    "for i in list2:\n",
    "    print(i)"
   ]
  },
  {
   "cell_type": "code",
   "execution_count": 54,
   "id": "13bbe824",
   "metadata": {},
   "outputs": [
    {
     "name": "stdout",
     "output_type": "stream",
     "text": [
      "0\n",
      "1\n",
      "2\n",
      "3\n"
     ]
    }
   ],
   "source": [
    "i = 0\n",
    "list2 = ['a','b','c','d']\n",
    "while True :\n",
    "    print(i)\n",
    "    i = i + 1\n",
    "    if i == len(list2):\n",
    "        break\n"
   ]
  },
  {
   "cell_type": "code",
   "execution_count": 55,
   "id": "e4ee5796",
   "metadata": {},
   "outputs": [
    {
     "name": "stdout",
     "output_type": "stream",
     "text": [
      "['a', 'b', 'c', 'd']\n",
      "['a', 'b', 'c', 'd']\n",
      "['a', 'b', 'c', 'd']\n",
      "['a', 'b', 'c', 'd']\n"
     ]
    }
   ],
   "source": [
    "i = 0\n",
    "list2 = ['a','b','c','d']\n",
    "while True :\n",
    "    print(list2)\n",
    "    i = i + 1\n",
    "    if i == len(list2):\n",
    "        break\n"
   ]
  },
  {
   "cell_type": "markdown",
   "id": "897faae8",
   "metadata": {},
   "source": [
    "## index operation"
   ]
  },
  {
   "cell_type": "code",
   "execution_count": 58,
   "id": "df8ffa6e",
   "metadata": {},
   "outputs": [],
   "source": [
    "list1 = [1,2,3,4]"
   ]
  },
  {
   "cell_type": "code",
   "execution_count": 69,
   "id": "62341894",
   "metadata": {},
   "outputs": [],
   "source": [
    "list11 =  ['A','B','C','D']"
   ]
  },
  {
   "cell_type": "code",
   "execution_count": 60,
   "id": "e3c3a319",
   "metadata": {},
   "outputs": [
    {
     "data": {
      "text/plain": [
       "4"
      ]
     },
     "execution_count": 60,
     "metadata": {},
     "output_type": "execute_result"
    }
   ],
   "source": [
    "list1[3]"
   ]
  },
  {
   "cell_type": "code",
   "execution_count": 66,
   "id": "e3d9bdda",
   "metadata": {},
   "outputs": [
    {
     "name": "stdout",
     "output_type": "stream",
     "text": [
      "0 a\n",
      "1 b\n",
      "2 c\n",
      "3 d\n"
     ]
    }
   ],
   "source": [
    "for i in range(len(list2)):\n",
    "    print(i,list2[i])"
   ]
  },
  {
   "cell_type": "code",
   "execution_count": 68,
   "id": "c57e0287",
   "metadata": {},
   "outputs": [
    {
     "name": "stdout",
     "output_type": "stream",
     "text": [
      "0 a\n",
      "1 b\n",
      "2 c\n",
      "3 d\n"
     ]
    }
   ],
   "source": [
    "i = 0\n",
    "while True :\n",
    "    print(i,list2[i])\n",
    "    i = i  + 1\n",
    "    if i == len(list2):\n",
    "        break"
   ]
  },
  {
   "cell_type": "code",
   "execution_count": 90,
   "id": "4f02b235",
   "metadata": {},
   "outputs": [
    {
     "name": "stdout",
     "output_type": "stream",
     "text": [
      "the +ve index of A is 0\n",
      "the +ve index of B is 1\n",
      "the +ve index of C is 2\n",
      "the +ve index of D is 3\n"
     ]
    }
   ],
   "source": [
    "for i in range(len(list11)):\n",
    "    print('the +ve index of {} is {}'.format(list11[i],i))"
   ]
  },
  {
   "cell_type": "code",
   "execution_count": 81,
   "id": "39150d17",
   "metadata": {},
   "outputs": [
    {
     "name": "stdout",
     "output_type": "stream",
     "text": [
      "the +ve index of 0 is A\n",
      "the +ve index of 1 is B\n",
      "the +ve index of 2 is C\n",
      "the +ve index of 3 is D\n"
     ]
    }
   ],
   "source": [
    "i = 0\n",
    "while True:\n",
    "    print('the +ve index of {} is {}'.format(i,list11[i]))\n",
    "    i = i + 1\n",
    "    if i == len(list11):\n",
    "        break"
   ]
  },
  {
   "cell_type": "code",
   "execution_count": 95,
   "id": "cee115c7",
   "metadata": {},
   "outputs": [],
   "source": [
    "list1 = [[[[[1,2,3,4]]]]]"
   ]
  },
  {
   "cell_type": "code",
   "execution_count": 117,
   "id": "1633778f",
   "metadata": {},
   "outputs": [
    {
     "data": {
      "text/plain": [
       "4"
      ]
     },
     "execution_count": 117,
     "metadata": {},
     "output_type": "execute_result"
    }
   ],
   "source": [
    "list1[0][0][0][0][3]"
   ]
  },
  {
   "cell_type": "code",
   "execution_count": 131,
   "id": "a8fecac4",
   "metadata": {},
   "outputs": [],
   "source": [
    "list2 = [[[[['A','B',[1,2,3,['straberry']]]]]]]"
   ]
  },
  {
   "cell_type": "code",
   "execution_count": 132,
   "id": "b36611ac",
   "metadata": {},
   "outputs": [
    {
     "data": {
      "text/plain": [
       "'straberry'"
      ]
     },
     "execution_count": 132,
     "metadata": {},
     "output_type": "execute_result"
    }
   ],
   "source": [
    "list2[0][0][0][0][2][3][0]"
   ]
  },
  {
   "cell_type": "code",
   "execution_count": 141,
   "id": "b7345f59",
   "metadata": {},
   "outputs": [
    {
     "name": "stdout",
     "output_type": "stream",
     "text": [
      "0\n",
      "1\n",
      "2\n",
      "3\n"
     ]
    }
   ],
   "source": [
    "list1 = [[1,2,3,4]]\n",
    "for i in range(len(list1[0])):\n",
    "    print(i)"
   ]
  },
  {
   "cell_type": "code",
   "execution_count": 144,
   "id": "45c21abd",
   "metadata": {},
   "outputs": [
    {
     "name": "stdout",
     "output_type": "stream",
     "text": [
      "0\n",
      "1\n",
      "2\n",
      "3\n"
     ]
    }
   ],
   "source": [
    "list2 = [[[1,2,3,4]]]\n",
    "for i in range(len(list2[0][0])):\n",
    "    print(i)"
   ]
  },
  {
   "cell_type": "code",
   "execution_count": 151,
   "id": "37b4081a",
   "metadata": {},
   "outputs": [
    {
     "name": "stdout",
     "output_type": "stream",
     "text": [
      "[1, 2, 3, 4]\n",
      "0\n"
     ]
    }
   ],
   "source": [
    "i = 0\n",
    "while True :\n",
    "    print(list2[0][0])\n",
    "    print(i)\n",
    "    i = i  + 1\n",
    "    if i == len(list2):\n",
    "        break"
   ]
  },
  {
   "cell_type": "code",
   "execution_count": 4,
   "id": "d626e27c",
   "metadata": {},
   "outputs": [
    {
     "name": "stdout",
     "output_type": "stream",
     "text": [
      "Apple its good\n",
      "Ball its good\n",
      "Cat its better\n",
      "Dog its better\n",
      "Elepehnt its good\n"
     ]
    }
   ],
   "source": [
    "list1 = ['Apple','Ball','Cat','Dog','Elepehnt']\n",
    "for i in list1:\n",
    "    if len(i)>3:\n",
    "        print('{} its good'.format(i))\n",
    "    else:\n",
    "        print('{} its better'.format(i))"
   ]
  },
  {
   "cell_type": "code",
   "execution_count": 6,
   "id": "9c7f7f66",
   "metadata": {},
   "outputs": [
    {
     "data": {
      "text/plain": [
       "['Apple its good',\n",
       " 'Ball its good',\n",
       " 'Cat its better',\n",
       " 'Dog its better',\n",
       " 'Elepehnt its good']"
      ]
     },
     "execution_count": 6,
     "metadata": {},
     "output_type": "execute_result"
    }
   ],
   "source": [
    "    list1 = ['Apple','Ball','Cat','Dog','Elepehnt']\n",
    "items  = []\n",
    "for i in list1:\n",
    "    if len(i)>3:\n",
    "        items.append('{} its good'.format(i))\n",
    "    else:\n",
    "        items.append('{} its better'.format(i))\n",
    "    \n",
    "items"
   ]
  },
  {
   "cell_type": "code",
   "execution_count": 10,
   "id": "49f4a083",
   "metadata": {},
   "outputs": [
    {
     "data": {
      "text/plain": [
       "['Apple its good',\n",
       " 'Ball its good',\n",
       " 'Cat its better',\n",
       " 'Dog its better',\n",
       " 'Elepehnt its good']"
      ]
     },
     "execution_count": 10,
     "metadata": {},
     "output_type": "execute_result"
    }
   ],
   "source": [
    "items= ['{} its good'.format(i) if len(i)>3 else '{} its better'.format(i) for i in list1]\n",
    "items"
   ]
  },
  {
   "cell_type": "markdown",
   "id": "7c1ca12e",
   "metadata": {},
   "source": [
    "## clear"
   ]
  },
  {
   "cell_type": "code",
   "execution_count": 11,
   "id": "30d4711f",
   "metadata": {},
   "outputs": [],
   "source": [
    "list1 = [1,2,3,4]\n",
    "list1.clear()"
   ]
  },
  {
   "cell_type": "code",
   "execution_count": 12,
   "id": "19aa9516",
   "metadata": {},
   "outputs": [
    {
     "data": {
      "text/plain": [
       "[]"
      ]
     },
     "execution_count": 12,
     "metadata": {},
     "output_type": "execute_result"
    }
   ],
   "source": [
    "list1"
   ]
  },
  {
   "cell_type": "code",
   "execution_count": 13,
   "id": "fa078014",
   "metadata": {},
   "outputs": [],
   "source": [
    "list1 = [100,200,300]\n",
    "del list1[0]"
   ]
  },
  {
   "cell_type": "code",
   "execution_count": 14,
   "id": "6107e4be",
   "metadata": {},
   "outputs": [
    {
     "data": {
      "text/plain": [
       "[200, 300]"
      ]
     },
     "execution_count": 14,
     "metadata": {},
     "output_type": "execute_result"
    }
   ],
   "source": [
    "list1"
   ]
  },
  {
   "cell_type": "code",
   "execution_count": 18,
   "id": "7b67ec42",
   "metadata": {},
   "outputs": [
    {
     "data": {
      "text/plain": [
       "[1, 2, 3]"
      ]
     },
     "execution_count": 18,
     "metadata": {},
     "output_type": "execute_result"
    }
   ],
   "source": [
    "list1 = [1,2,3,4]\n",
    "list1.pop()\n",
    "list1"
   ]
  },
  {
   "cell_type": "code",
   "execution_count": 32,
   "id": "fd68e183",
   "metadata": {},
   "outputs": [
    {
     "data": {
      "text/plain": [
       "'sufiyan'"
      ]
     },
     "execution_count": 32,
     "metadata": {},
     "output_type": "execute_result"
    }
   ],
   "source": [
    "list1.pop()"
   ]
  },
  {
   "cell_type": "code",
   "execution_count": 25,
   "id": "ac32287d",
   "metadata": {},
   "outputs": [
    {
     "data": {
      "text/plain": [
       "[1, 2, 4]"
      ]
     },
     "execution_count": 25,
     "metadata": {},
     "output_type": "execute_result"
    }
   ],
   "source": [
    "list1 = [1,2,3,4]\n",
    "list1.remove(3)\n",
    "list1"
   ]
  },
  {
   "cell_type": "code",
   "execution_count": 30,
   "id": "586489a1",
   "metadata": {},
   "outputs": [
    {
     "data": {
      "text/plain": [
       "[]"
      ]
     },
     "execution_count": 30,
     "metadata": {},
     "output_type": "execute_result"
    }
   ],
   "source": [
    "list1 = ['qutub.sufiyan@gmail.com']\n",
    "list1.remove('qutub.sufiyan@gmail.com')\n",
    "list1"
   ]
  },
  {
   "cell_type": "code",
   "execution_count": 31,
   "id": "4f5ed824",
   "metadata": {},
   "outputs": [
    {
     "data": {
      "text/plain": [
       "['sufiyan']"
      ]
     },
     "execution_count": 31,
     "metadata": {},
     "output_type": "execute_result"
    }
   ],
   "source": [
    "list1 = ['sufiyan','qutub']\n",
    "list1.remove('qutub')\n",
    "list1"
   ]
  },
  {
   "cell_type": "code",
   "execution_count": 33,
   "id": "d9c97780",
   "metadata": {},
   "outputs": [],
   "source": [
    "list1 = [4]"
   ]
  },
  {
   "cell_type": "code",
   "execution_count": 34,
   "id": "3c36798d",
   "metadata": {},
   "outputs": [
    {
     "data": {
      "text/plain": [
       "4"
      ]
     },
     "execution_count": 34,
     "metadata": {},
     "output_type": "execute_result"
    }
   ],
   "source": [
    "list1.pop()"
   ]
  },
  {
   "cell_type": "code",
   "execution_count": 45,
   "id": "1652d5fa",
   "metadata": {},
   "outputs": [],
   "source": [
    "list1 = ['A','B','C','D','E']"
   ]
  },
  {
   "cell_type": "code",
   "execution_count": 46,
   "id": "df3bc1c9",
   "metadata": {},
   "outputs": [],
   "source": [
    "list1.remove('D')"
   ]
  },
  {
   "cell_type": "code",
   "execution_count": 47,
   "id": "634171e7",
   "metadata": {},
   "outputs": [
    {
     "data": {
      "text/plain": [
       "['A', 'B', 'C', 'E']"
      ]
     },
     "execution_count": 47,
     "metadata": {},
     "output_type": "execute_result"
    }
   ],
   "source": [
    "list1"
   ]
  },
  {
   "cell_type": "code",
   "execution_count": 51,
   "id": "212a5859",
   "metadata": {},
   "outputs": [
    {
     "name": "stdout",
     "output_type": "stream",
     "text": [
      "[1, 4, 7, 10, 13, 16, 19, 22, 25, 28, 31, 34, 37, 40, 43, 46, 49, 52, 58, 61, 64, 67, 70, 73, 76, 79, 82, 85, 88, 91, 94, 97] "
     ]
    }
   ],
   "source": [
    "list2 = [i for i in range(1,100,3)]\n",
    "list2\n",
    "list2.remove(55)\n",
    "print(list2,end = ' ')"
   ]
  },
  {
   "cell_type": "code",
   "execution_count": 55,
   "id": "056848e0",
   "metadata": {},
   "outputs": [
    {
     "name": "stdout",
     "output_type": "stream",
     "text": [
      "[1, 4, 7, 10, 13, 16, 19, 22, 25, 28, 31, 34, 37, 40, 43, 46, 49, 52, 58, 61, 64, 67, 70, 73, 76, 79, 82, 85, 88, 91, 94, 97] "
     ]
    }
   ],
   "source": [
    "list2 = [i for i in range(1,100,3)]\n",
    "list2\n",
    "list2.pop(list2.index(55))\n",
    "print(list2,end = ' ')"
   ]
  },
  {
   "cell_type": "code",
   "execution_count": null,
   "id": "c1ec6827",
   "metadata": {},
   "outputs": [],
   "source": [
    "list1 = ['Apple','Ball','Cat','Dog','Elepehnt']\n",
    "items  = []\n",
    "for i in list1:\n",
    "    if len(i)>3:\n",
    "        items.append('{} its good'.format(i))\n",
    "    else:\n",
    "        items.append('{} its better'.format(i))\n",
    "    \n",
    "items"
   ]
  },
  {
   "cell_type": "code",
   "execution_count": 82,
   "id": "a989bca9",
   "metadata": {},
   "outputs": [
    {
     "name": "stdout",
     "output_type": "stream",
     "text": [
      "['KL', 'virat', 'rohit']\n",
      "['Rahul', 'kohili', 'sharma']\n",
      "['locknow', 'bnglore', 'mumbai']\n"
     ]
    }
   ],
   "source": [
    "string1 = 'KL.Rahul@locknow.com,virat.kohili@bnglore.com,rohit.sharma@mumbai.com'\n",
    "list1 = string1.split(',')\n",
    "firstname = []\n",
    "name = []\n",
    "company = []\n",
    "for i in list1:\n",
    "    firstname.append(i.split('.')[0])\n",
    "    name.append(i.split('.')[1].split('@')[0])\n",
    "    company.append(i.split('.')[1].split('@')[1])\n",
    "    \n",
    "print(firstname)\n",
    "print(name)\n",
    "print(company)"
   ]
  },
  {
   "cell_type": "code",
   "execution_count": 88,
   "id": "7d63c185",
   "metadata": {},
   "outputs": [
    {
     "name": "stdout",
     "output_type": "stream",
     "text": [
      "['KL', 'virat', 'rohit']\n",
      "['Rahul', 'kohili', 'sharma']\n",
      "['locknow', 'bnglore', 'mumbai']\n"
     ]
    }
   ],
   "source": [
    "firstname = [i.split('.')[0] for i in list1]\n",
    "name = [i.split('.')[1].split('@')[0] for i in list1]\n",
    "company = [i.split('.')[1].split('@')[1] for i in list1]\n",
    "print(firstname)\n",
    "print(name)\n",
    "print(company)"
   ]
  },
  {
   "cell_type": "code",
   "execution_count": 89,
   "id": "1941aa06",
   "metadata": {},
   "outputs": [
    {
     "data": {
      "text/plain": [
       "['KL.Rahul@locknow.com', 'virat.kohili@bnglore.com', 'rohit.sharma@mumbai.com']"
      ]
     },
     "execution_count": 89,
     "metadata": {},
     "output_type": "execute_result"
    }
   ],
   "source": [
    "list1"
   ]
  },
  {
   "cell_type": "code",
   "execution_count": 91,
   "id": "9d783c0a",
   "metadata": {},
   "outputs": [],
   "source": [
    "list1.clear()"
   ]
  },
  {
   "cell_type": "code",
   "execution_count": 92,
   "id": "b62d6091",
   "metadata": {},
   "outputs": [
    {
     "data": {
      "text/plain": [
       "[]"
      ]
     },
     "execution_count": 92,
     "metadata": {},
     "output_type": "execute_result"
    }
   ],
   "source": [
    "list1"
   ]
  },
  {
   "cell_type": "code",
   "execution_count": 94,
   "id": "797a5c01",
   "metadata": {},
   "outputs": [
    {
     "name": "stdout",
     "output_type": "stream",
     "text": [
      "[]\n",
      "[1, 2, 3, 4, 5]\n"
     ]
    },
    {
     "data": {
      "text/plain": [
       "(None, None)"
      ]
     },
     "execution_count": 94,
     "metadata": {},
     "output_type": "execute_result"
    }
   ],
   "source": [
    "list1 = [1,2,3,4,5]\n",
    "list2 = list1.copy()\n",
    "list1.clear()\n",
    "print(list1),print(list2)"
   ]
  },
  {
   "cell_type": "markdown",
   "id": "31c753a1",
   "metadata": {},
   "source": [
    "## extend"
   ]
  },
  {
   "cell_type": "code",
   "execution_count": 96,
   "id": "fdb0f95f",
   "metadata": {},
   "outputs": [],
   "source": [
    "list1.extend('suf')"
   ]
  },
  {
   "cell_type": "code",
   "execution_count": 97,
   "id": "16acbd37",
   "metadata": {},
   "outputs": [
    {
     "data": {
      "text/plain": [
       "['s', 'u', 'f']"
      ]
     },
     "execution_count": 97,
     "metadata": {},
     "output_type": "execute_result"
    }
   ],
   "source": [
    "list1"
   ]
  },
  {
   "cell_type": "code",
   "execution_count": 102,
   "id": "c5fb1def",
   "metadata": {},
   "outputs": [],
   "source": [
    "list1 = [1,2,3,4]\n",
    "list2 = ['a','b','c','d']\n",
    "list1.extend(list2)"
   ]
  },
  {
   "cell_type": "code",
   "execution_count": 101,
   "id": "b3614451",
   "metadata": {},
   "outputs": [
    {
     "data": {
      "text/plain": [
       "[1, 2, 3, 4, 'a', 'b', 'cd']"
      ]
     },
     "execution_count": 101,
     "metadata": {},
     "output_type": "execute_result"
    }
   ],
   "source": [
    "list1"
   ]
  },
  {
   "cell_type": "code",
   "execution_count": 113,
   "id": "6aa9bad0",
   "metadata": {},
   "outputs": [
    {
     "name": "stdout",
     "output_type": "stream",
     "text": [
      "ram age is 25\n",
      "raheem age is 30\n",
      "robart age is 35\n"
     ]
    }
   ],
   "source": [
    "list1 = ['ram','raheem','robart']\n",
    "list2 = [25,30,35]\n",
    "for i,j in zip (list1,list2):\n",
    "    print('{} age is {}'.format(i,j))"
   ]
  },
  {
   "cell_type": "code",
   "execution_count": 115,
   "id": "8dd1092d",
   "metadata": {},
   "outputs": [
    {
     "data": {
      "text/plain": [
       "['e', 'd', 'c', 'b', 'a']"
      ]
     },
     "execution_count": 115,
     "metadata": {},
     "output_type": "execute_result"
    }
   ],
   "source": [
    "list1 = ['a','b','c','d','e']\n",
    "list1.sort(reverse = True)\n",
    "list1"
   ]
  },
  {
   "cell_type": "code",
   "execution_count": 123,
   "id": "0617e4f4",
   "metadata": {},
   "outputs": [
    {
     "data": {
      "text/plain": [
       "['a', 'b', 'c', 'd', 'e']"
      ]
     },
     "execution_count": 123,
     "metadata": {},
     "output_type": "execute_result"
    }
   ],
   "source": [
    "list1 = ['a','b','c','d','e']\n",
    "list1.sort()\n",
    "list1"
   ]
  },
  {
   "cell_type": "markdown",
   "id": "1936481c",
   "metadata": {},
   "source": [
    "- in sort method results are saving in the samae list"
   ]
  },
  {
   "cell_type": "code",
   "execution_count": 121,
   "id": "3e82870c",
   "metadata": {},
   "outputs": [
    {
     "ename": "TypeError",
     "evalue": "sorted expected 1 argument, got 2",
     "output_type": "error",
     "traceback": [
      "\u001b[1;31m---------------------------------------------------------------------------\u001b[0m",
      "\u001b[1;31mTypeError\u001b[0m                                 Traceback (most recent call last)",
      "Cell \u001b[1;32mIn[121], line 1\u001b[0m\n\u001b[1;32m----> 1\u001b[0m \u001b[38;5;28msorted\u001b[39m(\u001b[38;5;241m12\u001b[39m,list1)\n",
      "\u001b[1;31mTypeError\u001b[0m: sorted expected 1 argument, got 2"
     ]
    }
   ],
   "source": [
    "sorted(list1)"
   ]
  },
  {
   "cell_type": "markdown",
   "id": "f67800f5",
   "metadata": {},
   "source": [
    "- in sorted keyword the results will not save in the same list"
   ]
  },
  {
   "cell_type": "code",
   "execution_count": 124,
   "id": "ed985571",
   "metadata": {},
   "outputs": [
    {
     "data": {
      "text/plain": [
       "['KL.Rahul@locknow.com', 'virat.kohili@bnglore.com', 'rohit.sharma@mumbai.com']"
      ]
     },
     "execution_count": 124,
     "metadata": {},
     "output_type": "execute_result"
    }
   ],
   "source": [
    "string1 = 'KL.Rahul@locknow.com,virat.kohili@bnglore.com,rohit.sharma@mumbai.com'\n",
    "list1 = string1.split(',')\n",
    "list1"
   ]
  },
  {
   "cell_type": "code",
   "execution_count": 126,
   "id": "008415b9",
   "metadata": {},
   "outputs": [
    {
     "data": {
      "text/plain": [
       "'KL.Rahul@locknow.com,virat.kohili@bnglore.com,rohit.sharma@mumbai.com'"
      ]
     },
     "execution_count": 126,
     "metadata": {},
     "output_type": "execute_result"
    }
   ],
   "source": [
    "','.join(list1)"
   ]
  },
  {
   "cell_type": "markdown",
   "id": "44be09b1",
   "metadata": {},
   "source": [
    "## Insert"
   ]
  },
  {
   "cell_type": "code",
   "execution_count": 127,
   "id": "c43f7bd8",
   "metadata": {},
   "outputs": [],
   "source": [
    "list1 = [1,2,3,4]"
   ]
  },
  {
   "cell_type": "code",
   "execution_count": 128,
   "id": "6e8cb273",
   "metadata": {},
   "outputs": [],
   "source": [
    "list1.insert(3,8)"
   ]
  },
  {
   "cell_type": "code",
   "execution_count": 129,
   "id": "fd549219",
   "metadata": {},
   "outputs": [
    {
     "data": {
      "text/plain": [
       "[1, 2, 3, 8, 4]"
      ]
     },
     "execution_count": 129,
     "metadata": {},
     "output_type": "execute_result"
    }
   ],
   "source": [
    "list1"
   ]
  },
  {
   "cell_type": "code",
   "execution_count": null,
   "id": "323d8883",
   "metadata": {},
   "outputs": [],
   "source": []
  }
 ],
 "metadata": {
  "kernelspec": {
   "display_name": "Python 3 (ipykernel)",
   "language": "python",
   "name": "python3"
  },
  "language_info": {
   "codemirror_mode": {
    "name": "ipython",
    "version": 3
   },
   "file_extension": ".py",
   "mimetype": "text/x-python",
   "name": "python",
   "nbconvert_exporter": "python",
   "pygments_lexer": "ipython3",
   "version": "3.11.5"
  }
 },
 "nbformat": 4,
 "nbformat_minor": 5
}
