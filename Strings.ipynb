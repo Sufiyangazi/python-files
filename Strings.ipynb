{
 "cells": [
  {
   "cell_type": "code",
   "execution_count": 2,
   "id": "e67d4944",
   "metadata": {},
   "outputs": [
    {
     "data": {
      "text/plain": [
       "str"
      ]
     },
     "execution_count": 2,
     "metadata": {},
     "output_type": "execute_result"
    }
   ],
   "source": [
    "name = 'python'\n",
    "type (name)"
   ]
  },
  {
   "cell_type": "code",
   "execution_count": 3,
   "id": "3599f1f6",
   "metadata": {},
   "outputs": [
    {
     "data": {
      "text/plain": [
       "'python'"
      ]
     },
     "execution_count": 3,
     "metadata": {},
     "output_type": "execute_result"
    }
   ],
   "source": [
    "name"
   ]
  },
  {
   "cell_type": "code",
   "execution_count": 4,
   "id": "94535577",
   "metadata": {},
   "outputs": [
    {
     "name": "stdout",
     "output_type": "stream",
     "text": [
      "python\n"
     ]
    }
   ],
   "source": [
    "name = \"python\"\n",
    "print(name)"
   ]
  },
  {
   "cell_type": "code",
   "execution_count": 9,
   "id": "57eb0f1c",
   "metadata": {},
   "outputs": [
    {
     "name": "stdout",
     "output_type": "stream",
     "text": [
      "hi how are you\n",
      "   iam good\n",
      "   iam learnung python\n"
     ]
    }
   ],
   "source": [
    "greet = \"\"\"hi how are you\n",
    "   iam good\n",
    "   iam learnung python\"\"\"\n",
    "print(greet)"
   ]
  },
  {
   "cell_type": "markdown",
   "id": "8db56f5b",
   "metadata": {},
   "source": [
    "- the docstring is used to explin the code"
   ]
  },
  {
   "cell_type": "code",
   "execution_count": 12,
   "id": "b0874961",
   "metadata": {},
   "outputs": [
    {
     "name": "stdout",
     "output_type": "stream",
     "text": [
      "Aslkum \"Sufiyan\"\n"
     ]
    }
   ],
   "source": [
    "print('Aslkum \"Sufiyan\"')"
   ]
  },
  {
   "cell_type": "code",
   "execution_count": 13,
   "id": "a5146283",
   "metadata": {},
   "outputs": [
    {
     "ename": "SyntaxError",
     "evalue": "invalid syntax. Perhaps you forgot a comma? (2098630294.py, line 1)",
     "output_type": "error",
     "traceback": [
      "\u001b[1;36m  Cell \u001b[1;32mIn[13], line 1\u001b[1;36m\u001b[0m\n\u001b[1;33m    print('Aslkum'Sufiyan'')\u001b[0m\n\u001b[1;37m          ^\u001b[0m\n\u001b[1;31mSyntaxError\u001b[0m\u001b[1;31m:\u001b[0m invalid syntax. Perhaps you forgot a comma?\n"
     ]
    }
   ],
   "source": [
    "print('Aslkum'Sufiyan'')"
   ]
  },
  {
   "cell_type": "markdown",
   "id": "8dd5c159",
   "metadata": {},
   "source": [
    "- if we want highlight some word we have to use double or single codes if we use sing code then use double code as a hihglighter "
   ]
  },
  {
   "cell_type": "markdown",
   "id": "7d3af18c",
   "metadata": {},
   "source": [
    "- keyword in strings\n",
    "- type\n",
    "- len\n",
    "- max\n",
    "- min"
   ]
  },
  {
   "cell_type": "markdown",
   "id": "47569467",
   "metadata": {},
   "source": [
    "- in"
   ]
  },
  {
   "cell_type": "code",
   "execution_count": 14,
   "id": "6c8a5132",
   "metadata": {},
   "outputs": [
    {
     "data": {
      "text/plain": [
       "'P'"
      ]
     },
     "execution_count": 14,
     "metadata": {},
     "output_type": "execute_result"
    }
   ],
   "source": [
    "string1 = 'Python'\n",
    "type(string1)"
   ]
  },
  {
   "cell_type": "code",
   "execution_count": 15,
   "id": "da8d0dca",
   "metadata": {},
   "outputs": [
    {
     "data": {
      "text/plain": [
       "6"
      ]
     },
     "execution_count": 15,
     "metadata": {},
     "output_type": "execute_result"
    }
   ],
   "source": [
    "len(string1)"
   ]
  },
  {
   "cell_type": "code",
   "execution_count": 17,
   "id": "b98c9759",
   "metadata": {},
   "outputs": [
    {
     "data": {
      "text/plain": [
       "'y'"
      ]
     },
     "execution_count": 17,
     "metadata": {},
     "output_type": "execute_result"
    }
   ],
   "source": [
    "max(string1)"
   ]
  },
  {
   "cell_type": "code",
   "execution_count": 18,
   "id": "445a7527",
   "metadata": {},
   "outputs": [
    {
     "data": {
      "text/plain": [
       "'P'"
      ]
     },
     "execution_count": 18,
     "metadata": {},
     "output_type": "execute_result"
    }
   ],
   "source": [
    "min(string1)"
   ]
  },
  {
   "cell_type": "code",
   "execution_count": 28,
   "id": "1b904a45",
   "metadata": {},
   "outputs": [
    {
     "name": "stdout",
     "output_type": "stream",
     "text": [
      "p 112\n",
      "y 121\n",
      "t 116\n",
      "h 104\n",
      "o 111\n",
      "n 110\n"
     ]
    }
   ],
   "source": [
    "for i in string1 :\n",
    "    string1 = \"python\"\n",
    "    print(i,ord(i))"
   ]
  },
  {
   "cell_type": "code",
   "execution_count": 3,
   "id": "50716ef9",
   "metadata": {},
   "outputs": [
    {
     "name": "stdout",
     "output_type": "stream",
     "text": [
      "A 65\n",
      "s 115\n",
      "l 108\n",
      "k 107\n",
      "u 117\n",
      "m 109\n",
      "  32\n",
      "i 105\n",
      "t 116\n",
      "s 115\n",
      "  32\n",
      "m 109\n",
      "e 101\n",
      "  32\n",
      "s 115\n",
      "u 117\n",
      "f 102\n",
      "i 105\n",
      "y 121\n",
      "a 97\n",
      "n 110\n",
      "  32\n",
      "h 104\n",
      "o 111\n",
      "e 101\n",
      "  32\n",
      "a 97\n",
      "r 114\n",
      "e 101\n",
      "  32\n",
      "y 121\n",
      "o 111\n",
      "u 117\n"
     ]
    }
   ],
   "source": [
    "name22 = 'Aslkum its me sufiyan hoe are you'\n",
    "for i in name22:\n",
    "    print(i,ord(i))"
   ]
  },
  {
   "cell_type": "markdown",
   "id": "e4c0fecb",
   "metadata": {},
   "source": [
    "## Indexing"
   ]
  },
  {
   "cell_type": "code",
   "execution_count": 1,
   "id": "93d8ecb6",
   "metadata": {},
   "outputs": [],
   "source": [
    "name = 'python'"
   ]
  },
  {
   "cell_type": "code",
   "execution_count": 2,
   "id": "4c592acb",
   "metadata": {},
   "outputs": [
    {
     "data": {
      "text/plain": [
       "'h'"
      ]
     },
     "execution_count": 2,
     "metadata": {},
     "output_type": "execute_result"
    }
   ],
   "source": [
    "name[3]"
   ]
  },
  {
   "cell_type": "code",
   "execution_count": 3,
   "id": "2598bf93",
   "metadata": {},
   "outputs": [
    {
     "data": {
      "text/plain": [
       "'n'"
      ]
     },
     "execution_count": 3,
     "metadata": {},
     "output_type": "execute_result"
    }
   ],
   "source": [
    "name[5]"
   ]
  },
  {
   "cell_type": "code",
   "execution_count": 4,
   "id": "b2d64dc2",
   "metadata": {},
   "outputs": [
    {
     "data": {
      "text/plain": [
       "'Aslkum its me sufiyan hoe are you'"
      ]
     },
     "execution_count": 4,
     "metadata": {},
     "output_type": "execute_result"
    }
   ],
   "source": [
    "name22"
   ]
  },
  {
   "cell_type": "code",
   "execution_count": 9,
   "id": "cea85ccf",
   "metadata": {},
   "outputs": [
    {
     "data": {
      "text/plain": [
       "33"
      ]
     },
     "execution_count": 9,
     "metadata": {},
     "output_type": "execute_result"
    }
   ],
   "source": [
    "len(name22)"
   ]
  },
  {
   "cell_type": "code",
   "execution_count": 15,
   "id": "4ffbb582",
   "metadata": {},
   "outputs": [
    {
     "data": {
      "text/plain": [
       "'u'"
      ]
     },
     "execution_count": 15,
     "metadata": {},
     "output_type": "execute_result"
    }
   ],
   "source": [
    "name22[32]"
   ]
  },
  {
   "cell_type": "code",
   "execution_count": 18,
   "id": "4e038a08",
   "metadata": {},
   "outputs": [
    {
     "name": "stdout",
     "output_type": "stream",
     "text": [
      "A\n",
      "s\n",
      "l\n",
      "k\n",
      "u\n",
      "m\n",
      " \n",
      "i\n",
      "t\n",
      "s\n",
      " \n",
      "m\n",
      "e\n",
      " \n",
      "s\n",
      "u\n",
      "f\n",
      "i\n",
      "y\n",
      "a\n",
      "n\n",
      " \n",
      "h\n",
      "o\n",
      "e\n",
      " \n",
      "a\n",
      "r\n",
      "e\n",
      " \n",
      "y\n",
      "o\n",
      "u\n"
     ]
    }
   ],
   "source": [
    "for i in range(len(name22)):\n",
    "    print(name22[i])"
   ]
  },
  {
   "cell_type": "code",
   "execution_count": 6,
   "id": "03ac44af",
   "metadata": {},
   "outputs": [
    {
     "name": "stdout",
     "output_type": "stream",
     "text": [
      "p\n",
      "y\n",
      "t\n",
      "h\n",
      "o\n",
      "n\n"
     ]
    }
   ],
   "source": [
    "name = 'python'\n",
    "for i in range(6) :\n",
    "    print(name[i])"
   ]
  },
  {
   "cell_type": "code",
   "execution_count": 12,
   "id": "f72f5f70",
   "metadata": {},
   "outputs": [
    {
     "name": "stdout",
     "output_type": "stream",
     "text": [
      "p\n",
      "y\n",
      "t\n",
      "h\n",
      "o\n",
      "n\n"
     ]
    },
    {
     "ename": "IndexError",
     "evalue": "string index out of range",
     "output_type": "error",
     "traceback": [
      "\u001b[1;31m---------------------------------------------------------------------------\u001b[0m",
      "\u001b[1;31mIndexError\u001b[0m                                Traceback (most recent call last)",
      "Cell \u001b[1;32mIn[12], line 3\u001b[0m\n\u001b[0;32m      1\u001b[0m name \u001b[38;5;241m=\u001b[39m \u001b[38;5;124m'\u001b[39m\u001b[38;5;124mpython\u001b[39m\u001b[38;5;124m'\u001b[39m\n\u001b[0;32m      2\u001b[0m \u001b[38;5;28;01mfor\u001b[39;00m i \u001b[38;5;129;01min\u001b[39;00m \u001b[38;5;28mrange\u001b[39m(\u001b[38;5;241m9\u001b[39m) :\n\u001b[1;32m----> 3\u001b[0m     \u001b[38;5;28mprint\u001b[39m(name[i])\n",
      "\u001b[1;31mIndexError\u001b[0m: string index out of range"
     ]
    }
   ],
   "source": [
    "name = 'python'\n",
    "for i in range(9) :\n",
    "    print(name[i])"
   ]
  },
  {
   "cell_type": "code",
   "execution_count": 17,
   "id": "bd6cf7b9",
   "metadata": {},
   "outputs": [
    {
     "name": "stdout",
     "output_type": "stream",
     "text": [
      "17\n",
      "h e l o o   h o w   a r e   y o u "
     ]
    }
   ],
   "source": [
    "name1 = 'heloo how are you'\n",
    "print(len(name1))\n",
    "for i  in range(len(name1)):\n",
    "    print(name1[i],end = ' ')\n",
    "    "
   ]
  },
  {
   "cell_type": "code",
   "execution_count": 19,
   "id": "f25774d3",
   "metadata": {
    "scrolled": true
   },
   "outputs": [
    {
     "name": "stdout",
     "output_type": "stream",
     "text": [
      "enter the name : python\n",
      "the +ve index of p is 0\n",
      "the +ve index of y is 1\n",
      "the +ve index of t is 2\n",
      "the +ve index of h is 3\n",
      "the +ve index of o is 4\n",
      "the +ve index of n is 5\n"
     ]
    }
   ],
   "source": [
    "name = input('enter the name : ')\n",
    "for i in range(len(name)):\n",
    "    print('the +ve index of {} is {}'.format(name[i],i))"
   ]
  },
  {
   "cell_type": "code",
   "execution_count": 20,
   "id": "3ca72db0",
   "metadata": {
    "scrolled": true
   },
   "outputs": [
    {
     "name": "stdout",
     "output_type": "stream",
     "text": [
      "enter the name :python\n",
      "the -ve index of p is -6 \n",
      "the -ve index of y is -5 \n",
      "the -ve index of t is -4 \n",
      "the -ve index of h is -3 \n",
      "the -ve index of o is -2 \n",
      "the -ve index of n is -1 \n"
     ]
    }
   ],
   "source": [
    "name = input('enter the name :')\n",
    "for i in range(-len(name),0):\n",
    "    print('the -ve index of {} is {} '.format(name[i],i))"
   ]
  },
  {
   "cell_type": "code",
   "execution_count": 26,
   "id": "d1ae48e5",
   "metadata": {},
   "outputs": [
    {
     "name": "stdout",
     "output_type": "stream",
     "text": [
      "enter the name :python\n",
      "the +ve index of p is 0 & -ve index is -6 \n",
      "the +ve index of y is 1 & -ve index is -5 \n",
      "the +ve index of t is 2 & -ve index is -4 \n",
      "the +ve index of h is 3 & -ve index is -3 \n",
      "the +ve index of o is 4 & -ve index is -2 \n",
      "the +ve index of n is 5 & -ve index is -1 \n"
     ]
    }
   ],
   "source": [
    "name = input('enter the name :')\n",
    "for i in range(len(name)):\n",
    "    print('the +ve index of {} is {} & -ve index is {} '.format(name[i],i,i-len(name)))"
   ]
  },
  {
   "cell_type": "code",
   "execution_count": 21,
   "id": "895cbfe3",
   "metadata": {
    "scrolled": true
   },
   "outputs": [
    {
     "name": "stdout",
     "output_type": "stream",
     "text": [
      "enter the name :python\n",
      "the index of p is 0\n",
      "the index of y is 1\n",
      "the index of t is 2\n",
      "the index of h is 3\n",
      "the index of o is 4\n",
      "the index of n is 5\n"
     ]
    }
   ],
   "source": [
    "name2 = input('enter the name :')\n",
    "for i in range(len(name2)) :\n",
    "    print('the index of {} is {}'.format(name2[i],i))"
   ]
  },
  {
   "cell_type": "code",
   "execution_count": 29,
   "id": "3973ca92",
   "metadata": {},
   "outputs": [
    {
     "name": "stdout",
     "output_type": "stream",
     "text": [
      "enter the name :python\n",
      "the index of p is 0 \n",
      "the index of y is 1 \n",
      "the index of t is 2 \n",
      "the index of h is 3 \n",
      "the index of o is 4 \n",
      "the index of n is 5 \n"
     ]
    }
   ],
   "source": [
    "i = 0\n",
    "name3 = input('enter the name :')\n",
    "while i<len(name3) :\n",
    "    print('the index of {} is {} '.format(name3[i],i))\n",
    "    i = i + 1"
   ]
  },
  {
   "cell_type": "code",
   "execution_count": 49,
   "id": "a620c67d",
   "metadata": {},
   "outputs": [
    {
     "name": "stdout",
     "output_type": "stream",
     "text": [
      "-6\n",
      "-5\n",
      "-4\n",
      "-3\n",
      "-2\n",
      "-1\n"
     ]
    }
   ],
   "source": [
    "name6 = 'python'\n",
    "for i in range(-len(name6),0):\n",
    "    print(i)"
   ]
  },
  {
   "cell_type": "code",
   "execution_count": 50,
   "id": "c049af1c",
   "metadata": {},
   "outputs": [
    {
     "name": "stdout",
     "output_type": "stream",
     "text": [
      "-6\n",
      "-5\n",
      "-4\n",
      "-3\n",
      "-2\n",
      "-1\n"
     ]
    }
   ],
   "source": [
    "name7 = 'python'\n",
    "for i in range(len(name7)) :\n",
    "    print(i-len(name7))"
   ]
  },
  {
   "cell_type": "code",
   "execution_count": 80,
   "id": "bc427fd6",
   "metadata": {},
   "outputs": [
    {
     "name": "stdout",
     "output_type": "stream",
     "text": [
      "the index p is -6 \n",
      "the index y is -5 \n",
      "the index t is -4 \n",
      "the index h is -3 \n",
      "the index o is -2 \n",
      "the index n is -1 \n"
     ]
    }
   ],
   "source": [
    "i = 0\n",
    "name8 = 'python'\n",
    "while i<len(name8):\n",
    "    print('the index {} is {} '.format(name8[i],i-len(name8)))\n",
    "    i = i + 1"
   ]
  },
  {
   "cell_type": "code",
   "execution_count": 95,
   "id": "f4f7d702",
   "metadata": {},
   "outputs": [],
   "source": [
    "word = 'python'\n",
    "for i in range(len(word)-len(word),-1):\n",
    "    print('the positive index is :{} and the negative index is {} for {} '.format(word,word,i))"
   ]
  },
  {
   "cell_type": "code",
   "execution_count": 103,
   "id": "0478d740",
   "metadata": {},
   "outputs": [
    {
     "name": "stdout",
     "output_type": "stream",
     "text": [
      "0 p -6\n",
      "1 y -5\n",
      "2 t -4\n",
      "3 h -3\n",
      "4 o -2\n",
      "5 n -1\n"
     ]
    }
   ],
   "source": [
    "names = 'python'\n",
    "for i in range(6):\n",
    "    print(i,names[i],i-6)"
   ]
  },
  {
   "cell_type": "code",
   "execution_count": 37,
   "id": "da2bf147",
   "metadata": {},
   "outputs": [
    {
     "name": "stdout",
     "output_type": "stream",
     "text": [
      "0\n"
     ]
    }
   ],
   "source": [
    "sent1 = 'hey hey hey hai yes'\n",
    "count = 0\n",
    "for i in sent1:\n",
    "    if 'hey' in i:\n",
    "        count = count + 1\n",
    "print(count)        "
   ]
  },
  {
   "cell_type": "code",
   "execution_count": 44,
   "id": "8760973a",
   "metadata": {},
   "outputs": [
    {
     "name": "stdout",
     "output_type": "stream",
     "text": [
      "0\n"
     ]
    }
   ],
   "source": [
    "sent2 = 'hey hey hey hai'\n",
    "count = 0\n",
    "for i in range(len(sent2)):\n",
    "    if sent[i] == 'hai':\n",
    "        count = count + 1\n",
    "print(count) "
   ]
  },
  {
   "cell_type": "code",
   "execution_count": 36,
   "id": "c77c1789",
   "metadata": {},
   "outputs": [
    {
     "name": "stdout",
     "output_type": "stream",
     "text": [
      "hai\n",
      "hai\n",
      "2\n",
      "\n"
     ]
    }
   ],
   "source": [
    "sent = 'hai how are you'\n",
    "count = 0\n",
    "for i in range(len(sent)) :\n",
    "    if sent[i] == 'a' :\n",
    "        print('hai')    \n",
    "        count = count + 1\n",
    "print(count)\n",
    "print()\n"
   ]
  },
  {
   "cell_type": "code",
   "execution_count": 127,
   "id": "cacd2841",
   "metadata": {},
   "outputs": [
    {
     "name": "stdout",
     "output_type": "stream",
     "text": [
      "2\n"
     ]
    }
   ],
   "source": [
    "sentence = 'hai how are you'\n",
    "count = 0\n",
    "for i in range(len(sentence)) :\n",
    "    if sentence[i] == 'a' :\n",
    "        count=count + 1 \n",
    "print(count)        "
   ]
  },
  {
   "cell_type": "code",
   "execution_count": 133,
   "id": "5b0d5610",
   "metadata": {},
   "outputs": [
    {
     "name": "stdout",
     "output_type": "stream",
     "text": [
      "7\n"
     ]
    }
   ],
   "source": [
    "sentence = 'hai how are you'\n",
    "count = 0\n",
    "for i in range(len(sentence)) :\n",
    "    if sentence[i] in'aeiou':\n",
    "        count=count + 1 \n",
    "print(count)        "
   ]
  },
  {
   "cell_type": "code",
   "execution_count": 142,
   "id": "b202b13b",
   "metadata": {},
   "outputs": [
    {
     "name": "stdout",
     "output_type": "stream",
     "text": [
      "\n"
     ]
    }
   ],
   "source": [
    "sentence = 'hai how are you'\n",
    "count = 0\n",
    "string1 = ''\n",
    "for i in range(len(sentence)) :\n",
    "    if sentence[i] in 'aeiou' :\n",
    "        if 'aeiou'in sentence[i]:\n",
    "            string1 = sentenc\n",
    "            \n",
    "print(string1)        "
   ]
  },
  {
   "cell_type": "code",
   "execution_count": 46,
   "id": "24c12759",
   "metadata": {},
   "outputs": [
    {
     "name": "stdout",
     "output_type": "stream",
     "text": [
      "0\n"
     ]
    }
   ],
   "source": [
    "string = 'hai hai how are you'\n",
    "count = 0\n",
    "string1 = string.split()\n",
    "for i in string1:\n",
    "    if 'aeiou' in i:\n",
    "        count = count + 1\n",
    "print(count)"
   ]
  },
  {
   "cell_type": "code",
   "execution_count": 51,
   "id": "f77ea30d",
   "metadata": {},
   "outputs": [
    {
     "name": "stdout",
     "output_type": "stream",
     "text": [
      "3\n"
     ]
    }
   ],
   "source": [
    "sent = 'I am sufiyan.They know me as qutubuddin'\n",
    "count = 0\n",
    "sent1 = sent.split()\n",
    "for i in sent1:\n",
    "    if 'm' in i:\n",
    "        count = count + 1\n",
    "print(count)\n",
    "        "
   ]
  },
  {
   "cell_type": "code",
   "execution_count": 54,
   "id": "5fc19284",
   "metadata": {},
   "outputs": [
    {
     "name": "stdout",
     "output_type": "stream",
     "text": [
      "0\n"
     ]
    }
   ],
   "source": [
    "name = 'i am sufiyan. yeh its me.what do you know about me.I am an open book for those who know mw.For stranger its like they are seeing an dark sky without light'\n",
    "count = 0\n",
    "name1 = name.split()\n",
    "for i in name1:\n",
    "    if 'e' in i:\n",
    "        count = count + 1\n",
    "print(count)        "
   ]
  },
  {
   "cell_type": "code",
   "execution_count": null,
   "id": "5e1a172e",
   "metadata": {},
   "outputs": [],
   "source": []
  }
 ],
 "metadata": {
  "kernelspec": {
   "display_name": "Python 3 (ipykernel)",
   "language": "python",
   "name": "python3"
  },
  "language_info": {
   "codemirror_mode": {
    "name": "ipython",
    "version": 3
   },
   "file_extension": ".py",
   "mimetype": "text/x-python",
   "name": "python",
   "nbconvert_exporter": "python",
   "pygments_lexer": "ipython3",
   "version": "3.11.5"
  }
 },
 "nbformat": 4,
 "nbformat_minor": 5
}
