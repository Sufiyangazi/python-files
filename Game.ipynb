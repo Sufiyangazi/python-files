{
 "cells": [
  {
   "cell_type": "code",
   "execution_count": 1,
   "id": "ab6a60f8",
   "metadata": {},
   "outputs": [
    {
     "name": "stdout",
     "output_type": "stream",
     "text": [
      "You dont have enough money to play.Take money from the e-wallet\n",
      "Enter the amount you want to withdraw from the e-wallet :200\n",
      "The current balance in your account is : 400 rs\n",
      "The current amount in your e-wallet is : 4800 rs\n",
      "you required : 600 rs\n",
      "You dont have enough money to play.Take money from the e-wallet\n",
      "Enter the amount you want to withdraw from the e-wallet :367\n",
      "The current balance in your account is : 767 rs\n",
      "The current amount in your e-wallet is : 4433 rs\n",
      "you required : 233 rs\n",
      "You dont have enough money to play.Take money from the e-wallet\n",
      "Enter the amount you want to withdraw from the e-wallet :131\n",
      "The current balance in your account is : 898 rs\n",
      "The current amount in your e-wallet is : 4302 rs\n",
      "you required : 102 rs\n",
      "You dont have enough money to play.Take money from the e-wallet\n",
      "Enter the amount you want to withdraw from the e-wallet :102\n",
      "The current balance in your account is : 1000 rs\n",
      "The current amount in your e-wallet is : 4200 rs\n",
      "you required : 0 rs\n",
      "\"now you are ready to play the game\"\n",
      "The time taken =  19.105679512023926\n"
     ]
    }
   ],
   "source": [
    "import time\n",
    "start = time.time()\n",
    "def Game() :\n",
    "    try :\n",
    "        i = 0\n",
    "        initial_account_balance = 200\n",
    "        e_wallet = 5000\n",
    "        start = 1000\n",
    "        while True :\n",
    "            if initial_account_balance>=start :\n",
    "                print('\"now you are ready to play the game\"')\n",
    "                break\n",
    "            else :                \n",
    "                print('You dont have enough money to play','Take money from the e-wallet',sep = '.')\n",
    "                withdraw = eval(input('Enter the amount you want to withdraw from the e-wallet :'))\n",
    "                initial_account_balance = initial_account_balance + withdraw\n",
    "                print('The current balance in your account is :',initial_account_balance,'rs')\n",
    "                e_wallet = e_wallet -withdraw\n",
    "                print('The current amount in your e-wallet is :',e_wallet,'rs')\n",
    "                print('you required :',start-initial_account_balance,'rs')\n",
    "    except Exception as e :\n",
    "        print(e)\n",
    "Game()        \n",
    "end = time.time()\n",
    "print('The time taken = ',end-start)"
   ]
  },
  {
   "cell_type": "code",
   "execution_count": null,
   "id": "c3903a3f",
   "metadata": {},
   "outputs": [],
   "source": []
  }
 ],
 "metadata": {
  "kernelspec": {
   "display_name": "Python 3 (ipykernel)",
   "language": "python",
   "name": "python3"
  },
  "language_info": {
   "codemirror_mode": {
    "name": "ipython",
    "version": 3
   },
   "file_extension": ".py",
   "mimetype": "text/x-python",
   "name": "python",
   "nbconvert_exporter": "python",
   "pygments_lexer": "ipython3",
   "version": "3.11.5"
  }
 },
 "nbformat": 4,
 "nbformat_minor": 5
}
