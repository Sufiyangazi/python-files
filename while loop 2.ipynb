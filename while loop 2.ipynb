{
 "cells": [
  {
   "cell_type": "code",
   "execution_count": 1,
   "id": "fb4d5de5",
   "metadata": {},
   "outputs": [
    {
     "name": "stdout",
     "output_type": "stream",
     "text": [
      "0 1 2 3 4 5 "
     ]
    }
   ],
   "source": [
    "i = 0\n",
    "while (i<=5) :\n",
    "    print(i,end=' ')\n",
    "    i=i+1"
   ]
  },
  {
   "cell_type": "code",
   "execution_count": 2,
   "id": "42139d0f",
   "metadata": {},
   "outputs": [
    {
     "name": "stdout",
     "output_type": "stream",
     "text": [
      "-10 -9 -8 -7 -6 -5 -4 -3 -2 -1 0 "
     ]
    }
   ],
   "source": [
    "i = -10\n",
    "while i<=0 :\n",
    "    print(i,end = ' ')\n",
    "    i = i + 1"
   ]
  },
  {
   "cell_type": "code",
   "execution_count": 6,
   "id": "b0b5f05e",
   "metadata": {},
   "outputs": [
    {
     "name": "stdout",
     "output_type": "stream",
     "text": [
      "0 1 2 3 4 5 "
     ]
    }
   ],
   "source": [
    "ok = 0\n",
    "while (ok<=5) :\n",
    "    print(ok,end = ' ')\n",
    "    ok = ok + 1"
   ]
  },
  {
   "cell_type": "code",
   "execution_count": 16,
   "id": "16251ce3",
   "metadata": {},
   "outputs": [
    {
     "name": "stdout",
     "output_type": "stream",
     "text": [
      "Enter the number :9\n",
      "9 10 11 12 13 14 15 16 17 18 19 20 21 22 23 24 25 you are in infinte loop\n"
     ]
    }
   ],
   "source": [
    "number = eval(input('Enter the number :'))\n",
    "while (number<=25) :\n",
    "    print(number,end = ' ')\n",
    "    number = number + 1\n",
    "else :\n",
    "        print('you are in infinte loop')"
   ]
  },
  {
   "cell_type": "code",
   "execution_count": 17,
   "id": "8f78cb79",
   "metadata": {},
   "outputs": [
    {
     "name": "stdout",
     "output_type": "stream",
     "text": [
      "5 6 7 8 9 10 11 12 13 14 15 16 17 18 19 20 21 22 23 24 25 you are in infinte loop\n"
     ]
    }
   ],
   "source": [
    "number = 5\n",
    "while (number<=25) :\n",
    "    print(number,end = ' ')\n",
    "    number = number + 1\n",
    "else :\n",
    "        print('you are in infinte loop')"
   ]
  },
  {
   "cell_type": "code",
   "execution_count": 14,
   "id": "15da464d",
   "metadata": {},
   "outputs": [
    {
     "name": "stdout",
     "output_type": "stream",
     "text": [
      "5 6 7 8 9 10 11 12 13 14 15 16 17 18 19 20 21 22 23 24 25 "
     ]
    }
   ],
   "source": [
    "number = 5\n",
    "while (number<=25) :\n",
    "    print(number,end = ' ')\n",
    "    number = number + 1"
   ]
  },
  {
   "cell_type": "code",
   "execution_count": 8,
   "id": "58b8c57b",
   "metadata": {},
   "outputs": [
    {
     "name": "stdout",
     "output_type": "stream",
     "text": [
      "5 4 3 2 1 0 "
     ]
    }
   ],
   "source": [
    "i = 5\n",
    "while i>=0 :\n",
    "    print(i,end = ' ')\n",
    "    i = i - 1"
   ]
  },
  {
   "cell_type": "code",
   "execution_count": null,
   "id": "e5df2822",
   "metadata": {},
   "outputs": [],
   "source": [
    "Certainly! Here are some practice questions to help you work with for loops in Python:\n",
    "\n",
    "    \n",
    "\n",
    "    \n",
    "\n",
    "   \n",
    "\n",
    "    Using a for loop, print the multiplication table for a given number (e.g., 5).\n",
    "\n",
    "    Write a program that counts the number of vowels (a, e, i, o, u) in a given string using a for loop.\n",
    "\n",
    "    Write a Python program that finds the factorial of a given number using a for loop.\n",
    "\n",
    "    Create a for loop that iterates through a list of names and prints each name.\n",
    "\n",
    "    Write a program that calculates the sum of all the elements in a list using a for loop.\n",
    "\n",
    "    Use a for loop to find the largest number in a list of numbers.\n",
    "\n",
    "    Write a program to print a pattern of stars using nested for loops. For example, print a right-angled triangle of height 5.\n",
    "\n",
    "    Write a program that counts and prints the number of prime numbers between 1 and 50 using a for loop.\n",
    "\n",
    "    Create a for loop that iterates through a dictionary and prints both keys and values.\n",
    "\n",
    "    Write a program that finds the average of a list of numbers using a for loop.\n",
    "\n",
    "    Write a program to reverse a given string using a for loop.\n",
    "\n",
    "    Implement a for loop to generate the Fibonacci sequence up to a specified number of terms."
   ]
  },
  {
   "cell_type": "code",
   "execution_count": null,
   "id": "1cd38d0a",
   "metadata": {},
   "outputs": [],
   "source": [
    "#"
   ]
  },
  {
   "cell_type": "code",
   "execution_count": 44,
   "id": "e70a6f5c",
   "metadata": {},
   "outputs": [
    {
     "name": "stdout",
     "output_type": "stream",
     "text": [
      "Enter the vowels : AEIOU\n",
      "1 1\n",
      "2 1\n",
      "3 1\n",
      "4 1\n",
      "5 1\n"
     ]
    }
   ],
   "source": [
    "# Write a program that counts the number of vowels (a, e, i, o, u) in a given \n",
    "#string using a for loop.\n",
    "\n",
    "def count() :\n",
    "    try :\n",
    "        vowels = input('Enter the vowels : ')\n",
    "        count = 0\n",
    "        for i in vowels :\n",
    "            count= count+1\n",
    "            print(count,1)\n",
    "    except Exception as e :\n",
    "        print(e)\n",
    "        \n",
    "count()        "
   ]
  },
  {
   "cell_type": "code",
   "execution_count": null,
   "id": "6f81c9c0",
   "metadata": {},
   "outputs": [],
   "source": [
    "name  = input('Enter the name : ')\n",
    "count = 0\n",
    "for i in name:\n",
    "    count=count+1\n",
    "    print(count,1)\n",
    "    \n",
    "print(\"total count \",count)\n",
    "if count>=5 :\n",
    "    print('it is lengthy name')\n",
    "else :\n",
    "    print('It is small')"
   ]
  },
  {
   "cell_type": "code",
   "execution_count": null,
   "id": "be0fb661",
   "metadata": {},
   "outputs": [],
   "source": []
  },
  {
   "cell_type": "code",
   "execution_count": 10,
   "id": "cc1cfbae",
   "metadata": {},
   "outputs": [
    {
     "name": "stdout",
     "output_type": "stream",
     "text": [
      "0 1 2 3 4 5 6 7 8 9 10 "
     ]
    }
   ],
   "source": [
    "#Write a Python program to print all the numbers from 1 to 10 using a for loop.\n",
    "def first_numbers() :\n",
    "    try :\n",
    "        for i in range (0,11) :\n",
    "            print(i,end = ' ')\n",
    "    except Exeption as e  :\n",
    "        print(e)\n",
    "    \n",
    "first_numbers()    "
   ]
  },
  {
   "cell_type": "code",
   "execution_count": 13,
   "id": "6711cf03",
   "metadata": {},
   "outputs": [
    {
     "name": "stdout",
     "output_type": "stream",
     "text": [
      "0 1 2 3 4 5 6 7 8 9 10 "
     ]
    }
   ],
   "source": [
    "def first_numbers (num1,num2) :\n",
    "    try :\n",
    "        for i in range (num1,num2) :\n",
    "            print(i,end = ' ')\n",
    "    except Exeption as e :\n",
    "        print(e)\n",
    "first_numbers(0,11)        "
   ]
  },
  {
   "cell_type": "code",
   "execution_count": 15,
   "id": "07173693",
   "metadata": {
    "scrolled": true
   },
   "outputs": [
    {
     "name": "stdout",
     "output_type": "stream",
     "text": [
      "2 3 4 5 6 7 8 9 10 11 12 13 14 15 16 17 18 19 20 21 "
     ]
    }
   ],
   "source": [
    "def first_numbers (num1,num2=22) :\n",
    "    try :\n",
    "        for i in range (num1,num2) :\n",
    "            print(i,end = ' ')\n",
    "    except Exeption as e :\n",
    "        print(e)\n",
    "first_numbers(2)        "
   ]
  },
  {
   "cell_type": "code",
   "execution_count": 20,
   "id": "fb2bd31e",
   "metadata": {},
   "outputs": [
    {
     "name": "stdout",
     "output_type": "stream",
     "text": [
      "9 10 11 12 13 14 15 16 17 18 19 20 "
     ]
    }
   ],
   "source": [
    "def first_numers(num1,num2=21) :\n",
    "    try:\n",
    "        for i in range(num1,num2) :\n",
    "            print(i,end = ' ')\n",
    "    except Exception as e :\n",
    "        print(e)\n",
    "first_numers(9)        "
   ]
  },
  {
   "cell_type": "code",
   "execution_count": 1,
   "id": "1dda306f",
   "metadata": {},
   "outputs": [
    {
     "name": "stdout",
     "output_type": "stream",
     "text": [
      "\n",
      "2\n",
      "\n",
      "4\n",
      "\n",
      "6\n",
      "\n",
      "8\n",
      "\n",
      "10\n",
      "\n",
      "12\n",
      "\n",
      "14\n",
      "\n",
      "16\n",
      "\n",
      "18\n",
      "\n"
     ]
    }
   ],
   "source": [
    "#Create a for loop that prints even numbers from 1 to 20.\n",
    "\n",
    "def even_numbers() :\n",
    "    try :\n",
    "        for i in range (1,20) :\n",
    "            if i%2==0 :\n",
    "                print(i)\n",
    "            else :\n",
    "                print('')\n",
    "    except Eception as e :  \n",
    "        print(e)\n",
    "even_numbers()        "
   ]
  },
  {
   "cell_type": "code",
   "execution_count": 24,
   "id": "f800a46f",
   "metadata": {},
   "outputs": [
    {
     "name": "stdout",
     "output_type": "stream",
     "text": [
      "2\n",
      "4\n",
      "6\n",
      "8\n",
      "10\n",
      "12\n",
      "14\n",
      "16\n",
      "18\n"
     ]
    }
   ],
   "source": [
    "def even_numbers() :\n",
    "    try :\n",
    "        for i in range (1,20) :\n",
    "            if i%2==0 :\n",
    "                print(i)\n",
    "    except Eception as e :  \n",
    "        print(e)\n",
    "even_numbers() "
   ]
  },
  {
   "cell_type": "code",
   "execution_count": 26,
   "id": "ef9c0a6d",
   "metadata": {},
   "outputs": [
    {
     "name": "stdout",
     "output_type": "stream",
     "text": [
      "2 3 4 5 6 7 8 9 10 11 12 13 14 15 16 17 18 19 20 21 22 23 24 25 26 27 28 29 30 31 32 33 34 35 36 37 38 39 40 41 42 43 44 45 46 47 48 49 50 51 52 53 54 55 56 57 58 59 60 61 62 63 64 65 66 67 68 69 70 71 72 73 74 75 76 77 78 79 80 81 82 83 84 85 86 87 88 89 90 91 92 93 94 95 96 97 98 99 100 "
     ]
    }
   ],
   "source": [
    "#  Write a program that calculates the sum of all numbers from 1 to 100 using a for loop.\n",
    "def sum_of_numbers () :\n",
    "    try :\n",
    "        for i in range (1,100) :\n",
    "            total_sum = i +1\n",
    "            print(total_sum,end = ' ')\n",
    "    except Exeption as e :\n",
    "        print(e)\n",
    "        \n",
    "sum_of_numbers()        "
   ]
  },
  {
   "cell_type": "code",
   "execution_count": 2,
   "id": "e2650b40",
   "metadata": {},
   "outputs": [
    {
     "name": "stdout",
     "output_type": "stream",
     "text": [
      "enter the table : 99\n",
      "99 * 1 = 99\n",
      "99 * 2 = 198\n",
      "99 * 3 = 297\n",
      "99 * 4 = 396\n",
      "99 * 5 = 495\n",
      "99 * 6 = 594\n",
      "99 * 7 = 693\n",
      "99 * 8 = 792\n",
      "99 * 9 = 891\n",
      "99 * 10 = 990\n"
     ]
    }
   ],
   "source": [
    "def table():\n",
    "    try:\n",
    "        num = eval(input('enter the table : '))\n",
    "        for i in range(1,11):\n",
    "            print('{} * {} = {}'.format(num,i,num*i))\n",
    "    except Exception as e:\n",
    "        print(e)\n",
    "table()        "
   ]
  },
  {
   "cell_type": "code",
   "execution_count": 42,
   "id": "cedf99e1",
   "metadata": {},
   "outputs": [
    {
     "name": "stdout",
     "output_type": "stream",
     "text": [
      "Enter the number : 5\n",
      "5 * 1 = 5 \n",
      "5 * 2 = 10 \n",
      "5 * 3 = 15 \n",
      "5 * 4 = 20 \n",
      "5 * 5 = 25 \n",
      "5 * 6 = 30 \n",
      "5 * 7 = 35 \n",
      "5 * 8 = 40 \n",
      "5 * 9 = 45 \n",
      "5 * 10 = 50 \n"
     ]
    }
   ],
   "source": [
    "#Using a for loop, print the multiplication table for a given number (e.g., 5).\n",
    "number = eval(input('Enter the number : '))\n",
    "def five_table() :\n",
    "    try :\n",
    "        for i in range (1,11) :\n",
    "            table = number*i\n",
    "            print('{} * {} = {} '.format(number,i,table))\n",
    "    except Exeption as e :\n",
    "        print(e)\n",
    "        \n",
    "five_table()        "
   ]
  },
  {
   "cell_type": "markdown",
   "id": "5805422c",
   "metadata": {},
   "source": [
    "- While Loop"
   ]
  },
  {
   "cell_type": "code",
   "execution_count": 3,
   "id": "ea19c90d",
   "metadata": {},
   "outputs": [
    {
     "name": "stdout",
     "output_type": "stream",
     "text": [
      "0 1 2 3 4 5 "
     ]
    }
   ],
   "source": [
    "def reverse_numbers() :\n",
    "    try :\n",
    "        i = 0\n",
    "        while i<=5 :\n",
    "            print(i,end = \" \")\n",
    "            i = i+1\n",
    "    except exeption as e :\n",
    "        print(e)\n",
    "reverse_numbers()        "
   ]
  },
  {
   "cell_type": "code",
   "execution_count": 5,
   "id": "a55c5748",
   "metadata": {},
   "outputs": [
    {
     "name": "stdout",
     "output_type": "stream",
     "text": [
      "0 1 2 3 4 5 6 7 8 9 "
     ]
    }
   ],
   "source": [
    "i = 0\n",
    "while i>=0 :\n",
    "    print(i,end = ' ')\n",
    "    i = i + 1\n",
    "    if i == 10 :\n",
    "        break"
   ]
  },
  {
   "cell_type": "code",
   "execution_count": 6,
   "id": "eaa323eb",
   "metadata": {},
   "outputs": [
    {
     "name": "stdout",
     "output_type": "stream",
     "text": [
      "0 1 2 "
     ]
    }
   ],
   "source": [
    "i = 0\n",
    "while i>=0 :\n",
    "    print(i,end = ' ')\n",
    "    i = i + 1\n",
    "    if i == 3 :\n",
    "        break"
   ]
  },
  {
   "cell_type": "code",
   "execution_count": 8,
   "id": "1453f502",
   "metadata": {},
   "outputs": [
    {
     "name": "stdout",
     "output_type": "stream",
     "text": [
      "0\n",
      "1\n",
      "2\n",
      "3\n"
     ]
    }
   ],
   "source": [
    "i = 0\n",
    "while i>=0 :\n",
    "    print(i)\n",
    "    if i == 3 :\n",
    "        break\n",
    "    i = i + 1"
   ]
  },
  {
   "cell_type": "code",
   "execution_count": 11,
   "id": "5ad257eb",
   "metadata": {},
   "outputs": [
    {
     "name": "stdout",
     "output_type": "stream",
     "text": [
      "0 1 2 3 "
     ]
    }
   ],
   "source": [
    "i = 0\n",
    "while i>=0 :\n",
    "    print(i,end = ' ')\n",
    "    if i == 3 :\n",
    "        break\n",
    "    i +=  1"
   ]
  },
  {
   "cell_type": "code",
   "execution_count": 24,
   "id": "658a9960",
   "metadata": {},
   "outputs": [
    {
     "name": "stdout",
     "output_type": "stream",
     "text": [
      "0 1 2 3 4 5 6 7 8 9 10 11 12 13 14 15 16 17 18 19 if we not stop the loop here the loop will be infinte\n"
     ]
    }
   ],
   "source": [
    "i = 0\n",
    "while i<=20 :\n",
    "    print(i,end = ' ')\n",
    "    i = i + 1\n",
    "    if i==20 :\n",
    "        break\n",
    "print('if we not stop the loop here the loop will be infinte')"
   ]
  },
  {
   "cell_type": "code",
   "execution_count": null,
   "id": "e337351b",
   "metadata": {},
   "outputs": [],
   "source": []
  },
  {
   "cell_type": "code",
   "execution_count": null,
   "id": "fe3cf6f0",
   "metadata": {},
   "outputs": [],
   "source": [
    "i = 0\n",
    "while True :\n",
    "    print(i,end = ' ')\n",
    "    "
   ]
  },
  {
   "cell_type": "code",
   "execution_count": 27,
   "id": "83d2fdb0",
   "metadata": {},
   "outputs": [
    {
     "name": "stdout",
     "output_type": "stream",
     "text": [
      "Its is an even number\n",
      "It is an odd number\n",
      "Its is an even number\n",
      "It is an odd number\n",
      "Its is an even number\n",
      "It is an odd number\n",
      "Its is an even number\n",
      "It is an odd number\n",
      "Its is an even number\n",
      "It is an odd number\n"
     ]
    }
   ],
   "source": [
    "import random\n",
    "num = random.randint(1,100)\n",
    "\n",
    "def even_odd() :\n",
    "    try :\n",
    "        for num in range (10):\n",
    "            if num%2==0 :\n",
    "                print('Its is an even number')\n",
    "            else :\n",
    "                print('It is an odd number')\n",
    "    except Execption as e :\n",
    "        print(e)\n",
    "        \n",
    "even_odd()        "
   ]
  },
  {
   "cell_type": "code",
   "execution_count": 39,
   "id": "5299daba",
   "metadata": {},
   "outputs": [
    {
     "name": "stdout",
     "output_type": "stream",
     "text": [
      "Its is an odd number\n",
      "Its is an even number\n",
      "Its is an even number\n",
      "Its is an odd number\n",
      "Its is an even number\n",
      "Its is an odd number\n",
      "Its is an odd number\n",
      "Its is an even number\n",
      "Its is an odd number\n",
      "Its is an even number\n"
     ]
    }
   ],
   "source": [
    "i = 0\n",
    "while True :\n",
    "    num = random.randint(1,100)\n",
    "    i = i + 1\n",
    "    if num%2 == 0 :\n",
    "        print('Its is an even number')\n",
    "    else :\n",
    "        print('Its is an odd number')\n",
    "    if i == 10 :\n",
    "        break"
   ]
  },
  {
   "cell_type": "code",
   "execution_count": 47,
   "id": "c912e2cf",
   "metadata": {},
   "outputs": [
    {
     "name": "stdout",
     "output_type": "stream",
     "text": [
      "0\n",
      "Enter the number :5\n",
      "25\n",
      "1\n",
      "Enter the number :5\n",
      "25\n",
      "2\n",
      "Enter the number :5\n",
      "25\n",
      "the time taken is sec : 0.963707447052002\n"
     ]
    }
   ],
   "source": [
    "import time\n",
    "start = time.time()\n",
    "i = 0\n",
    "while i<3 :\n",
    "    print(i)\n",
    "    num = eval(input('Enter the number :'))\n",
    "    sq = num**2\n",
    "    print(sq)\n",
    "    i = i + 1\n",
    "    \n",
    "    \n",
    "end = time.time() \n",
    "print(\"the time taken is sec :\",end-start)"
   ]
  },
  {
   "cell_type": "code",
   "execution_count": 41,
   "id": "bb004f5b",
   "metadata": {},
   "outputs": [
    {
     "data": {
      "text/plain": [
       "-19800"
      ]
     },
     "execution_count": 41,
     "metadata": {},
     "output_type": "execute_result"
    }
   ],
   "source": [
    "time.timezone"
   ]
  },
  {
   "cell_type": "code",
   "execution_count": 4,
   "id": "f5e87992",
   "metadata": {},
   "outputs": [
    {
     "data": {
      "text/plain": [
       "-19800"
      ]
     },
     "execution_count": 4,
     "metadata": {},
     "output_type": "execute_result"
    }
   ],
   "source": [
    "import time\n",
    "time.timezone"
   ]
  },
  {
   "cell_type": "code",
   "execution_count": 8,
   "id": "bb3238ea",
   "metadata": {},
   "outputs": [
    {
     "name": "stdout",
     "output_type": "stream",
     "text": [
      "alskum\n",
      "khryt\n",
      "hope you have a great day\n",
      "I Love You\n",
      "from Sufiyan\n"
     ]
    }
   ],
   "source": [
    "print('alskum')\n",
    "time.sleep(2)\n",
    "print('khryt')\n",
    "time.sleep(2)\n",
    "print('hope you have a great day')\n",
    "time.sleep(3)\n",
    "print('I Love You')\n",
    "time.sleep(3)\n",
    "print('from Sufiyan')"
   ]
  },
  {
   "cell_type": "code",
   "execution_count": 48,
   "id": "49532aa6",
   "metadata": {},
   "outputs": [
    {
     "name": "stdout",
     "output_type": "stream",
     "text": [
      "heloo\n",
      "its me\n",
      "Enter the number :6\n"
     ]
    }
   ],
   "source": [
    "print('heloo')\n",
    "time.sleep(2)\n",
    "print('its me')\n",
    "time.sleep(3)\n",
    "num=eval(input('Enter the number :'))"
   ]
  },
  {
   "cell_type": "code",
   "execution_count": 70,
   "id": "3cab041e",
   "metadata": {},
   "outputs": [
    {
     "name": "stdout",
     "output_type": "stream",
     "text": [
      "55 "
     ]
    }
   ],
   "source": [
    "def sum_numbers() :\n",
    "    try :\n",
    "        i = 0\n",
    "        sum1 = 0\n",
    "        for i in range (11) :\n",
    "            sum1 = sum1 + i\n",
    "        print(sum1,end = \" \")\n",
    "    except Exeption as e :\n",
    "        print(e)\n",
    "sum_numbers()        \n",
    "        "
   ]
  },
  {
   "cell_type": "code",
   "execution_count": 12,
   "id": "5fe9bee5",
   "metadata": {},
   "outputs": [
    {
     "name": "stdout",
     "output_type": "stream",
     "text": [
      "55\n"
     ]
    }
   ],
   "source": [
    "i = 0\n",
    "sum1 = 0\n",
    "for i in range(11):\n",
    "    sum1 = sum1 + i\n",
    "print(sum1)"
   ]
  },
  {
   "cell_type": "code",
   "execution_count": 65,
   "id": "1cbcae04",
   "metadata": {},
   "outputs": [
    {
     "name": "stdout",
     "output_type": "stream",
     "text": [
      "55\n"
     ]
    }
   ],
   "source": [
    "i = 1\n",
    "sum1 = 0\n",
    "while i<=10 :\n",
    "    sum1 = sum1 + i\n",
    "    i = i + 1\n",
    "print(sum1)    "
   ]
  },
  {
   "cell_type": "code",
   "execution_count": 18,
   "id": "8850eef1",
   "metadata": {},
   "outputs": [
    {
     "name": "stdout",
     "output_type": "stream",
     "text": [
      "55\n"
     ]
    }
   ],
   "source": [
    "i = 0\n",
    "sum1 = 0\n",
    "while True:\n",
    "    sum1 = sum1 + i\n",
    "    i = i  + 1    \n",
    "    if i == 11:\n",
    "        break\n",
    "print(sum1)        "
   ]
  },
  {
   "cell_type": "code",
   "execution_count": null,
   "id": "7ac6b60d",
   "metadata": {},
   "outputs": [],
   "source": []
  }
 ],
 "metadata": {
  "kernelspec": {
   "display_name": "Python 3 (ipykernel)",
   "language": "python",
   "name": "python3"
  },
  "language_info": {
   "codemirror_mode": {
    "name": "ipython",
    "version": 3
   },
   "file_extension": ".py",
   "mimetype": "text/x-python",
   "name": "python",
   "nbconvert_exporter": "python",
   "pygments_lexer": "ipython3",
   "version": "3.11.5"
  }
 },
 "nbformat": 4,
 "nbformat_minor": 5
}
