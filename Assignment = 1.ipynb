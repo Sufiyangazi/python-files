{
 "cells": [
  {
   "cell_type": "code",
   "execution_count": 20,
   "id": "64877758",
   "metadata": {},
   "outputs": [
    {
     "name": "stdout",
     "output_type": "stream",
     "text": [
      "enter the distance in KM : 2\n",
      "enter the fare in RS : 10\n",
      "for 2KMs the fare is 10rs.\n"
     ]
    }
   ],
   "source": [
    "distance = eval(input('enter the distance in KM : '))\n",
    "fare = eval(input('enter the fare in RS : '))\n",
    "total_amount = distance*fare\n",
    "print('for {}KMs the fare is {}rs'.format(distance,fare,total_amount),'.',sep='')"
   ]
  },
  {
   "cell_type": "code",
   "execution_count": 19,
   "id": "7d18fcaa",
   "metadata": {},
   "outputs": [
    {
     "name": "stdout",
     "output_type": "stream",
     "text": [
      "enter the distance in KM : 2\n",
      "enter the fare in RS : 10\n",
      "for 2KMs the fare is 10rs.\n"
     ]
    }
   ],
   "source": [
    "distance = eval(input('enter the distance in KM : '))\n",
    "fare = eval(input('enter the fare in RS : '))\n",
    "total_amount = distance*fare\n",
    "print('for {}KMs the fare is {}rs.'.format(distance,fare,total_amount))"
   ]
  },
  {
   "cell_type": "code",
   "execution_count": 23,
   "id": "d06c37a2",
   "metadata": {},
   "outputs": [
    {
     "name": "stdout",
     "output_type": "stream",
     "text": [
      "Ramesh and 35\n"
     ]
    }
   ],
   "source": [
    "print('Ramesh','35',sep=' and ')"
   ]
  },
  {
   "cell_type": "code",
   "execution_count": null,
   "id": "9cdeefae",
   "metadata": {},
   "outputs": [],
   "source": [
    "#"
   ]
  }
 ],
 "metadata": {
  "kernelspec": {
   "display_name": "Python 3 (ipykernel)",
   "language": "python",
   "name": "python3"
  },
  "language_info": {
   "codemirror_mode": {
    "name": "ipython",
    "version": 3
   },
   "file_extension": ".py",
   "mimetype": "text/x-python",
   "name": "python",
   "nbconvert_exporter": "python",
   "pygments_lexer": "ipython3",
   "version": "3.11.5"
  }
 },
 "nbformat": 4,
 "nbformat_minor": 5
}
