{
 "cells": [
  {
   "cell_type": "code",
   "execution_count": 6,
   "id": "00380bc7",
   "metadata": {},
   "outputs": [],
   "source": [
    "#Normal code to find Greatest of three numbers"
   ]
  },
  {
   "cell_type": "code",
   "execution_count": 8,
   "id": "b38bfd0c",
   "metadata": {},
   "outputs": [
    {
     "name": "stdout",
     "output_type": "stream",
     "text": [
      "Enter the first number :100\n",
      "Enter the second number :300\n",
      "Enter the third number :200\n",
      "The num 2 is the gratest of above three numbers\n"
     ]
    }
   ],
   "source": [
    "    try :\n",
    "        num1 = eval(input('Enter the first number :'))\n",
    "        num2 = eval(input('Enter the second number :'))\n",
    "        num3 = eval(input('Enter the third number :'))\n",
    "        if num1>num2 :\n",
    "            print('The num 1 is the gratest of above three numbers')\n",
    "        elif num2>num3 :\n",
    "            print('The num 2 is the gratest of above three numbers')\n",
    "        else :\n",
    "            print('The num 3 is the gratest of above three numbers')\n",
    "    except Exaption as e :\n",
    "        print(e)"
   ]
  },
  {
   "cell_type": "code",
   "execution_count": null,
   "id": "345a8f91",
   "metadata": {},
   "outputs": [],
   "source": [
    "#User defined functions without Arguments to find graeatest of three numbers"
   ]
  },
  {
   "cell_type": "code",
   "execution_count": 9,
   "id": "849227c5",
   "metadata": {},
   "outputs": [],
   "source": [
    "def finding_greatest_number() :\n",
    "    try :\n",
    "        num1 = eval(input('Enter the first number :'))\n",
    "        num2 = eval(input('Enter the second number :'))\n",
    "        num3 = eval(input('Enter the third number :'))\n",
    "        if num1>num2 :\n",
    "            print('The num 1 is the gratest of above three numbers')\n",
    "        elif num2>num3 :\n",
    "            print('The num 2 is the gratest of above three numbers')\n",
    "        else :\n",
    "            print('The num 3 is the gratest of above three numbers')\n",
    "    except Exaption as e :\n",
    "        print(e)"
   ]
  },
  {
   "cell_type": "code",
   "execution_count": 10,
   "id": "6ad12938",
   "metadata": {},
   "outputs": [
    {
     "name": "stdout",
     "output_type": "stream",
     "text": [
      "Enter the first number :150\n",
      "Enter the second number :28\n",
      "Enter the third number :47\n",
      "The num 1 is the gratest of above three numbers\n"
     ]
    }
   ],
   "source": [
    "finding_greatest_number()"
   ]
  },
  {
   "cell_type": "code",
   "execution_count": 11,
   "id": "94325b11",
   "metadata": {},
   "outputs": [],
   "source": [
    "#user defined functions with Arguments to find greatest if three numbers"
   ]
  },
  {
   "cell_type": "code",
   "execution_count": 13,
   "id": "81c4fa0b",
   "metadata": {},
   "outputs": [
    {
     "name": "stdout",
     "output_type": "stream",
     "text": [
      "The Greatest of above three is number 2\n"
     ]
    }
   ],
   "source": [
    "def finding_greatest_number(num1,num2,num3) :\n",
    "    try :\n",
    "        if num1>num2 :\n",
    "            print('The Greatest of above three is number 1 ')\n",
    "        elif num2>num3 :\n",
    "            print('The Greatest of above three is number 2')\n",
    "        else :\n",
    "            print('The Grestest of abovr three is number 3')\n",
    "    except Exaption as e :\n",
    "        print(e)\n",
    "finding_greatest_number(98,1938798,317499)        "
   ]
  },
  {
   "cell_type": "code",
   "execution_count": 14,
   "id": "70acb452",
   "metadata": {},
   "outputs": [],
   "source": [
    "#User defined functions with defult arguments to find greatest of three numbers"
   ]
  },
  {
   "cell_type": "code",
   "execution_count": 19,
   "id": "5dc0062d",
   "metadata": {},
   "outputs": [
    {
     "name": "stdout",
     "output_type": "stream",
     "text": [
      "The num 3 is the gratest of theree numbers\n"
     ]
    }
   ],
   "source": [
    "def finding_greatest_number(num1,num3,num2=999) :\n",
    "    try :\n",
    "        if num1>num2 :\n",
    "            print('The num 1 is the greatest of three numbers')\n",
    "        elif num2>num3 :\n",
    "            print('The num 2 is the greatest of three numbers')\n",
    "        else :\n",
    "            print(\"The num 3 is the gratest of theree numbers\")\n",
    "    except exaption as e :\n",
    "        print(e)\n",
    "finding_greatest_number(998,3405)        "
   ]
  },
  {
   "cell_type": "code",
   "execution_count": 20,
   "id": "9f137608",
   "metadata": {},
   "outputs": [],
   "source": [
    "#User defined functions with local variables to find the greatest of three numbers"
   ]
  },
  {
   "cell_type": "code",
   "execution_count": 22,
   "id": "c6328c68",
   "metadata": {},
   "outputs": [
    {
     "name": "stdout",
     "output_type": "stream",
     "text": [
      "Enter the first number :132\n",
      "Enter the second number :232\n",
      "Enter the third number :234\n",
      "The num 3 is the gratest of above three numbers\n"
     ]
    }
   ],
   "source": [
    "def finding_greatest_number() :\n",
    "    try :\n",
    "        num1 = eval(input('Enter the first number :'))\n",
    "        num2 = eval(input('Enter the second number :'))\n",
    "        num3 = eval(input('Enter the third number :'))\n",
    "        if num1>num2 :\n",
    "            print('The num 1 is the gratest of above three numbers')\n",
    "        elif num2>num3 :\n",
    "            print('The num 2 is the gratest of above three numbers')\n",
    "        else :\n",
    "            print('The num 3 is the gratest of above three numbers')\n",
    "    except Exaption as e :\n",
    "        print(e)\n",
    "finding_greatest_number()        "
   ]
  },
  {
   "cell_type": "code",
   "execution_count": 23,
   "id": "dc352f97",
   "metadata": {},
   "outputs": [],
   "source": [
    "#User defined functions with Gloabal variables to find the greatest of three numbers"
   ]
  },
  {
   "cell_type": "code",
   "execution_count": 25,
   "id": "39ef64ab",
   "metadata": {},
   "outputs": [
    {
     "name": "stdout",
     "output_type": "stream",
     "text": [
      "Enter the first number :298\n",
      "Enter the second number :123\n",
      "Enter the third number :8998\n"
     ]
    }
   ],
   "source": [
    "num1 = eval(input('Enter the first number :'))\n",
    "num2 = eval(input('Enter the second number :'))\n",
    "num3 = eval(input('Enter the third number :'))\n",
    "def finding_greatest_number() :\n",
    "    try :\n",
    "        if num1>num2 :\n",
    "            print('The num 1 is the greatest of three numbers')\n",
    "        elif num2>num3 :\n",
    "            print('The num 2 is the greatest of three numbers')\n",
    "        else :\n",
    "            print('The num 3 is the greatest of three numbers')\n",
    "    except Exaption as e :\n",
    "        print(e)"
   ]
  },
  {
   "cell_type": "code",
   "execution_count": 26,
   "id": "db440563",
   "metadata": {},
   "outputs": [],
   "source": [
    "#User defined functions with return keyword"
   ]
  },
  {
   "cell_type": "code",
   "execution_count": 99,
   "id": "6bcfc72f",
   "metadata": {},
   "outputs": [],
   "source": [
    "def finding_greatest_number() :\n",
    "    try :\n",
    "        P = eval(input('Enter the first number :'))\n",
    "        Q = eval(input('Enter the second number :'))\n",
    "        R = eval(input('Enter the third number :'))\n",
    "        if P>Q :\n",
    "            print('The P is the greatest number of above three')\n",
    "            return(P)\n",
    "        elif Q>R :\n",
    "            print('The Q is the greatet number of above three')\n",
    "            return(Q)\n",
    "        else : \n",
    "            print('The R is the greatest number of above three')\n",
    "            return(R)\n",
    "    except Exaption as e :\n",
    "        print(e)\n",
    "    "
   ]
  },
  {
   "cell_type": "code",
   "execution_count": 100,
   "id": "80044a1e",
   "metadata": {},
   "outputs": [
    {
     "name": "stdout",
     "output_type": "stream",
     "text": [
      "Enter the first number :346\n",
      "Enter the second number :467\n",
      "Enter the third number :7678\n",
      "The R is the greatest number of above three\n"
     ]
    }
   ],
   "source": [
    "output = finding_greatest_number()\n"
   ]
  },
  {
   "cell_type": "code",
   "execution_count": 101,
   "id": "5b392bfb",
   "metadata": {},
   "outputs": [
    {
     "name": "stdout",
     "output_type": "stream",
     "text": [
      "7678\n"
     ]
    }
   ],
   "source": [
    "print(output)"
   ]
  },
  {
   "cell_type": "code",
   "execution_count": 39,
   "id": "db7b6921",
   "metadata": {},
   "outputs": [
    {
     "name": "stdout",
     "output_type": "stream",
     "text": [
      "The value of a is : 30\n",
      "30\n"
     ]
    }
   ],
   "source": [
    "a = 20\n",
    "def val() :\n",
    "    global a\n",
    "    a = 30\n",
    "    print('The value of a is :',a)\n",
    "val()    \n",
    "print(a)    "
   ]
  },
  {
   "cell_type": "code",
   "execution_count": 45,
   "id": "45e93147",
   "metadata": {},
   "outputs": [
    {
     "name": "stdout",
     "output_type": "stream",
     "text": [
      "100\n",
      "50\n"
     ]
    }
   ],
   "source": [
    "num1 = 40\n",
    "def addition(num2,num3):\n",
    "    global num1\n",
    "    num1 = num2 + num3\n",
    "    add = num1+num2+num3\n",
    "    print(add)\n",
    "addition(20,30)\n",
    "print(num1)"
   ]
  },
  {
   "cell_type": "code",
   "execution_count": 50,
   "id": "94393345",
   "metadata": {},
   "outputs": [
    {
     "name": "stdout",
     "output_type": "stream",
     "text": [
      "180\n",
      "90\n"
     ]
    },
    {
     "ename": "NameError",
     "evalue": "name 'num2' is not defined",
     "output_type": "error",
     "traceback": [
      "\u001b[1;31m---------------------------------------------------------------------------\u001b[0m",
      "\u001b[1;31mNameError\u001b[0m                                 Traceback (most recent call last)",
      "Cell \u001b[1;32mIn[50], line 10\u001b[0m\n\u001b[0;32m      8\u001b[0m addition(\u001b[38;5;241m60\u001b[39m,\u001b[38;5;241m30\u001b[39m)\n\u001b[0;32m      9\u001b[0m \u001b[38;5;28mprint\u001b[39m(num1)\n\u001b[1;32m---> 10\u001b[0m \u001b[38;5;28mprint\u001b[39m(num2)\n",
      "\u001b[1;31mNameError\u001b[0m: name 'num2' is not defined"
     ]
    }
   ],
   "source": [
    "num1 = 40\n",
    "def addition(num2,num3):\n",
    "    global num1\n",
    "    num1 = num2 + num3\n",
    "    add = num1+num2+num3\n",
    "    print(add)\n",
    "    return(num2)\n",
    "addition(60,30)\n",
    "print(num1)\n",
    "print(num2)"
   ]
  },
  {
   "cell_type": "code",
   "execution_count": 55,
   "id": "6b2c3b18",
   "metadata": {},
   "outputs": [],
   "source": [
    "#Num2 cannot be printed while it is in a Argumrnt"
   ]
  },
  {
   "cell_type": "code",
   "execution_count": 1,
   "id": "62adb2dd",
   "metadata": {},
   "outputs": [
    {
     "name": "stdout",
     "output_type": "stream",
     "text": [
      "212\n",
      "123\n"
     ]
    }
   ],
   "source": [
    "A = 20\n",
    "def add(C) :\n",
    "    global A\n",
    "    B = 123\n",
    "    A = B + C\n",
    "    return(B)\n",
    "B=add(89)\n",
    "print(A)\n",
    "print(B)\n",
    "    "
   ]
  },
  {
   "cell_type": "code",
   "execution_count": 66,
   "id": "642338b6",
   "metadata": {},
   "outputs": [
    {
     "name": "stdout",
     "output_type": "stream",
     "text": [
      "1100\n"
     ]
    }
   ],
   "source": [
    "bill = 1000\n",
    "def calculate_amount(tip=100):\n",
    "    global total_amount\n",
    "    total_amount = bill + tip\n",
    "    \n",
    "calculate_amount()    \n",
    "print(total_amount)    "
   ]
  },
  {
   "cell_type": "markdown",
   "id": "f5db80dc",
   "metadata": {},
   "source": [
    "-Funtions in function"
   ]
  },
  {
   "cell_type": "code",
   "execution_count": 2,
   "id": "4345f2ca",
   "metadata": {},
   "outputs": [
    {
     "name": "stdout",
     "output_type": "stream",
     "text": [
      "Assalamualikum\n",
      "Sufiyan\n",
      "Are you okay\n"
     ]
    }
   ],
   "source": [
    "def greet():\n",
    "    print('Assalamualikum')\n",
    "def hey():\n",
    "    greet()\n",
    "    print('Sufiyan')\n",
    "    print('Are you okay')\n",
    "hey()\n"
   ]
  },
  {
   "cell_type": "code",
   "execution_count": 74,
   "id": "463ccd48",
   "metadata": {},
   "outputs": [],
   "source": [
    "#simple calculater"
   ]
  },
  {
   "cell_type": "code",
   "execution_count": 5,
   "id": "878bc8d0",
   "metadata": {},
   "outputs": [
    {
     "name": "stdout",
     "output_type": "stream",
     "text": [
      "If you enter the number 1 its addition\n",
      "If you enter the number 2 its substraction\n",
      "If you enter the number 3 its multiplication\n",
      "If you enter the number 4 its division\n",
      "Enter the number between 1 to 4 :2\n",
      "The substraction of 20 & 30 is -10\n"
     ]
    }
   ],
   "source": [
    "def add(a,b):\n",
    "    print('The addition  of {} & {} is {} '.format(a,b,a+b))\n",
    "def sub(a,b):\n",
    "    print('The substraction of {} & {} is {}'.format(a,b,a-b))\n",
    "def mul(a,b) :\n",
    "    print('The multiplication of {} & {} is {} '.format(a,b,a * b))\n",
    "def div(a,b) :\n",
    "    print('The division of {} & {} is {}'.format(a,b,a/b))\n",
    "def calculator(a,b):\n",
    "    print('If you enter the number 1 its addition')\n",
    "    print('If you enter the number 2 its substraction')\n",
    "    print('If you enter the number 3 its multiplication')\n",
    "    print('If you enter the number 4 its division')\n",
    "    number = eval(input(\"Enter the number between 1 to 4 :\"))\n",
    "    if number ==1 :\n",
    "        add(a,b)\n",
    "    elif number ==2 :\n",
    "        sub(a,b)\n",
    "    elif number==3 :\n",
    "        mul(a,b)\n",
    "    else :\n",
    "        div(a,b)\n",
    "calculator(20,30)        "
   ]
  },
  {
   "cell_type": "code",
   "execution_count": null,
   "id": "44f03701",
   "metadata": {},
   "outputs": [],
   "source": []
  }
 ],
 "metadata": {
  "kernelspec": {
   "display_name": "Python 3 (ipykernel)",
   "language": "python",
   "name": "python3"
  },
  "language_info": {
   "codemirror_mode": {
    "name": "ipython",
    "version": 3
   },
   "file_extension": ".py",
   "mimetype": "text/x-python",
   "name": "python",
   "nbconvert_exporter": "python",
   "pygments_lexer": "ipython3",
   "version": "3.11.5"
  }
 },
 "nbformat": 4,
 "nbformat_minor": 5
}
