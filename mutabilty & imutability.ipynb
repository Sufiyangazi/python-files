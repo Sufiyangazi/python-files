{
 "cells": [
  {
   "cell_type": "markdown",
   "id": "78922fd8",
   "metadata": {},
   "source": [
    "- if you can change the value by using index operation it is known as 'mutabule' \n",
    "- if you can't' change the value by using index operation it is known as 'immuable'"
   ]
  },
  {
   "cell_type": "markdown",
   "id": "d6119c0b",
   "metadata": {},
   "source": [
    "- strings are immutable"
   ]
  },
  {
   "cell_type": "code",
   "execution_count": 1,
   "id": "bf02c72e",
   "metadata": {},
   "outputs": [],
   "source": [
    "string1 = 'heloo how are you'"
   ]
  },
  {
   "cell_type": "code",
   "execution_count": 3,
   "id": "2183ea08",
   "metadata": {},
   "outputs": [
    {
     "data": {
      "text/plain": [
       "17"
      ]
     },
     "execution_count": 3,
     "metadata": {},
     "output_type": "execute_result"
    }
   ],
   "source": [
    "len(string1)"
   ]
  },
  {
   "cell_type": "code",
   "execution_count": 2,
   "id": "415c9d1f",
   "metadata": {},
   "outputs": [
    {
     "data": {
      "text/plain": [
       "'loo how '"
      ]
     },
     "execution_count": 2,
     "metadata": {},
     "output_type": "execute_result"
    }
   ],
   "source": [
    "string1[2:10]"
   ]
  },
  {
   "cell_type": "code",
   "execution_count": 4,
   "id": "e89a6a0c",
   "metadata": {},
   "outputs": [
    {
     "data": {
      "text/plain": [
       "'eo o r '"
      ]
     },
     "execution_count": 4,
     "metadata": {},
     "output_type": "execute_result"
    }
   ],
   "source": [
    "string1[1:15:2]"
   ]
  },
  {
   "cell_type": "code",
   "execution_count": 6,
   "id": "abdf9390",
   "metadata": {},
   "outputs": [
    {
     "data": {
      "text/plain": [
       "''"
      ]
     },
     "execution_count": 6,
     "metadata": {},
     "output_type": "execute_result"
    }
   ],
   "source": [
    "string1[1:15:-2]"
   ]
  },
  {
   "cell_type": "code",
   "execution_count": 7,
   "id": "c7db8405",
   "metadata": {},
   "outputs": [
    {
     "data": {
      "text/plain": [
       "'heloo how are you'"
      ]
     },
     "execution_count": 7,
     "metadata": {},
     "output_type": "execute_result"
    }
   ],
   "source": [
    "string1[:]"
   ]
  },
  {
   "cell_type": "code",
   "execution_count": 8,
   "id": "9034c927",
   "metadata": {},
   "outputs": [
    {
     "data": {
      "text/plain": [
       "'heloo how are you'"
      ]
     },
     "execution_count": 8,
     "metadata": {},
     "output_type": "execute_result"
    }
   ],
   "source": [
    "string1[0:]"
   ]
  },
  {
   "cell_type": "code",
   "execution_count": 9,
   "id": "912e0c8f",
   "metadata": {},
   "outputs": [
    {
     "data": {
      "text/plain": [
       "'heloo how are you'"
      ]
     },
     "execution_count": 9,
     "metadata": {},
     "output_type": "execute_result"
    }
   ],
   "source": [
    "string1[:len(string1)]"
   ]
  },
  {
   "cell_type": "code",
   "execution_count": 10,
   "id": "b0ff1f09",
   "metadata": {},
   "outputs": [
    {
     "data": {
      "text/plain": [
       "'heloo how are you'"
      ]
     },
     "execution_count": 10,
     "metadata": {},
     "output_type": "execute_result"
    }
   ],
   "source": [
    "string1[::]"
   ]
  },
  {
   "cell_type": "code",
   "execution_count": 11,
   "id": "7a5d7e71",
   "metadata": {},
   "outputs": [
    {
     "data": {
      "text/plain": [
       "'heloo how are you'"
      ]
     },
     "execution_count": 11,
     "metadata": {},
     "output_type": "execute_result"
    }
   ],
   "source": [
    "string1[:]"
   ]
  },
  {
   "cell_type": "code",
   "execution_count": 13,
   "id": "8b4e44f8",
   "metadata": {},
   "outputs": [
    {
     "data": {
      "text/plain": [
       "'h'"
      ]
     },
     "execution_count": 13,
     "metadata": {},
     "output_type": "execute_result"
    }
   ],
   "source": [
    "string1[-len(string1)]"
   ]
  },
  {
   "cell_type": "code",
   "execution_count": 14,
   "id": "5e2ef871",
   "metadata": {},
   "outputs": [
    {
     "name": "stdout",
     "output_type": "stream",
     "text": [
      "-17\n"
     ]
    }
   ],
   "source": [
    "print(-len(string1))"
   ]
  },
  {
   "cell_type": "code",
   "execution_count": 15,
   "id": "e7f1a1eb",
   "metadata": {},
   "outputs": [
    {
     "data": {
      "text/plain": [
       "''"
      ]
     },
     "execution_count": 15,
     "metadata": {},
     "output_type": "execute_result"
    }
   ],
   "source": [
    "string1[-2:-15]"
   ]
  },
  {
   "cell_type": "code",
   "execution_count": 17,
   "id": "da30d650",
   "metadata": {},
   "outputs": [
    {
     "data": {
      "text/plain": [
       "'uoy era woh ooleh'"
      ]
     },
     "execution_count": 17,
     "metadata": {},
     "output_type": "execute_result"
    }
   ],
   "source": [
    "string1[::-1]"
   ]
  },
  {
   "cell_type": "code",
   "execution_count": 21,
   "id": "6741e886",
   "metadata": {},
   "outputs": [
    {
     "data": {
      "text/plain": [
       "'eh'"
      ]
     },
     "execution_count": 21,
     "metadata": {},
     "output_type": "execute_result"
    }
   ],
   "source": [
    "string1[1::-1]"
   ]
  },
  {
   "cell_type": "code",
   "execution_count": 24,
   "id": "9cd1209b",
   "metadata": {},
   "outputs": [
    {
     "data": {
      "text/plain": [
       "'e'"
      ]
     },
     "execution_count": 24,
     "metadata": {},
     "output_type": "execute_result"
    }
   ],
   "source": [
    "string1[1::-7]"
   ]
  },
  {
   "cell_type": "code",
   "execution_count": 25,
   "id": "e5026aa5",
   "metadata": {},
   "outputs": [
    {
     "data": {
      "text/plain": [
       "'heloo how are you'"
      ]
     },
     "execution_count": 25,
     "metadata": {},
     "output_type": "execute_result"
    }
   ],
   "source": [
    "string1[::]"
   ]
  },
  {
   "cell_type": "markdown",
   "id": "5fe2c1eb",
   "metadata": {},
   "source": [
    "## string methods"
   ]
  },
  {
   "cell_type": "code",
   "execution_count": 28,
   "id": "4ccec886",
   "metadata": {},
   "outputs": [
    {
     "data": {
      "text/plain": [
       "['__add__',\n",
       " '__class__',\n",
       " '__contains__',\n",
       " '__delattr__',\n",
       " '__dir__',\n",
       " '__doc__',\n",
       " '__eq__',\n",
       " '__format__',\n",
       " '__ge__',\n",
       " '__getattribute__',\n",
       " '__getitem__',\n",
       " '__getnewargs__',\n",
       " '__getstate__',\n",
       " '__gt__',\n",
       " '__hash__',\n",
       " '__init__',\n",
       " '__init_subclass__',\n",
       " '__iter__',\n",
       " '__le__',\n",
       " '__len__',\n",
       " '__lt__',\n",
       " '__mod__',\n",
       " '__mul__',\n",
       " '__ne__',\n",
       " '__new__',\n",
       " '__reduce__',\n",
       " '__reduce_ex__',\n",
       " '__repr__',\n",
       " '__rmod__',\n",
       " '__rmul__',\n",
       " '__setattr__',\n",
       " '__sizeof__',\n",
       " '__str__',\n",
       " '__subclasshook__',\n",
       " 'capitalize',\n",
       " 'casefold',\n",
       " 'center',\n",
       " 'count',\n",
       " 'encode',\n",
       " 'endswith',\n",
       " 'expandtabs',\n",
       " 'find',\n",
       " 'format',\n",
       " 'format_map',\n",
       " 'index',\n",
       " 'isalnum',\n",
       " 'isalpha',\n",
       " 'isascii',\n",
       " 'isdecimal',\n",
       " 'isdigit',\n",
       " 'isidentifier',\n",
       " 'islower',\n",
       " 'isnumeric',\n",
       " 'isprintable',\n",
       " 'isspace',\n",
       " 'istitle',\n",
       " 'isupper',\n",
       " 'join',\n",
       " 'ljust',\n",
       " 'lower',\n",
       " 'lstrip',\n",
       " 'maketrans',\n",
       " 'partition',\n",
       " 'removeprefix',\n",
       " 'removesuffix',\n",
       " 'replace',\n",
       " 'rfind',\n",
       " 'rindex',\n",
       " 'rjust',\n",
       " 'rpartition',\n",
       " 'rsplit',\n",
       " 'rstrip',\n",
       " 'split',\n",
       " 'splitlines',\n",
       " 'startswith',\n",
       " 'strip',\n",
       " 'swapcase',\n",
       " 'title',\n",
       " 'translate',\n",
       " 'upper',\n",
       " 'zfill']"
      ]
     },
     "execution_count": 28,
     "metadata": {},
     "output_type": "execute_result"
    }
   ],
   "source": [
    "dir('name')"
   ]
  },
  {
   "cell_type": "code",
   "execution_count": 50,
   "id": "277854df",
   "metadata": {},
   "outputs": [],
   "source": [
    "word1 = 'sufiyan'\n",
    "word2  ='Qutub'"
   ]
  },
  {
   "cell_type": "code",
   "execution_count": null,
   "id": "8032ec40",
   "metadata": {},
   "outputs": [],
   "source": []
  },
  {
   "cell_type": "code",
   "execution_count": null,
   "id": "4aae2f1f",
   "metadata": {},
   "outputs": [],
   "source": []
  },
  {
   "cell_type": "code",
   "execution_count": null,
   "id": "9beb458e",
   "metadata": {},
   "outputs": [],
   "source": []
  },
  {
   "cell_type": "code",
   "execution_count": null,
   "id": "f81e32ce",
   "metadata": {},
   "outputs": [],
   "source": []
  },
  {
   "cell_type": "code",
   "execution_count": null,
   "id": "4b1a6265",
   "metadata": {},
   "outputs": [],
   "source": []
  },
  {
   "cell_type": "code",
   "execution_count": null,
   "id": "a4871f7e",
   "metadata": {},
   "outputs": [],
   "source": []
  },
  {
   "cell_type": "code",
   "execution_count": 29,
   "id": "b279dc1a",
   "metadata": {},
   "outputs": [],
   "source": [
    "name = 'sufiyan'"
   ]
  },
  {
   "cell_type": "code",
   "execution_count": 31,
   "id": "fac80644",
   "metadata": {},
   "outputs": [
    {
     "name": "stdout",
     "output_type": "stream",
     "text": [
      "Help on built-in function capitalize:\n",
      "\n",
      "capitalize() method of builtins.str instance\n",
      "    Return a capitalized version of the string.\n",
      "    \n",
      "    More specifically, make the first character have upper case and the rest lower\n",
      "    case.\n",
      "\n"
     ]
    }
   ],
   "source": [
    "help(name.capitalize)"
   ]
  },
  {
   "cell_type": "code",
   "execution_count": 32,
   "id": "608adeea",
   "metadata": {},
   "outputs": [
    {
     "data": {
      "text/plain": [
       "'Sufiyan'"
      ]
     },
     "execution_count": 32,
     "metadata": {},
     "output_type": "execute_result"
    }
   ],
   "source": [
    "name.capitalize()"
   ]
  },
  {
   "cell_type": "markdown",
   "id": "c836f8a2",
   "metadata": {},
   "source": [
    "## Upper "
   ]
  },
  {
   "cell_type": "code",
   "execution_count": 36,
   "id": "3adedff7",
   "metadata": {},
   "outputs": [
    {
     "name": "stdout",
     "output_type": "stream",
     "text": [
      "Help on built-in function upper:\n",
      "\n",
      "upper() method of builtins.str instance\n",
      "    Return a copy of the string converted to uppercase.\n",
      "\n"
     ]
    }
   ],
   "source": [
    "name = 'Qutub'\n",
    "help(name.upper)"
   ]
  },
  {
   "cell_type": "code",
   "execution_count": 37,
   "id": "34e3e1f7",
   "metadata": {},
   "outputs": [
    {
     "data": {
      "text/plain": [
       "'QUTUB'"
      ]
     },
     "execution_count": 37,
     "metadata": {},
     "output_type": "execute_result"
    }
   ],
   "source": [
    "name.upper()"
   ]
  },
  {
   "cell_type": "markdown",
   "id": "7669f0ba",
   "metadata": {},
   "source": [
    "## lower"
   ]
  },
  {
   "cell_type": "code",
   "execution_count": 38,
   "id": "639917a8",
   "metadata": {},
   "outputs": [
    {
     "data": {
      "text/plain": [
       "'qutub'"
      ]
     },
     "execution_count": 38,
     "metadata": {},
     "output_type": "execute_result"
    }
   ],
   "source": [
    "name = 'QUTUB'\n",
    "name.lower()"
   ]
  },
  {
   "cell_type": "code",
   "execution_count": 39,
   "id": "ca61c09b",
   "metadata": {},
   "outputs": [
    {
     "name": "stdout",
     "output_type": "stream",
     "text": [
      "Help on built-in function replace:\n",
      "\n",
      "replace(old, new, count=-1, /) method of builtins.str instance\n",
      "    Return a copy with all occurrences of substring old replaced by new.\n",
      "    \n",
      "      count\n",
      "        Maximum number of occurrences to replace.\n",
      "        -1 (the default value) means replace all occurrences.\n",
      "    \n",
      "    If the optional argument count is given, only the first count occurrences are\n",
      "    replaced.\n",
      "\n"
     ]
    }
   ],
   "source": [
    "help(name.replace)"
   ]
  },
  {
   "cell_type": "code",
   "execution_count": 44,
   "id": "29ad9bd2",
   "metadata": {},
   "outputs": [
    {
     "data": {
      "text/plain": [
       "'QUTUB'"
      ]
     },
     "execution_count": 44,
     "metadata": {},
     "output_type": "execute_result"
    }
   ],
   "source": [
    "name1 = 'qutub'\n",
    "name2 = 'sufiyan'\n",
    "name.replace(name1,name2)"
   ]
  },
  {
   "cell_type": "code",
   "execution_count": 48,
   "id": "75533726",
   "metadata": {},
   "outputs": [],
   "source": [
    "word = 'sufiyan SHAIK'"
   ]
  },
  {
   "cell_type": "code",
   "execution_count": 46,
   "id": "bfc81f42",
   "metadata": {},
   "outputs": [
    {
     "name": "stdout",
     "output_type": "stream",
     "text": [
      "Help on built-in function casefold:\n",
      "\n",
      "casefold() method of builtins.str instance\n",
      "    Return a version of the string suitable for caseless comparisons.\n",
      "\n"
     ]
    }
   ],
   "source": [
    "help(word.casefold)"
   ]
  },
  {
   "cell_type": "code",
   "execution_count": 49,
   "id": "873a5e8b",
   "metadata": {},
   "outputs": [
    {
     "data": {
      "text/plain": [
       "'sufiyan shaik'"
      ]
     },
     "execution_count": 49,
     "metadata": {},
     "output_type": "execute_result"
    }
   ],
   "source": [
    "word.casefold()"
   ]
  },
  {
   "cell_type": "code",
   "execution_count": 53,
   "id": "ecac3b4a",
   "metadata": {},
   "outputs": [],
   "source": [
    "string1 = 'heloo'\n"
   ]
  },
  {
   "cell_type": "code",
   "execution_count": 60,
   "id": "37312452",
   "metadata": {},
   "outputs": [
    {
     "data": {
      "text/plain": [
       "'h'"
      ]
     },
     "execution_count": 60,
     "metadata": {},
     "output_type": "execute_result"
    }
   ],
   "source": [
    "string1[0::5]"
   ]
  },
  {
   "cell_type": "code",
   "execution_count": 61,
   "id": "152c43b9",
   "metadata": {},
   "outputs": [],
   "source": [
    "string2 = 'H'\n",
    "\n"
   ]
  },
  {
   "cell_type": "code",
   "execution_count": 67,
   "id": "a8c8861a",
   "metadata": {},
   "outputs": [
    {
     "data": {
      "text/plain": [
       "'Heloo'"
      ]
     },
     "execution_count": 67,
     "metadata": {},
     "output_type": "execute_result"
    }
   ],
   "source": [
    "string1 = 'heloo'\n",
    "string2 = 'H'\n",
    "string3=string1[1:]\n",
    "string2+string3"
   ]
  },
  {
   "cell_type": "code",
   "execution_count": 5,
   "id": "3b0340ff",
   "metadata": {},
   "outputs": [
    {
     "data": {
      "text/plain": [
       "'Sufiyan'"
      ]
     },
     "execution_count": 5,
     "metadata": {},
     "output_type": "execute_result"
    }
   ],
   "source": [
    "string1 = 'sufiyan'\n",
    "string2 = 'S'\n",
    "string3 = string1[1:]\n",
    "string2+string3\n"
   ]
  },
  {
   "cell_type": "code",
   "execution_count": 6,
   "id": "752b60e7",
   "metadata": {},
   "outputs": [
    {
     "data": {
      "text/plain": [
       "'ufiyan'"
      ]
     },
     "execution_count": 6,
     "metadata": {},
     "output_type": "execute_result"
    }
   ],
   "source": [
    "string1[1:]"
   ]
  },
  {
   "cell_type": "code",
   "execution_count": null,
   "id": "96656ba8",
   "metadata": {},
   "outputs": [],
   "source": [
    "stri"
   ]
  },
  {
   "cell_type": "markdown",
   "id": "236d58f6",
   "metadata": {},
   "source": [
    "## Replace"
   ]
  },
  {
   "cell_type": "code",
   "execution_count": 3,
   "id": "ca30347a",
   "metadata": {},
   "outputs": [],
   "source": [
    "string1 = 'welcome'"
   ]
  },
  {
   "cell_type": "code",
   "execution_count": 7,
   "id": "2e331847",
   "metadata": {},
   "outputs": [
    {
     "data": {
      "text/plain": [
       "'weLcome'"
      ]
     },
     "execution_count": 7,
     "metadata": {},
     "output_type": "execute_result"
    }
   ],
   "source": [
    "string1.replace('l','L') #by using replace method   "
   ]
  },
  {
   "cell_type": "code",
   "execution_count": 8,
   "id": "f7efd6f5",
   "metadata": {},
   "outputs": [
    {
     "data": {
      "text/plain": [
       "'weLcome'"
      ]
     },
     "execution_count": 8,
     "metadata": {},
     "output_type": "execute_result"
    }
   ],
   "source": [
    "string1[:2]+'L'+string1[3:] # by using slicing concatination"
   ]
  },
  {
   "cell_type": "code",
   "execution_count": 15,
   "id": "a546085d",
   "metadata": {},
   "outputs": [
    {
     "data": {
      "text/plain": [
       "'$estart'"
      ]
     },
     "execution_count": 15,
     "metadata": {},
     "output_type": "execute_result"
    }
   ],
   "source": [
    "'restart'.replace('r','$',1)"
   ]
  },
  {
   "cell_type": "code",
   "execution_count": 25,
   "id": "0ba859d9",
   "metadata": {},
   "outputs": [
    {
     "data": {
      "text/plain": [
       "'$esta$t'"
      ]
     },
     "execution_count": 25,
     "metadata": {},
     "output_type": "execute_result"
    }
   ],
   "source": [
    "'restart'.replace('r','$',6)"
   ]
  },
  {
   "cell_type": "code",
   "execution_count": 27,
   "id": "691502a1",
   "metadata": {},
   "outputs": [
    {
     "data": {
      "text/plain": [
       "'resta$t'"
      ]
     },
     "execution_count": 27,
     "metadata": {},
     "output_type": "execute_result"
    }
   ],
   "source": [
    "string1 = 'restart'\n",
    "string1[::-1].replace('r','$',1)[::-1]"
   ]
  },
  {
   "cell_type": "code",
   "execution_count": 28,
   "id": "62c51f77",
   "metadata": {},
   "outputs": [
    {
     "data": {
      "text/plain": [
       "'resta$t'"
      ]
     },
     "execution_count": 28,
     "metadata": {},
     "output_type": "execute_result"
    }
   ],
   "source": [
    "string1[:1]+string1[1:].replace('r',\"$\",1)"
   ]
  },
  {
   "cell_type": "code",
   "execution_count": 32,
   "id": "37be726e",
   "metadata": {},
   "outputs": [
    {
     "name": "stdout",
     "output_type": "stream",
     "text": [
      "resta$t\n"
     ]
    }
   ],
   "source": [
    "str1 = string1[1:]\n",
    "str2 = string1[:1]\n",
    "str3 = str1.replace('r','$',1)\n",
    "print(str2+str3)"
   ]
  },
  {
   "cell_type": "code",
   "execution_count": 34,
   "id": "36605bfb",
   "metadata": {},
   "outputs": [],
   "source": [
    "string2 = 'welcome'"
   ]
  },
  {
   "cell_type": "code",
   "execution_count": 37,
   "id": "4353df84",
   "metadata": {},
   "outputs": [
    {
     "data": {
      "text/plain": [
       "'welcom@'"
      ]
     },
     "execution_count": 37,
     "metadata": {},
     "output_type": "execute_result"
    }
   ],
   "source": [
    "string2[::-1].replace('e','@',1)[::-1]"
   ]
  },
  {
   "cell_type": "code",
   "execution_count": 52,
   "id": "049d593b",
   "metadata": {},
   "outputs": [
    {
     "name": "stdout",
     "output_type": "stream",
     "text": [
      "3 7 11\n"
     ]
    }
   ],
   "source": [
    "string1 = 'restrart python'\n",
    "f_o = string1.index('t')\n",
    "s_o = string1.index('t',f_o+1)\n",
    "t_o = string1.index('t',s_o+1)\n",
    "print(f_o,s_o,t_o)"
   ]
  },
  {
   "cell_type": "code",
   "execution_count": 53,
   "id": "7b3c3802",
   "metadata": {},
   "outputs": [
    {
     "name": "stdout",
     "output_type": "stream",
     "text": [
      "0\n"
     ]
    }
   ],
   "source": [
    "print(string1.count('T'))"
   ]
  },
  {
   "cell_type": "code",
   "execution_count": 54,
   "id": "7877f82f",
   "metadata": {},
   "outputs": [
    {
     "ename": "ValueError",
     "evalue": "substring not found",
     "output_type": "error",
     "traceback": [
      "\u001b[1;31m---------------------------------------------------------------------------\u001b[0m",
      "\u001b[1;31mValueError\u001b[0m                                Traceback (most recent call last)",
      "Cell \u001b[1;32mIn[54], line 1\u001b[0m\n\u001b[1;32m----> 1\u001b[0m \u001b[38;5;28mprint\u001b[39m(string1\u001b[38;5;241m.\u001b[39mindex(\u001b[38;5;124m'\u001b[39m\u001b[38;5;124mT\u001b[39m\u001b[38;5;124m'\u001b[39m))\n",
      "\u001b[1;31mValueError\u001b[0m: substring not found"
     ]
    }
   ],
   "source": [
    "print(string1.index('T'))"
   ]
  },
  {
   "cell_type": "code",
   "execution_count": 55,
   "id": "306f358a",
   "metadata": {},
   "outputs": [
    {
     "name": "stdout",
     "output_type": "stream",
     "text": [
      "restrart python\n"
     ]
    }
   ],
   "source": [
    "print(string1.replace('T','&'))"
   ]
  },
  {
   "cell_type": "markdown",
   "id": "494932bd",
   "metadata": {},
   "source": [
    "## find"
   ]
  },
  {
   "cell_type": "code",
   "execution_count": 61,
   "id": "65ba0f5d",
   "metadata": {},
   "outputs": [
    {
     "data": {
      "text/plain": [
       "-1"
      ]
     },
     "execution_count": 61,
     "metadata": {},
     "output_type": "execute_result"
    }
   ],
   "source": [
    "string1.find('z')"
   ]
  },
  {
   "cell_type": "markdown",
   "id": "0b8f23da",
   "metadata": {},
   "source": [
    "##split"
   ]
  },
  {
   "cell_type": "code",
   "execution_count": 63,
   "id": "8346ba17",
   "metadata": {},
   "outputs": [
    {
     "data": {
      "text/plain": [
       "['hai', 'how', 'are', 'you']"
      ]
     },
     "execution_count": 63,
     "metadata": {},
     "output_type": "execute_result"
    }
   ],
   "source": [
    "string1 = 'hai how are you'\n",
    "string1.split()"
   ]
  },
  {
   "cell_type": "code",
   "execution_count": 70,
   "id": "a5542f1d",
   "metadata": {},
   "outputs": [
    {
     "data": {
      "text/plain": [
       "['what ', ' you']"
      ]
     },
     "execution_count": 70,
     "metadata": {},
     "output_type": "execute_result"
    }
   ],
   "source": [
    "string2 = 'what are you'\n",
    "string2.split('are')"
   ]
  },
  {
   "cell_type": "code",
   "execution_count": null,
   "id": "29b6709d",
   "metadata": {},
   "outputs": [],
   "source": []
  }
 ],
 "metadata": {
  "kernelspec": {
   "display_name": "Python 3 (ipykernel)",
   "language": "python",
   "name": "python3"
  },
  "language_info": {
   "codemirror_mode": {
    "name": "ipython",
    "version": 3
   },
   "file_extension": ".py",
   "mimetype": "text/x-python",
   "name": "python",
   "nbconvert_exporter": "python",
   "pygments_lexer": "ipython3",
   "version": "3.11.5"
  }
 },
 "nbformat": 4,
 "nbformat_minor": 5
}
