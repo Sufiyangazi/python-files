{
 "cells": [
  {
   "cell_type": "code",
   "execution_count": 7,
   "id": "7922ea5f",
   "metadata": {},
   "outputs": [
    {
     "name": "stdout",
     "output_type": "stream",
     "text": [
      "0 1 2 3 4 5 6 7 8 9 10 11 12 13 14 15 16 17 "
     ]
    }
   ],
   "source": [
    "i = 0\n",
    "while True :\n",
    "    if i == 18 :\n",
    "        break\n",
    "    print(i,end = ' ')\n",
    "    i = i + 1\n",
    "        "
   ]
  },
  {
   "cell_type": "code",
   "execution_count": 7,
   "id": "47aa449a",
   "metadata": {
    "scrolled": true
   },
   "outputs": [
    {
     "name": "stdout",
     "output_type": "stream",
     "text": [
      "the square of 81 is 6561\n",
      "the square of 29 is 841\n",
      "the square of 92 is 8464\n",
      "the square of 95 is 9025\n",
      "the square of 60 is 3600\n",
      "the square of 9 is 81\n",
      "the square of 86 is 7396\n",
      "the square of 26 is 676\n",
      "the square of 14 is 196\n",
      "the square of 23 is 529\n",
      "the square of 72 is 5184\n",
      "the square of 88 is 7744\n",
      "the square of 22 is 484\n",
      "the square of 60 is 3600\n",
      "the square of 16 is 256\n",
      "the total numbers are 14\n"
     ]
    }
   ],
   "source": [
    "import random\n",
    "count = 0\n",
    "i = 0\n",
    "num = 1\n",
    "while True:\n",
    "    num = random.randint(1,100)\n",
    "    sq = num*num\n",
    "    print('the square of {} is {}'.format(num,sq))\n",
    "    i = i + 1\n",
    "    if i==15:\n",
    "        break\n",
    "    count = count + 1\n",
    "print('the total numbers are',count)    "
   ]
  },
  {
   "cell_type": "code",
   "execution_count": 9,
   "id": "dc4199d3",
   "metadata": {
    "scrolled": true
   },
   "outputs": [
    {
     "name": "stdout",
     "output_type": "stream",
     "text": [
      "its an even number\n",
      "its an odd number\n",
      "its an even number\n",
      "its an odd number\n",
      "its an even number\n",
      "its an odd number\n",
      "its an even number\n",
      "its an odd number\n",
      "its an even number\n",
      "its an odd number\n",
      "its an even number\n",
      "its an odd number\n",
      "its an even number\n",
      "its an odd number\n",
      "its an even number\n",
      "its an odd number\n",
      "its an even number\n",
      "its an odd number\n",
      "its an even number\n",
      "its an odd number\n",
      "its an even number\n"
     ]
    }
   ],
   "source": [
    "def evenodd():\n",
    "    try:\n",
    "        i = 0\n",
    "        while True:\n",
    "            if i%2 == 0:\n",
    "                print('its an even number')\n",
    "            else:\n",
    "                print('its an odd number')\n",
    "            i = i + 1\n",
    "            if i == 21:\n",
    "                break\n",
    "    except Exception as e:\n",
    "        print(e)\n",
    "evenodd()        "
   ]
  },
  {
   "cell_type": "code",
   "execution_count": 16,
   "id": "e4202259",
   "metadata": {},
   "outputs": [
    {
     "data": {
      "text/plain": [
       "['_STRUCT_TM_ITEMS',\n",
       " '__doc__',\n",
       " '__loader__',\n",
       " '__name__',\n",
       " '__package__',\n",
       " '__spec__',\n",
       " 'altzone',\n",
       " 'asctime',\n",
       " 'ctime',\n",
       " 'daylight',\n",
       " 'get_clock_info',\n",
       " 'gmtime',\n",
       " 'localtime',\n",
       " 'mktime',\n",
       " 'monotonic',\n",
       " 'monotonic_ns',\n",
       " 'perf_counter',\n",
       " 'perf_counter_ns',\n",
       " 'process_time',\n",
       " 'process_time_ns',\n",
       " 'sleep',\n",
       " 'strftime',\n",
       " 'strptime',\n",
       " 'struct_time',\n",
       " 'thread_time',\n",
       " 'thread_time_ns',\n",
       " 'time',\n",
       " 'time_ns',\n",
       " 'timezone',\n",
       " 'tzname']"
      ]
     },
     "execution_count": 16,
     "metadata": {},
     "output_type": "execute_result"
    }
   ],
   "source": [
    "import time\n",
    "dir(time)"
   ]
  },
  {
   "cell_type": "code",
   "execution_count": 19,
   "id": "e7b0bb20",
   "metadata": {},
   "outputs": [
    {
     "name": "stdout",
     "output_type": "stream",
     "text": [
      "98 is an even number 0\n",
      "47 is an odd number 1\n",
      "92 is an even number 2\n",
      "5 is an odd number 3\n",
      "13 is an odd number 4\n",
      "44 is an even number 5\n",
      "4 is an even number 6\n",
      "5 is an odd number 7\n",
      "90 is an even number 8\n",
      "35 is an odd number 9\n",
      "37 is an odd number 10\n",
      "92 is an even number 11\n",
      "3 is an odd number 12\n",
      "18 is an even number 13\n",
      "84 is an even number 14\n",
      "14 is an even number 15\n",
      "64 is an even number 16\n",
      "41 is an odd number 17\n",
      "93 is an odd number 18\n",
      "65 is an odd number 19\n",
      "79 is an odd number 20\n",
      "71 is an odd number 21\n",
      "68 is an even number 22\n",
      "37 is an odd number 23\n",
      "88 is an even number 24\n",
      "15 is an odd number 25\n",
      "70 is an even number 26\n",
      "the total time = 0.0009949207305908203 sec\n"
     ]
    }
   ],
   "source": [
    "import random\n",
    "import time\n",
    "start = time.time()\n",
    "def evod_random():\n",
    "    try:\n",
    "        i = 0\n",
    "        num = 1\n",
    "        while True:\n",
    "            num = random.randint(1,100)\n",
    "            if num%2 == 0:\n",
    "                print('{} is an even number'.format(num),i)\n",
    "            else:\n",
    "                print('{} is an odd number'.format(num),i)\n",
    "            i = i + 1\n",
    "            if i == 27:\n",
    "                break    \n",
    "    except Exception as e:\n",
    "        print(e)\n",
    "evod_random()\n",
    "end = time.time()\n",
    "print('the total time = {} sec'.format(end-start))"
   ]
  },
  {
   "cell_type": "code",
   "execution_count": 13,
   "id": "ad710b1b",
   "metadata": {},
   "outputs": [
    {
     "name": "stdout",
     "output_type": "stream",
     "text": [
      "The square of 6 is 36 \n",
      "The square of 33 is 1089 \n",
      "The square of 3 is 9 \n",
      "The square of 38 is 1444 \n",
      "The square of 9 is 81 \n",
      "The square of 99 is 9801 \n",
      "The square of 37 is 1369 \n",
      "The square of 46 is 2116 \n",
      "The square of 38 is 1444 \n",
      "The square of 36 is 1296 \n"
     ]
    }
   ],
   "source": [
    "import random\n",
    "i = 0\n",
    "num = 1\n",
    "while True:\n",
    "    num = random.randint(1,100)\n",
    "    sq = num**2\n",
    "    print('The square of {} is {} '.format(num,sq))\n",
    "    i = i + 1\n",
    "    if i ==10 :\n",
    "        break        "
   ]
  },
  {
   "cell_type": "code",
   "execution_count": 50,
   "id": "ca60d10b",
   "metadata": {},
   "outputs": [
    {
     "name": "stdout",
     "output_type": "stream",
     "text": [
      "           420\n"
     ]
    }
   ],
   "source": [
    "# Create a program that calculates the sum of all even numbers between 1 and 20 using a for loop.\n",
    "def sum_of_even_numbers() :\n",
    "    try :\n",
    "        for i in range (21) :\n",
    "            if i%2 == 0 :\n",
    "                print(end = ' ')\n",
    "                num = i*(i + 1)\n",
    "        print(num)\n",
    "    except Exception as e :\n",
    "        print(e)\n",
    "sum_of_even_numbers()"
   ]
  },
  {
   "cell_type": "code",
   "execution_count": 51,
   "id": "68399a2f",
   "metadata": {},
   "outputs": [
    {
     "name": "stdout",
     "output_type": "stream",
     "text": [
      "55\n"
     ]
    }
   ],
   "source": [
    "i = 1\n",
    "sum1 = 0\n",
    "while i<=10 :\n",
    "    sum1 = sum1 + i\n",
    "    i = i + 1\n",
    "print(sum1) "
   ]
  },
  {
   "cell_type": "code",
   "execution_count": 27,
   "id": "a77d9a52",
   "metadata": {},
   "outputs": [
    {
     "name": "stdout",
     "output_type": "stream",
     "text": [
      "342 6 6 20 20 42 42 72 72 110 110 156 156 210 210 272 272 342 342 420 "
     ]
    }
   ],
   "source": [
    "for i in range (1,21) :\n",
    "    if i%2 == 0 :\n",
    "        num = i*(i + 1)\n",
    "    print(num,end = ' ')"
   ]
  },
  {
   "cell_type": "code",
   "execution_count": 30,
   "id": "b3911630",
   "metadata": {},
   "outputs": [
    {
     "name": "stdout",
     "output_type": "stream",
     "text": [
      "420\n"
     ]
    }
   ],
   "source": [
    "def sum_of_even_numbers () :\n",
    "    try :\n",
    "        for i in range(21) :\n",
    "            if i%2 == 0 :\n",
    "                num = i*(i + 1)\n",
    "        print(num)\n",
    "    except Exception as e :\n",
    "        print(e)\n",
    "sum_of_even_numbers()        "
   ]
  },
  {
   "cell_type": "code",
   "execution_count": 44,
   "id": "8379a9a0",
   "metadata": {},
   "outputs": [
    {
     "name": "stdout",
     "output_type": "stream",
     "text": [
      "97 98 99 100 101 102 103 104 105 106 107 108 109 110 111 112 113 114 115 116 117 118 119 120 121 122 65 66 67 68 69 70 71 72 73 74 75 76 77 78 79 80 81 82 83 84 85 86 87 88 89 90 "
     ]
    }
   ],
   "source": [
    "import string\n",
    "for i in string.ascii_lowercase + string.ascii_uppercase :\n",
    "    print(ord(i),end = ' ')\n",
    "        \n",
    "        \n",
    "    "
   ]
  },
  {
   "cell_type": "code",
   "execution_count": 46,
   "id": "5466690b",
   "metadata": {},
   "outputs": [
    {
     "name": "stdout",
     "output_type": "stream",
     "text": [
      "enter the name : Sufiyan\n",
      "1\n",
      "2\n",
      "3\n",
      "4\n",
      "5\n",
      "6\n",
      "7\n",
      "Total count =  7\n"
     ]
    }
   ],
   "source": [
    "name = input('enter the name : ')\n",
    "count = 0\n",
    "for i in name :\n",
    "    count = count + 1\n",
    "    print(count)\n",
    "print('Total count = ',count)    \n",
    "    "
   ]
  },
  {
   "cell_type": "code",
   "execution_count": null,
   "id": "83ac6da4",
   "metadata": {},
   "outputs": [],
   "source": [
    "name  = input('Enter the name : ')\n",
    "count = 0\n",
    "for i in name:\n",
    "    count=count+1\n",
    "    print(count)\n",
    "    \n",
    "print(\"total count \",count)\n",
    "if count>=5 :\n",
    "    print('it is lengthy name')\n",
    "else :\n",
    "    print('It is small')"
   ]
  },
  {
   "cell_type": "code",
   "execution_count": 55,
   "id": "8f1957ba",
   "metadata": {},
   "outputs": [
    {
     "name": "stdout",
     "output_type": "stream",
     "text": [
      "cannot access local variable 'sum2' where it is not associated with a value\n",
      "The time taken is  0.0\n"
     ]
    }
   ],
   "source": [
    "import time\n",
    "import random\n",
    "start  = time.time()\n",
    "num = random.randint(1,20)\n",
    "def sum_of_even_numbers() :\n",
    "    try :\n",
    "        for i in range (num) :\n",
    "            if num%2 == 0 :\n",
    "                print(end = ' ')\n",
    "                sum2 = num*(num + 1)\n",
    "        print(sum2)\n",
    "    except Exception as e :\n",
    "        print(e)\n",
    "sum_of_even_numbers()\n",
    "end = time.time()\n",
    "print('The time taken is ',end-start)"
   ]
  },
  {
   "cell_type": "code",
   "execution_count": 30,
   "id": "90576386",
   "metadata": {},
   "outputs": [
    {
     "name": "stdout",
     "output_type": "stream",
     "text": [
      "Enter the Pasword :fe\n",
      "enter again\n",
      "Enter the Pasword :python\n",
      "You are in\n"
     ]
    }
   ],
   "source": [
    "i = 0\n",
    "while True :\n",
    "    password =input(\"Enter the Pasword :\")\n",
    "    if password=='python' :\n",
    "        print('You are in')\n",
    "        break\n",
    "    else :\n",
    "        print('enter again')\n",
    "        i = i + 1\n",
    "    if i==3 :\n",
    "        break\n",
    "        \n",
    "    "
   ]
  },
  {
   "cell_type": "code",
   "execution_count": 24,
   "id": "66563af6",
   "metadata": {},
   "outputs": [
    {
     "name": "stdout",
     "output_type": "stream",
     "text": [
      "7\n",
      "enter the chances you want to provide :3\n",
      "enter your password :2\n",
      "incorect password 2\n",
      "try using a different password\n",
      "attemps left 2\n",
      "enter your password :2\n",
      "incorect password 2\n",
      "try using a different password\n",
      "attemps left 1\n",
      "enter your password :7\n",
      "Aacces Granted\n",
      "you have taken 8.664392948150635 sec\n"
     ]
    }
   ],
   "source": [
    "import random\n",
    "import time\n",
    "start = time.time()\n",
    "def gues_game():\n",
    "    try:\n",
    "        i = 0\n",
    "        num1 = random.randint(1,10)\n",
    "        print(num1)\n",
    "        chances = eval(input('enter the chances you want to provide :'))\n",
    "        while True:\n",
    "            num2 = eval(input('enter your password :'))\n",
    "            if num1 == num2:\n",
    "                print('Aacces Granted')\n",
    "                break\n",
    "            else:\n",
    "                print('incorect password {}'.format(num2))\n",
    "                print('try using a different password')\n",
    "                print('attemps left {}'.format(chances-i-1))\n",
    "            i = i + 1\n",
    "            if i == chances:\n",
    "                break\n",
    "    except Exception as e:\n",
    "        print(e)\n",
    "gues_game()        \n",
    "end = time.time()\n",
    "print('you have taken {} sec'.format(end-start))"
   ]
  },
  {
   "cell_type": "code",
   "execution_count": 45,
   "id": "bc33831d",
   "metadata": {},
   "outputs": [
    {
     "name": "stdout",
     "output_type": "stream",
     "text": [
      "Enter the user number :4\n",
      "You are out\n",
      "Enter the user number :4\n",
      "You are out\n",
      "Enter the user number :4\n",
      "You are out\n",
      "Enter the user number :4\n",
      "You are out\n",
      "Enter the user number :4\n",
      "You are out\n",
      "Enter the user number :4\n",
      "You are out\n",
      "Enter the user number :4\n",
      "You are out\n",
      "Enter the user number :4\n",
      "You are out\n",
      "Enter the user number :4\n",
      "You are out\n",
      "Enter the user number :4\n",
      "You are out\n",
      "Enter the user number :4\n",
      "You are out\n",
      "Enter the user number :4\n",
      "You are out\n",
      "Enter the user number :4\n",
      "You are out\n",
      "Enter the user number :4\n",
      "You are out\n",
      "Enter the user number :4\n",
      "You are out\n",
      "Enter the user number :4\n",
      "You are out\n",
      "Enter the user number :4\n",
      "You are out\n",
      "Enter the user number :4\n",
      "You are out\n",
      "Enter the user number :4\n",
      "You are out\n",
      "Enter the user number :4\n",
      "You are out\n",
      "Enter the user number :4\n",
      "You are out\n",
      "Enter the user number :4\n",
      "You are out\n",
      "Enter the user number :4\n",
      "You are in\n",
      "Time taken 8.497571229934692\n",
      "chances taken 22\n"
     ]
    }
   ],
   "source": [
    "import random\n",
    "import time\n",
    "start = time.time()\n",
    "trails = 0\n",
    "i = 0\n",
    "while True :\n",
    "    num = random.randint(1,10)\n",
    "    user = eval(input('Enter the user number :'))\n",
    "    i = i + 1\n",
    "    if num == user :\n",
    "        print('You are in')\n",
    "        break\n",
    "    else :\n",
    "        print('You are out')\n",
    "    if i==0 :\n",
    "        break\n",
    "    trails = trails + 1    \n",
    "        \n",
    "end = time.time()\n",
    "print('Time taken',end-start)\n",
    "print('chances taken',trails)"
   ]
  }
 ],
 "metadata": {
  "kernelspec": {
   "display_name": "Python 3 (ipykernel)",
   "language": "python",
   "name": "python3"
  },
  "language_info": {
   "codemirror_mode": {
    "name": "ipython",
    "version": 3
   },
   "file_extension": ".py",
   "mimetype": "text/x-python",
   "name": "python",
   "nbconvert_exporter": "python",
   "pygments_lexer": "ipython3",
   "version": "3.11.5"
  }
 },
 "nbformat": 4,
 "nbformat_minor": 5
}
